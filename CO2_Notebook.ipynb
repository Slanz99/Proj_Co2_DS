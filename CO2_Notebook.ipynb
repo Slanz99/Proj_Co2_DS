{
 "cells": [
  {
   "cell_type": "markdown",
   "metadata": {},
   "source": [
    "# Importing Libarys "
   ]
  },
  {
   "cell_type": "code",
   "execution_count": 35,
   "metadata": {},
   "outputs": [],
   "source": [
    "import pandas as pd\n",
    "import numpy as np\n",
    "import matplotlib.pyplot as plt\n"
   ]
  },
  {
   "cell_type": "markdown",
   "metadata": {},
   "source": [
    "# 2. Datasets\n",
    "\n",
    "1. French Gouverment 2013:\n",
    "2. French Gouverment 2014:\n",
    "3. EAA"
   ]
  },
  {
   "cell_type": "code",
   "execution_count": 36,
   "metadata": {},
   "outputs": [
    {
     "name": "stdout",
     "output_type": "stream",
     "text": [
      "<class 'pandas.core.frame.DataFrame'>\n",
      "RangeIndex: 44850 entries, 0 to 44849\n",
      "Data columns (total 26 columns):\n",
      " #   Column                                Non-Null Count  Dtype  \n",
      "---  ------                                --------------  -----  \n",
      " 0   Marque                                44850 non-null  object \n",
      " 1   Modèle dossier                        44850 non-null  object \n",
      " 2   Modèle UTAC                           44850 non-null  object \n",
      " 3   Désignation commerciale               44850 non-null  object \n",
      " 4   CNIT                                  44850 non-null  object \n",
      " 5   Type Variante Version (TVV)           44850 non-null  object \n",
      " 6   Carburant                             44850 non-null  object \n",
      " 7   Hybride                               44850 non-null  object \n",
      " 8   Puissance administrative              44850 non-null  int64  \n",
      " 9   Puissance maximale (kW)               44850 non-null  float64\n",
      " 10  Boîte de vitesse                      44850 non-null  object \n",
      " 11  Consommation urbaine (l/100km)        44808 non-null  float64\n",
      " 12  Consommation extra-urbaine (l/100km)  44808 non-null  float64\n",
      " 13  Consommation mixte (l/100km)          44811 non-null  float64\n",
      " 14  CO2 (g/km)                            44811 non-null  float64\n",
      " 15  CO type I (g/km)                      44547 non-null  float64\n",
      " 16  HC (g/km)                             10403 non-null  float64\n",
      " 17  NOX (g/km)                            44547 non-null  float64\n",
      " 18  HC+NOX (g/km)                         34191 non-null  float64\n",
      " 19  Particules (g/km)                     41708 non-null  float64\n",
      " 20  masse vide euro min (kg)              44850 non-null  int64  \n",
      " 21  masse vide euro max (kg)              44850 non-null  int64  \n",
      " 22  Champ V9                              44615 non-null  object \n",
      " 23  Date de mise à jour                   44850 non-null  object \n",
      " 24  Carrosserie                           44850 non-null  object \n",
      " 25  gamme                                 44850 non-null  object \n",
      "dtypes: float64(10), int64(3), object(13)\n",
      "memory usage: 8.9+ MB\n"
     ]
    },
    {
     "data": {
      "text/plain": [
       "None"
      ]
     },
     "metadata": {},
     "output_type": "display_data"
    },
    {
     "name": "stdout",
     "output_type": "stream",
     "text": [
      "<class 'pandas.core.frame.DataFrame'>\n",
      "RangeIndex: 55044 entries, 0 to 55043\n",
      "Data columns (total 30 columns):\n",
      " #   Column             Non-Null Count  Dtype  \n",
      "---  ------             --------------  -----  \n",
      " 0   lib_mrq            55044 non-null  object \n",
      " 1   lib_mod_doss       55044 non-null  object \n",
      " 2   lib_mod            55044 non-null  object \n",
      " 3   dscom              55044 non-null  object \n",
      " 4   cnit               55044 non-null  object \n",
      " 5   tvv                55044 non-null  object \n",
      " 6   cod_cbr            55044 non-null  object \n",
      " 7   hybride            55044 non-null  object \n",
      " 8   puiss_admin_98     55044 non-null  int64  \n",
      " 9   puiss_max          55044 non-null  object \n",
      " 10  typ_boite_nb_rapp  55044 non-null  object \n",
      " 11  conso_urb          55001 non-null  object \n",
      " 12  conso_exurb        55001 non-null  object \n",
      " 13  conso_mixte        55010 non-null  object \n",
      " 14  co2                55010 non-null  float64\n",
      " 15  co_typ_1           54886 non-null  object \n",
      " 16  hc                 9773 non-null   object \n",
      " 17  nox                54886 non-null  object \n",
      " 18  hcnox              45156 non-null  object \n",
      " 19  ptcl               52366 non-null  object \n",
      " 20  masse_ordma_min    55044 non-null  int64  \n",
      " 21  masse_ordma_max    55044 non-null  int64  \n",
      " 22  champ_v9           54983 non-null  object \n",
      " 23  date_maj           3247 non-null   object \n",
      " 24  Carrosserie        55044 non-null  object \n",
      " 25  gamme              55044 non-null  object \n",
      " 26  Unnamed: 26        0 non-null      float64\n",
      " 27  Unnamed: 27        0 non-null      float64\n",
      " 28  Unnamed: 28        0 non-null      float64\n",
      " 29  Unnamed: 29        0 non-null      float64\n",
      "dtypes: float64(5), int64(3), object(22)\n",
      "memory usage: 12.6+ MB\n"
     ]
    },
    {
     "data": {
      "text/plain": [
       "None"
      ]
     },
     "metadata": {},
     "output_type": "display_data"
    }
   ],
   "source": [
    "# Dataset French Gouv 2013\n",
    "fg_2013 = pd.read_csv(\"Data/cl_JUIN_2013-complet3.csv\", \n",
    "                      sep=';', encoding='latin-1')\n",
    "\n",
    "display(fg_2013.info())\n",
    "\n",
    "# Dataset French Gouv 2013\n",
    "fg_2014 = pd.read_csv(\"Data/mars-2014-complete.csv\", \n",
    "                      sep=';', encoding='latin-1')\n",
    "\n",
    "display(fg_2014.info())"
   ]
  },
  {
   "cell_type": "markdown",
   "metadata": {},
   "source": [
    "Column Mapping Dictonary"
   ]
  },
  {
   "cell_type": "code",
   "execution_count": null,
   "metadata": {},
   "outputs": [],
   "source": [
    "column_name_mapping = {\n",
    "    'Marque': 'Brand',\n",
    "    'Modèle dossier': 'Model file',\n",
    "    'Modèle UTAC': 'UTAC model',\n",
    "    'Désignation commerciale': 'Commercial designation',\n",
    "    'CNIT': 'CNIT',\n",
    "    'Type Variante Version (TVV)': 'Type Variant Version (TVV)',\n",
    "    'Carburant': 'Fuel',\n",
    "    'Hybride': 'Hybrid',\n",
    "    'Puissance administrative': 'Administrative power',\n",
    "    'Puissance maximale (kW)': 'Maximum power (kW)',\n",
    "    'Boîte de vitesse': 'Transmission',\n",
    "    'Consommation urbaine (l/100km)': 'Urban consumption (l/100km)',\n",
    "    'Consommation extra-urbaine (l/100km)': 'Extra-urban consumption (l/100km)',\n",
    "    'Consommation mixte (l/100km)': 'Combined consumption (l/100km)',\n",
    "    'CO2 (g/km)': 'CO2 (g/km)',\n",
    "    'CO type I (g/km)': 'CO type I (g/km)',\n",
    "    'HC (g/km)': 'HC (g/km)',\n",
    "    'NOX (g/km)': 'NOX (g/km)',\n",
    "    'HC+NOX (g/km)': 'HC+NOX (g/km)',\n",
    "    'Particules (g/km)': 'Particulates (g/km)',\n",
    "    'masse vide euro min (kg)': 'Empty mass euro min (kg)',\n",
    "    'masse vide euro max (kg)': 'Empty mass euro max (kg)',\n",
    "    'Champ V9': 'Field V9',\n",
    "    'Date de mise à jour': 'Update date',\n",
    "    'Carrosserie': 'Body',\n",
    "    'gamme': 'Range'\n",
    "    }"
   ]
  },
  {
   "cell_type": "markdown",
   "metadata": {},
   "source": [
    "Column Translation `fg_2013` and preperation"
   ]
  },
  {
   "cell_type": "code",
   "execution_count": null,
   "metadata": {},
   "outputs": [],
   "source": [
    "# Rename the columns using the mapping dictionary\n",
    "fg_2013.rename(columns=column_name_mapping, inplace=True)\n",
    "\n",
    "# Display the head of the DataFrame after translation and removal of unnamed columns\n",
    "display(fg_2014.head())\n",
    "\n",
    "# Display summary statistics of the DataFrame\n",
    "display(fg_2014.describe())\n",
    "\n",
    "# Display information about the DataFrame (data types, non-null counts, etc.)\n",
    "display(fg_2014.info())"
   ]
  },
  {
   "cell_type": "markdown",
   "metadata": {},
   "source": [
    "Column Translation `fg_2014` and preperation"
   ]
  },
  {
   "cell_type": "code",
   "execution_count": null,
   "metadata": {},
   "outputs": [],
   "source": [
    "# Translation of column names from French to English\n",
    "\n",
    "    # Add translations for other columns as needed\n",
    "\n",
    "\n",
    "# Rename the columns using the translation dictionary\n",
    "fg_2014.rename(columns=column_translation, inplace=True)\n",
    "\n",
    "# Remove the unnamed columns (assuming they are empty)\n",
    "fg_2014 = fg_2014.loc[:, ~fg_2014.columns.str.startswith('Unnamed')]\n",
    "\n",
    "# Display the head of the DataFrame after translation and removal of unnamed columns\n",
    "display(fg_2014.head())\n",
    "\n",
    "# Display summary statistics of the DataFrame\n",
    "display(fg_2014.describe())\n",
    "\n",
    "# Display information about the DataFrame (data types, non-null counts, etc.)\n",
    "display(fg_2014.info())\n",
    "\n"
   ]
  },
  {
   "cell_type": "code",
   "execution_count": null,
   "metadata": {},
   "outputs": [],
   "source": []
  },
  {
   "cell_type": "code",
   "execution_count": null,
   "metadata": {},
   "outputs": [],
   "source": []
  }
 ],
 "metadata": {
  "kernelspec": {
   "display_name": "Python 3",
   "language": "python",
   "name": "python3"
  },
  "language_info": {
   "codemirror_mode": {
    "name": "ipython",
    "version": 3
   },
   "file_extension": ".py",
   "mimetype": "text/x-python",
   "name": "python",
   "nbconvert_exporter": "python",
   "pygments_lexer": "ipython3",
   "version": "3.11.4"
  },
  "orig_nbformat": 4
 },
 "nbformat": 4,
 "nbformat_minor": 2
}

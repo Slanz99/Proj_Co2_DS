{
 "cells": [
  {
   "cell_type": "markdown",
   "metadata": {},
   "source": [
    "# Importing Libarys "
   ]
  },
  {
   "cell_type": "code",
   "execution_count": 35,
   "metadata": {},
   "outputs": [],
   "source": [
    "import pandas as pd\n",
    "import numpy as np\n",
    "import matplotlib.pyplot as plt\n"
   ]
  },
  {
   "cell_type": "markdown",
   "metadata": {},
   "source": [
    "# 2. Datasets\n",
    "\n",
    "1. French Gouverment 2013:\n",
    "2. French Gouverment 2014:\n",
    "3. EAA"
   ]
  },
  {
   "cell_type": "code",
   "execution_count": 1,
   "metadata": {},
   "outputs": [
    {
     "ename": "NameError",
     "evalue": "name 'pd' is not defined",
     "output_type": "error",
     "traceback": [
      "\u001b[1;31m---------------------------------------------------------------------------\u001b[0m",
      "\u001b[1;31mNameError\u001b[0m                                 Traceback (most recent call last)",
      "Cell \u001b[1;32mIn[1], line 2\u001b[0m\n\u001b[0;32m      1\u001b[0m \u001b[39m# Dataset French Gouv 2013\u001b[39;00m\n\u001b[1;32m----> 2\u001b[0m fg_2013 \u001b[39m=\u001b[39m pd\u001b[39m.\u001b[39mread_csv(\u001b[39m\"\u001b[39m\u001b[39mData/cl_JUIN_2013-complet3.csv\u001b[39m\u001b[39m\"\u001b[39m, \n\u001b[0;32m      3\u001b[0m                       sep\u001b[39m=\u001b[39m\u001b[39m'\u001b[39m\u001b[39m;\u001b[39m\u001b[39m'\u001b[39m, encoding\u001b[39m=\u001b[39m\u001b[39m'\u001b[39m\u001b[39mlatin-1\u001b[39m\u001b[39m'\u001b[39m)\n\u001b[0;32m      5\u001b[0m display(fg_2013\u001b[39m.\u001b[39minfo())\n\u001b[0;32m      7\u001b[0m \u001b[39m# Dataset French Gouv 2013\u001b[39;00m\n",
      "\u001b[1;31mNameError\u001b[0m: name 'pd' is not defined"
     ]
    }
   ],
   "source": [
    "# Dataset French Gouv 2013\n",
    "fg_2013 = pd.read_csv(\"Data/cl_JUIN_2013-complet3.csv\", \n",
    "                      sep=';', encoding='latin-1')\n",
    "\n",
    "display(fg_2013.info())\n",
    "\n",
    "# Dataset French Gouv 2013\n",
    "fg_2014 = pd.read_csv(\"Data/mars-2014-complete.csv\", \n",
    "                      sep=';', encoding='latin-1')\n",
    "\n",
    "display(fg_2014.info())\n",
    "display(fg_2014.head())"
   ]
  },
  {
   "cell_type": "markdown",
   "metadata": {},
   "source": [
    "## 2.1 Column Mapping Dictonary"
   ]
  },
  {
   "cell_type": "code",
   "execution_count": null,
   "metadata": {},
   "outputs": [],
   "source": [
    "column_name_mapping = {\n",
    "    'Marque': 'Brand',\n",
    "    'Modèle dossier': 'Model file',\n",
    "    'Modèle UTAC': 'UTAC model',\n",
    "    'Désignation commerciale': 'Commercial designation',\n",
    "    'CNIT': 'CNIT',\n",
    "    'Type Variante Version (TVV)': 'Type Variant Version (TVV)',\n",
    "    'Carburant': 'Fuel',\n",
    "    'Hybride': 'Hybrid',\n",
    "    'Puissance administrative': 'Administrative power',\n",
    "    'Puissance maximale (kW)': 'Maximum power (kW)',\n",
    "    'Boîte de vitesse': 'Transmission',\n",
    "    'Consommation urbaine (l/100km)': 'Urban consumption (l/100km)',\n",
    "    'Consommation extra-urbaine (l/100km)': 'Extra-urban consumption (l/100km)',\n",
    "    'Consommation mixte (l/100km)': 'Combined consumption (l/100km)',\n",
    "    'CO2 (g/km)': 'CO2 (g/km)',\n",
    "    'CO type I (g/km)': 'CO type I (g/km)',\n",
    "    'HC (g/km)': 'HC (g/km)',\n",
    "    'NOX (g/km)': 'NOX (g/km)',\n",
    "    'HC+NOX (g/km)': 'HC+NOX (g/km)',\n",
    "    'Particules (g/km)': 'Particulates (g/km)',\n",
    "    'masse vide euro min (kg)': 'Empty mass euro min (kg)',\n",
    "    'masse vide euro max (kg)': 'Empty mass euro max (kg)',\n",
    "    'Champ V9': 'Field V9',\n",
    "    'Date de mise à jour': 'Update date',\n",
    "    'Carrosserie': 'Body',\n",
    "    'gamme': 'Range'\n",
    "    }"
   ]
  },
  {
   "cell_type": "markdown",
   "metadata": {},
   "source": [
    "Column Translation `fg_2013` and preperation"
   ]
  },
  {
   "cell_type": "code",
   "execution_count": null,
   "metadata": {},
   "outputs": [],
   "source": [
    "# Rename the columns using the mapping dictionary\n",
    "fg_2013.rename(columns=column_name_mapping, inplace=True)\n",
    "\n",
    "# Display the head of the DataFrame after translation and removal of unnamed columns\n",
    "display(fg_2014.head())\n",
    "\n",
    "# Display summary statistics of the DataFrame\n",
    "display(fg_2014.describe())\n",
    "\n",
    "# Display information about the DataFrame (data types, non-null counts, etc.)\n",
    "display(fg_2014.info())"
   ]
  },
  {
   "cell_type": "markdown",
   "metadata": {},
   "source": [
    "Column Translation `fg_2014` and preperation"
   ]
  },
  {
   "cell_type": "code",
   "execution_count": null,
   "metadata": {},
   "outputs": [],
   "source": [
    "# Translation of column names from French to English\n",
    "\n",
    "    # Add translations for other columns as needed\n",
    "\n",
    "\n",
    "# Rename the columns using the translation dictionary\n",
    "fg_2014.rename(columns=column_translation, inplace=True)\n",
    "\n",
    "# Remove the unnamed columns (assuming they are empty)\n",
    "fg_2014 = fg_2014.loc[:, ~fg_2014.columns.str.startswith('Unnamed')]\n",
    "\n",
    "# Display the head of the DataFrame after translation and removal of unnamed columns\n",
    "display(fg_2014.head())\n",
    "\n",
    "# Display summary statistics of the DataFrame\n",
    "display(fg_2014.describe())\n",
    "\n",
    "# Display information about the DataFrame (data types, non-null counts, etc.)\n",
    "display(fg_2014.info())\n",
    "\n"
   ]
  },
  {
   "cell_type": "markdown",
   "metadata": {},
   "source": [
    "# 3. Data Exploration"
   ]
  },
  {
   "cell_type": "code",
   "execution_count": null,
   "metadata": {},
   "outputs": [],
   "source": []
  }
 ],
 "metadata": {
  "kernelspec": {
   "display_name": "Python 3",
   "language": "python",
   "name": "python3"
  },
  "language_info": {
   "codemirror_mode": {
    "name": "ipython",
    "version": 3
   },
   "file_extension": ".py",
   "mimetype": "text/x-python",
   "name": "python",
   "nbconvert_exporter": "python",
   "pygments_lexer": "ipython3",
   "version": "3.11.4"
  },
  "orig_nbformat": 4
 },
 "nbformat": 4,
 "nbformat_minor": 2
}

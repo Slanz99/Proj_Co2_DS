{
  "nbformat": 4,
  "nbformat_minor": 0,
  "metadata": {
    "colab": {
      "provenance": [],
      "toc_visible": true,
      "mount_file_id": "1OdRK9G8BJRkwRSCIY8DDRbJbQYql0L2K",
      "authorship_tag": "ABX9TyMnXAzmbeGgwHkrBAiMHR7L",
      "include_colab_link": true
    },
    "kernelspec": {
      "name": "python3",
      "display_name": "Python 3"
    },
    "language_info": {
      "name": "python"
    }
  },
  "cells": [
    {
      "cell_type": "markdown",
      "metadata": {
        "id": "view-in-github",
        "colab_type": "text"
      },
      "source": [
        "<a href=\"https://colab.research.google.com/github/Slanz99/Proj_Co2_DS/blob/C02_Notebook_Colab.ipynb/CO2_Project_DataScientest.ipynb\" target=\"_parent\"><img src=\"https://colab.research.google.com/assets/colab-badge.svg\" alt=\"Open In Colab\"/></a>"
      ]
    },
    {
      "cell_type": "markdown",
      "source": [
        "# CO2 Project Datascientest\n",
        "\n",
        "\n",
        "*   Listeneintrag\n",
        "*   Listeneintrag\n",
        "\n"
      ],
      "metadata": {
        "id": "Gc4ygn_tNYPU"
      }
    },
    {
      "cell_type": "markdown",
      "source": [
        "# 1. Upload and Import Data"
      ],
      "metadata": {
        "id": "VaIz-L9HNb7k"
      }
    },
    {
      "cell_type": "code",
      "source": [
        "pip install -q hvplot"
      ],
      "metadata": {
        "id": "5WLXYFeOfUq2"
      },
      "execution_count": 2,
      "outputs": []
    },
    {
      "cell_type": "code",
      "execution_count": 3,
      "metadata": {
        "id": "pDEsqUQb-1FE",
        "colab": {
          "base_uri": "https://localhost:8080/",
          "height": 17
        },
        "outputId": "e1777cf9-2108-4610-b406-fbbfd04bbfa6"
      },
      "outputs": [
        {
          "output_type": "display_data",
          "data": {
            "application/javascript": [
              "(function(root) {\n",
              "  function now() {\n",
              "    return new Date();\n",
              "  }\n",
              "\n",
              "  var force = true;\n",
              "  var py_version = '3.2.2'.replace('rc', '-rc.').replace('.dev', '-dev.');\n",
              "  var is_dev = py_version.indexOf(\"+\") !== -1 || py_version.indexOf(\"-\") !== -1;\n",
              "  var reloading = false;\n",
              "  var Bokeh = root.Bokeh;\n",
              "  var bokeh_loaded = Bokeh != null && (Bokeh.version === py_version || (Bokeh.versions !== undefined && Bokeh.versions.has(py_version)));\n",
              "\n",
              "  if (typeof (root._bokeh_timeout) === \"undefined\" || force) {\n",
              "    root._bokeh_timeout = Date.now() + 5000;\n",
              "    root._bokeh_failed_load = false;\n",
              "  }\n",
              "\n",
              "  function run_callbacks() {\n",
              "    try {\n",
              "      root._bokeh_onload_callbacks.forEach(function(callback) {\n",
              "        if (callback != null)\n",
              "          callback();\n",
              "      });\n",
              "    } finally {\n",
              "      delete root._bokeh_onload_callbacks;\n",
              "    }\n",
              "    console.debug(\"Bokeh: all callbacks have finished\");\n",
              "  }\n",
              "\n",
              "  function load_libs(css_urls, js_urls, js_modules, js_exports, callback) {\n",
              "    if (css_urls == null) css_urls = [];\n",
              "    if (js_urls == null) js_urls = [];\n",
              "    if (js_modules == null) js_modules = [];\n",
              "    if (js_exports == null) js_exports = {};\n",
              "\n",
              "    root._bokeh_onload_callbacks.push(callback);\n",
              "\n",
              "    if (root._bokeh_is_loading > 0) {\n",
              "      console.debug(\"Bokeh: BokehJS is being loaded, scheduling callback at\", now());\n",
              "      return null;\n",
              "    }\n",
              "    if (js_urls.length === 0 && js_modules.length === 0 && Object.keys(js_exports).length === 0) {\n",
              "      run_callbacks();\n",
              "      return null;\n",
              "    }\n",
              "    if (!reloading) {\n",
              "      console.debug(\"Bokeh: BokehJS not loaded, scheduling load and callback at\", now());\n",
              "    }\n",
              "\n",
              "    function on_load() {\n",
              "      root._bokeh_is_loading--;\n",
              "      if (root._bokeh_is_loading === 0) {\n",
              "        console.debug(\"Bokeh: all BokehJS libraries/stylesheets loaded\");\n",
              "        run_callbacks()\n",
              "      }\n",
              "    }\n",
              "    window._bokeh_on_load = on_load\n",
              "\n",
              "    function on_error() {\n",
              "      console.error(\"failed to load \" + url);\n",
              "    }\n",
              "\n",
              "    var skip = [];\n",
              "    if (window.requirejs) {\n",
              "      window.requirejs.config({'packages': {}, 'paths': {'jspanel': 'https://cdn.jsdelivr.net/npm/jspanel4@4.12.0/dist/jspanel', 'jspanel-modal': 'https://cdn.jsdelivr.net/npm/jspanel4@4.12.0/dist/extensions/modal/jspanel.modal', 'jspanel-tooltip': 'https://cdn.jsdelivr.net/npm/jspanel4@4.12.0/dist/extensions/tooltip/jspanel.tooltip', 'jspanel-hint': 'https://cdn.jsdelivr.net/npm/jspanel4@4.12.0/dist/extensions/hint/jspanel.hint', 'jspanel-layout': 'https://cdn.jsdelivr.net/npm/jspanel4@4.12.0/dist/extensions/layout/jspanel.layout', 'jspanel-contextmenu': 'https://cdn.jsdelivr.net/npm/jspanel4@4.12.0/dist/extensions/contextmenu/jspanel.contextmenu', 'jspanel-dock': 'https://cdn.jsdelivr.net/npm/jspanel4@4.12.0/dist/extensions/dock/jspanel.dock', 'gridstack': 'https://cdn.jsdelivr.net/npm/gridstack@7.2.3/dist/gridstack-all', 'notyf': 'https://cdn.jsdelivr.net/npm/notyf@3/notyf.min'}, 'shim': {'jspanel': {'exports': 'jsPanel'}, 'gridstack': {'exports': 'GridStack'}}});\n",
              "      require([\"jspanel\"], function(jsPanel) {\n",
              "\twindow.jsPanel = jsPanel\n",
              "\ton_load()\n",
              "      })\n",
              "      require([\"jspanel-modal\"], function() {\n",
              "\ton_load()\n",
              "      })\n",
              "      require([\"jspanel-tooltip\"], function() {\n",
              "\ton_load()\n",
              "      })\n",
              "      require([\"jspanel-hint\"], function() {\n",
              "\ton_load()\n",
              "      })\n",
              "      require([\"jspanel-layout\"], function() {\n",
              "\ton_load()\n",
              "      })\n",
              "      require([\"jspanel-contextmenu\"], function() {\n",
              "\ton_load()\n",
              "      })\n",
              "      require([\"jspanel-dock\"], function() {\n",
              "\ton_load()\n",
              "      })\n",
              "      require([\"gridstack\"], function(GridStack) {\n",
              "\twindow.GridStack = GridStack\n",
              "\ton_load()\n",
              "      })\n",
              "      require([\"notyf\"], function() {\n",
              "\ton_load()\n",
              "      })\n",
              "      root._bokeh_is_loading = css_urls.length + 9;\n",
              "    } else {\n",
              "      root._bokeh_is_loading = css_urls.length + js_urls.length + js_modules.length + Object.keys(js_exports).length;\n",
              "    }\n",
              "\n",
              "    var existing_stylesheets = []\n",
              "    var links = document.getElementsByTagName('link')\n",
              "    for (var i = 0; i < links.length; i++) {\n",
              "      var link = links[i]\n",
              "      if (link.href != null) {\n",
              "\texisting_stylesheets.push(link.href)\n",
              "      }\n",
              "    }\n",
              "    for (var i = 0; i < css_urls.length; i++) {\n",
              "      var url = css_urls[i];\n",
              "      if (existing_stylesheets.indexOf(url) !== -1) {\n",
              "\ton_load()\n",
              "\tcontinue;\n",
              "      }\n",
              "      const element = document.createElement(\"link\");\n",
              "      element.onload = on_load;\n",
              "      element.onerror = on_error;\n",
              "      element.rel = \"stylesheet\";\n",
              "      element.type = \"text/css\";\n",
              "      element.href = url;\n",
              "      console.debug(\"Bokeh: injecting link tag for BokehJS stylesheet: \", url);\n",
              "      document.body.appendChild(element);\n",
              "    }    if (((window['jsPanel'] !== undefined) && (!(window['jsPanel'] instanceof HTMLElement))) || window.requirejs) {\n",
              "      var urls = ['https://cdn.holoviz.org/panel/1.2.1/dist/bundled/floatpanel/jspanel4@4.12.0/dist/jspanel.js', 'https://cdn.holoviz.org/panel/1.2.1/dist/bundled/floatpanel/jspanel4@4.12.0/dist/extensions/modal/jspanel.modal.js', 'https://cdn.holoviz.org/panel/1.2.1/dist/bundled/floatpanel/jspanel4@4.12.0/dist/extensions/tooltip/jspanel.tooltip.js', 'https://cdn.holoviz.org/panel/1.2.1/dist/bundled/floatpanel/jspanel4@4.12.0/dist/extensions/hint/jspanel.hint.js', 'https://cdn.holoviz.org/panel/1.2.1/dist/bundled/floatpanel/jspanel4@4.12.0/dist/extensions/layout/jspanel.layout.js', 'https://cdn.holoviz.org/panel/1.2.1/dist/bundled/floatpanel/jspanel4@4.12.0/dist/extensions/contextmenu/jspanel.contextmenu.js', 'https://cdn.holoviz.org/panel/1.2.1/dist/bundled/floatpanel/jspanel4@4.12.0/dist/extensions/dock/jspanel.dock.js'];\n",
              "      for (var i = 0; i < urls.length; i++) {\n",
              "        skip.push(urls[i])\n",
              "      }\n",
              "    }    if (((window['GridStack'] !== undefined) && (!(window['GridStack'] instanceof HTMLElement))) || window.requirejs) {\n",
              "      var urls = ['https://cdn.holoviz.org/panel/1.2.1/dist/bundled/gridstack/gridstack@7.2.3/dist/gridstack-all.js'];\n",
              "      for (var i = 0; i < urls.length; i++) {\n",
              "        skip.push(urls[i])\n",
              "      }\n",
              "    }    if (((window['Notyf'] !== undefined) && (!(window['Notyf'] instanceof HTMLElement))) || window.requirejs) {\n",
              "      var urls = ['https://cdn.holoviz.org/panel/1.2.1/dist/bundled/notificationarea/notyf@3/notyf.min.js'];\n",
              "      for (var i = 0; i < urls.length; i++) {\n",
              "        skip.push(urls[i])\n",
              "      }\n",
              "    }    var existing_scripts = []\n",
              "    var scripts = document.getElementsByTagName('script')\n",
              "    for (var i = 0; i < scripts.length; i++) {\n",
              "      var script = scripts[i]\n",
              "      if (script.src != null) {\n",
              "\texisting_scripts.push(script.src)\n",
              "      }\n",
              "    }\n",
              "    for (var i = 0; i < js_urls.length; i++) {\n",
              "      var url = js_urls[i];\n",
              "      if (skip.indexOf(url) !== -1 || existing_scripts.indexOf(url) !== -1) {\n",
              "\tif (!window.requirejs) {\n",
              "\t  on_load();\n",
              "\t}\n",
              "\tcontinue;\n",
              "      }\n",
              "      var element = document.createElement('script');\n",
              "      element.onload = on_load;\n",
              "      element.onerror = on_error;\n",
              "      element.async = false;\n",
              "      element.src = url;\n",
              "      console.debug(\"Bokeh: injecting script tag for BokehJS library: \", url);\n",
              "      document.head.appendChild(element);\n",
              "    }\n",
              "    for (var i = 0; i < js_modules.length; i++) {\n",
              "      var url = js_modules[i];\n",
              "      if (skip.indexOf(url) !== -1 || existing_scripts.indexOf(url) !== -1) {\n",
              "\tif (!window.requirejs) {\n",
              "\t  on_load();\n",
              "\t}\n",
              "\tcontinue;\n",
              "      }\n",
              "      var element = document.createElement('script');\n",
              "      element.onload = on_load;\n",
              "      element.onerror = on_error;\n",
              "      element.async = false;\n",
              "      element.src = url;\n",
              "      element.type = \"module\";\n",
              "      console.debug(\"Bokeh: injecting script tag for BokehJS library: \", url);\n",
              "      document.head.appendChild(element);\n",
              "    }\n",
              "    for (const name in js_exports) {\n",
              "      var url = js_exports[name];\n",
              "      if (skip.indexOf(url) >= 0 || root[name] != null) {\n",
              "\tif (!window.requirejs) {\n",
              "\t  on_load();\n",
              "\t}\n",
              "\tcontinue;\n",
              "      }\n",
              "      var element = document.createElement('script');\n",
              "      element.onerror = on_error;\n",
              "      element.async = false;\n",
              "      element.type = \"module\";\n",
              "      console.debug(\"Bokeh: injecting script tag for BokehJS library: \", url);\n",
              "      element.textContent = `\n",
              "      import ${name} from \"${url}\"\n",
              "      window.${name} = ${name}\n",
              "      window._bokeh_on_load()\n",
              "      `\n",
              "      document.head.appendChild(element);\n",
              "    }\n",
              "    if (!js_urls.length && !js_modules.length) {\n",
              "      on_load()\n",
              "    }\n",
              "  };\n",
              "\n",
              "  function inject_raw_css(css) {\n",
              "    const element = document.createElement(\"style\");\n",
              "    element.appendChild(document.createTextNode(css));\n",
              "    document.body.appendChild(element);\n",
              "  }\n",
              "\n",
              "  var js_urls = [\"https://cdn.bokeh.org/bokeh/release/bokeh-3.2.2.min.js\", \"https://cdn.bokeh.org/bokeh/release/bokeh-gl-3.2.2.min.js\", \"https://cdn.bokeh.org/bokeh/release/bokeh-widgets-3.2.2.min.js\", \"https://cdn.bokeh.org/bokeh/release/bokeh-tables-3.2.2.min.js\", \"https://cdn.holoviz.org/panel/1.2.1/dist/panel.min.js\"];\n",
              "  var js_modules = [];\n",
              "  var js_exports = {};\n",
              "  var css_urls = [];\n",
              "  var inline_js = [    function(Bokeh) {\n",
              "      Bokeh.set_log_level(\"info\");\n",
              "    },\n",
              "function(Bokeh) {} // ensure no trailing comma for IE\n",
              "  ];\n",
              "\n",
              "  function run_inline_js() {\n",
              "    if ((root.Bokeh !== undefined) || (force === true)) {\n",
              "      for (var i = 0; i < inline_js.length; i++) {\n",
              "        inline_js[i].call(root, root.Bokeh);\n",
              "      }\n",
              "      // Cache old bokeh versions\n",
              "      if (Bokeh != undefined && !reloading) {\n",
              "\tvar NewBokeh = root.Bokeh;\n",
              "\tif (Bokeh.versions === undefined) {\n",
              "\t  Bokeh.versions = new Map();\n",
              "\t}\n",
              "\tif (NewBokeh.version !== Bokeh.version) {\n",
              "\t  Bokeh.versions.set(NewBokeh.version, NewBokeh)\n",
              "\t}\n",
              "\troot.Bokeh = Bokeh;\n",
              "      }} else if (Date.now() < root._bokeh_timeout) {\n",
              "      setTimeout(run_inline_js, 100);\n",
              "    } else if (!root._bokeh_failed_load) {\n",
              "      console.log(\"Bokeh: BokehJS failed to load within specified timeout.\");\n",
              "      root._bokeh_failed_load = true;\n",
              "    }\n",
              "    root._bokeh_is_initializing = false\n",
              "  }\n",
              "\n",
              "  function load_or_wait() {\n",
              "    // Implement a backoff loop that tries to ensure we do not load multiple\n",
              "    // versions of Bokeh and its dependencies at the same time.\n",
              "    // In recent versions we use the root._bokeh_is_initializing flag\n",
              "    // to determine whether there is an ongoing attempt to initialize\n",
              "    // bokeh, however for backward compatibility we also try to ensure\n",
              "    // that we do not start loading a newer (Panel>=1.0 and Bokeh>3) version\n",
              "    // before older versions are fully initialized.\n",
              "    if (root._bokeh_is_initializing && Date.now() > root._bokeh_timeout) {\n",
              "      root._bokeh_is_initializing = false;\n",
              "      root._bokeh_onload_callbacks = undefined;\n",
              "      console.log(\"Bokeh: BokehJS was loaded multiple times but one version failed to initialize.\");\n",
              "      load_or_wait();\n",
              "    } else if (root._bokeh_is_initializing || (typeof root._bokeh_is_initializing === \"undefined\" && root._bokeh_onload_callbacks !== undefined)) {\n",
              "      setTimeout(load_or_wait, 100);\n",
              "    } else {\n",
              "      Bokeh = root.Bokeh;\n",
              "      bokeh_loaded = Bokeh != null && (Bokeh.version === py_version || (Bokeh.versions !== undefined && Bokeh.versions.has(py_version)));\n",
              "      root._bokeh_is_initializing = true\n",
              "      root._bokeh_onload_callbacks = []\n",
              "      if (!reloading && (!bokeh_loaded || is_dev)) {\n",
              "\troot.Bokeh = undefined;\n",
              "      }\n",
              "      load_libs(css_urls, js_urls, js_modules, js_exports, function() {\n",
              "\tconsole.debug(\"Bokeh: BokehJS plotting callback run at\", now());\n",
              "\trun_inline_js();\n",
              "      });\n",
              "    }\n",
              "  }\n",
              "  // Give older versions of the autoload script a head-start to ensure\n",
              "  // they initialize before we start loading newer version.\n",
              "  setTimeout(load_or_wait, 100)\n",
              "}(window));"
            ],
            "application/vnd.holoviews_load.v0+json": "(function(root) {\n  function now() {\n    return new Date();\n  }\n\n  var force = true;\n  var py_version = '3.2.2'.replace('rc', '-rc.').replace('.dev', '-dev.');\n  var is_dev = py_version.indexOf(\"+\") !== -1 || py_version.indexOf(\"-\") !== -1;\n  var reloading = false;\n  var Bokeh = root.Bokeh;\n  var bokeh_loaded = Bokeh != null && (Bokeh.version === py_version || (Bokeh.versions !== undefined && Bokeh.versions.has(py_version)));\n\n  if (typeof (root._bokeh_timeout) === \"undefined\" || force) {\n    root._bokeh_timeout = Date.now() + 5000;\n    root._bokeh_failed_load = false;\n  }\n\n  function run_callbacks() {\n    try {\n      root._bokeh_onload_callbacks.forEach(function(callback) {\n        if (callback != null)\n          callback();\n      });\n    } finally {\n      delete root._bokeh_onload_callbacks;\n    }\n    console.debug(\"Bokeh: all callbacks have finished\");\n  }\n\n  function load_libs(css_urls, js_urls, js_modules, js_exports, callback) {\n    if (css_urls == null) css_urls = [];\n    if (js_urls == null) js_urls = [];\n    if (js_modules == null) js_modules = [];\n    if (js_exports == null) js_exports = {};\n\n    root._bokeh_onload_callbacks.push(callback);\n\n    if (root._bokeh_is_loading > 0) {\n      console.debug(\"Bokeh: BokehJS is being loaded, scheduling callback at\", now());\n      return null;\n    }\n    if (js_urls.length === 0 && js_modules.length === 0 && Object.keys(js_exports).length === 0) {\n      run_callbacks();\n      return null;\n    }\n    if (!reloading) {\n      console.debug(\"Bokeh: BokehJS not loaded, scheduling load and callback at\", now());\n    }\n\n    function on_load() {\n      root._bokeh_is_loading--;\n      if (root._bokeh_is_loading === 0) {\n        console.debug(\"Bokeh: all BokehJS libraries/stylesheets loaded\");\n        run_callbacks()\n      }\n    }\n    window._bokeh_on_load = on_load\n\n    function on_error() {\n      console.error(\"failed to load \" + url);\n    }\n\n    var skip = [];\n    if (window.requirejs) {\n      window.requirejs.config({'packages': {}, 'paths': {'jspanel': 'https://cdn.jsdelivr.net/npm/jspanel4@4.12.0/dist/jspanel', 'jspanel-modal': 'https://cdn.jsdelivr.net/npm/jspanel4@4.12.0/dist/extensions/modal/jspanel.modal', 'jspanel-tooltip': 'https://cdn.jsdelivr.net/npm/jspanel4@4.12.0/dist/extensions/tooltip/jspanel.tooltip', 'jspanel-hint': 'https://cdn.jsdelivr.net/npm/jspanel4@4.12.0/dist/extensions/hint/jspanel.hint', 'jspanel-layout': 'https://cdn.jsdelivr.net/npm/jspanel4@4.12.0/dist/extensions/layout/jspanel.layout', 'jspanel-contextmenu': 'https://cdn.jsdelivr.net/npm/jspanel4@4.12.0/dist/extensions/contextmenu/jspanel.contextmenu', 'jspanel-dock': 'https://cdn.jsdelivr.net/npm/jspanel4@4.12.0/dist/extensions/dock/jspanel.dock', 'gridstack': 'https://cdn.jsdelivr.net/npm/gridstack@7.2.3/dist/gridstack-all', 'notyf': 'https://cdn.jsdelivr.net/npm/notyf@3/notyf.min'}, 'shim': {'jspanel': {'exports': 'jsPanel'}, 'gridstack': {'exports': 'GridStack'}}});\n      require([\"jspanel\"], function(jsPanel) {\n\twindow.jsPanel = jsPanel\n\ton_load()\n      })\n      require([\"jspanel-modal\"], function() {\n\ton_load()\n      })\n      require([\"jspanel-tooltip\"], function() {\n\ton_load()\n      })\n      require([\"jspanel-hint\"], function() {\n\ton_load()\n      })\n      require([\"jspanel-layout\"], function() {\n\ton_load()\n      })\n      require([\"jspanel-contextmenu\"], function() {\n\ton_load()\n      })\n      require([\"jspanel-dock\"], function() {\n\ton_load()\n      })\n      require([\"gridstack\"], function(GridStack) {\n\twindow.GridStack = GridStack\n\ton_load()\n      })\n      require([\"notyf\"], function() {\n\ton_load()\n      })\n      root._bokeh_is_loading = css_urls.length + 9;\n    } else {\n      root._bokeh_is_loading = css_urls.length + js_urls.length + js_modules.length + Object.keys(js_exports).length;\n    }\n\n    var existing_stylesheets = []\n    var links = document.getElementsByTagName('link')\n    for (var i = 0; i < links.length; i++) {\n      var link = links[i]\n      if (link.href != null) {\n\texisting_stylesheets.push(link.href)\n      }\n    }\n    for (var i = 0; i < css_urls.length; i++) {\n      var url = css_urls[i];\n      if (existing_stylesheets.indexOf(url) !== -1) {\n\ton_load()\n\tcontinue;\n      }\n      const element = document.createElement(\"link\");\n      element.onload = on_load;\n      element.onerror = on_error;\n      element.rel = \"stylesheet\";\n      element.type = \"text/css\";\n      element.href = url;\n      console.debug(\"Bokeh: injecting link tag for BokehJS stylesheet: \", url);\n      document.body.appendChild(element);\n    }    if (((window['jsPanel'] !== undefined) && (!(window['jsPanel'] instanceof HTMLElement))) || window.requirejs) {\n      var urls = ['https://cdn.holoviz.org/panel/1.2.1/dist/bundled/floatpanel/jspanel4@4.12.0/dist/jspanel.js', 'https://cdn.holoviz.org/panel/1.2.1/dist/bundled/floatpanel/jspanel4@4.12.0/dist/extensions/modal/jspanel.modal.js', 'https://cdn.holoviz.org/panel/1.2.1/dist/bundled/floatpanel/jspanel4@4.12.0/dist/extensions/tooltip/jspanel.tooltip.js', 'https://cdn.holoviz.org/panel/1.2.1/dist/bundled/floatpanel/jspanel4@4.12.0/dist/extensions/hint/jspanel.hint.js', 'https://cdn.holoviz.org/panel/1.2.1/dist/bundled/floatpanel/jspanel4@4.12.0/dist/extensions/layout/jspanel.layout.js', 'https://cdn.holoviz.org/panel/1.2.1/dist/bundled/floatpanel/jspanel4@4.12.0/dist/extensions/contextmenu/jspanel.contextmenu.js', 'https://cdn.holoviz.org/panel/1.2.1/dist/bundled/floatpanel/jspanel4@4.12.0/dist/extensions/dock/jspanel.dock.js'];\n      for (var i = 0; i < urls.length; i++) {\n        skip.push(urls[i])\n      }\n    }    if (((window['GridStack'] !== undefined) && (!(window['GridStack'] instanceof HTMLElement))) || window.requirejs) {\n      var urls = ['https://cdn.holoviz.org/panel/1.2.1/dist/bundled/gridstack/gridstack@7.2.3/dist/gridstack-all.js'];\n      for (var i = 0; i < urls.length; i++) {\n        skip.push(urls[i])\n      }\n    }    if (((window['Notyf'] !== undefined) && (!(window['Notyf'] instanceof HTMLElement))) || window.requirejs) {\n      var urls = ['https://cdn.holoviz.org/panel/1.2.1/dist/bundled/notificationarea/notyf@3/notyf.min.js'];\n      for (var i = 0; i < urls.length; i++) {\n        skip.push(urls[i])\n      }\n    }    var existing_scripts = []\n    var scripts = document.getElementsByTagName('script')\n    for (var i = 0; i < scripts.length; i++) {\n      var script = scripts[i]\n      if (script.src != null) {\n\texisting_scripts.push(script.src)\n      }\n    }\n    for (var i = 0; i < js_urls.length; i++) {\n      var url = js_urls[i];\n      if (skip.indexOf(url) !== -1 || existing_scripts.indexOf(url) !== -1) {\n\tif (!window.requirejs) {\n\t  on_load();\n\t}\n\tcontinue;\n      }\n      var element = document.createElement('script');\n      element.onload = on_load;\n      element.onerror = on_error;\n      element.async = false;\n      element.src = url;\n      console.debug(\"Bokeh: injecting script tag for BokehJS library: \", url);\n      document.head.appendChild(element);\n    }\n    for (var i = 0; i < js_modules.length; i++) {\n      var url = js_modules[i];\n      if (skip.indexOf(url) !== -1 || existing_scripts.indexOf(url) !== -1) {\n\tif (!window.requirejs) {\n\t  on_load();\n\t}\n\tcontinue;\n      }\n      var element = document.createElement('script');\n      element.onload = on_load;\n      element.onerror = on_error;\n      element.async = false;\n      element.src = url;\n      element.type = \"module\";\n      console.debug(\"Bokeh: injecting script tag for BokehJS library: \", url);\n      document.head.appendChild(element);\n    }\n    for (const name in js_exports) {\n      var url = js_exports[name];\n      if (skip.indexOf(url) >= 0 || root[name] != null) {\n\tif (!window.requirejs) {\n\t  on_load();\n\t}\n\tcontinue;\n      }\n      var element = document.createElement('script');\n      element.onerror = on_error;\n      element.async = false;\n      element.type = \"module\";\n      console.debug(\"Bokeh: injecting script tag for BokehJS library: \", url);\n      element.textContent = `\n      import ${name} from \"${url}\"\n      window.${name} = ${name}\n      window._bokeh_on_load()\n      `\n      document.head.appendChild(element);\n    }\n    if (!js_urls.length && !js_modules.length) {\n      on_load()\n    }\n  };\n\n  function inject_raw_css(css) {\n    const element = document.createElement(\"style\");\n    element.appendChild(document.createTextNode(css));\n    document.body.appendChild(element);\n  }\n\n  var js_urls = [\"https://cdn.bokeh.org/bokeh/release/bokeh-3.2.2.min.js\", \"https://cdn.bokeh.org/bokeh/release/bokeh-gl-3.2.2.min.js\", \"https://cdn.bokeh.org/bokeh/release/bokeh-widgets-3.2.2.min.js\", \"https://cdn.bokeh.org/bokeh/release/bokeh-tables-3.2.2.min.js\", \"https://cdn.holoviz.org/panel/1.2.1/dist/panel.min.js\"];\n  var js_modules = [];\n  var js_exports = {};\n  var css_urls = [];\n  var inline_js = [    function(Bokeh) {\n      Bokeh.set_log_level(\"info\");\n    },\nfunction(Bokeh) {} // ensure no trailing comma for IE\n  ];\n\n  function run_inline_js() {\n    if ((root.Bokeh !== undefined) || (force === true)) {\n      for (var i = 0; i < inline_js.length; i++) {\n        inline_js[i].call(root, root.Bokeh);\n      }\n      // Cache old bokeh versions\n      if (Bokeh != undefined && !reloading) {\n\tvar NewBokeh = root.Bokeh;\n\tif (Bokeh.versions === undefined) {\n\t  Bokeh.versions = new Map();\n\t}\n\tif (NewBokeh.version !== Bokeh.version) {\n\t  Bokeh.versions.set(NewBokeh.version, NewBokeh)\n\t}\n\troot.Bokeh = Bokeh;\n      }} else if (Date.now() < root._bokeh_timeout) {\n      setTimeout(run_inline_js, 100);\n    } else if (!root._bokeh_failed_load) {\n      console.log(\"Bokeh: BokehJS failed to load within specified timeout.\");\n      root._bokeh_failed_load = true;\n    }\n    root._bokeh_is_initializing = false\n  }\n\n  function load_or_wait() {\n    // Implement a backoff loop that tries to ensure we do not load multiple\n    // versions of Bokeh and its dependencies at the same time.\n    // In recent versions we use the root._bokeh_is_initializing flag\n    // to determine whether there is an ongoing attempt to initialize\n    // bokeh, however for backward compatibility we also try to ensure\n    // that we do not start loading a newer (Panel>=1.0 and Bokeh>3) version\n    // before older versions are fully initialized.\n    if (root._bokeh_is_initializing && Date.now() > root._bokeh_timeout) {\n      root._bokeh_is_initializing = false;\n      root._bokeh_onload_callbacks = undefined;\n      console.log(\"Bokeh: BokehJS was loaded multiple times but one version failed to initialize.\");\n      load_or_wait();\n    } else if (root._bokeh_is_initializing || (typeof root._bokeh_is_initializing === \"undefined\" && root._bokeh_onload_callbacks !== undefined)) {\n      setTimeout(load_or_wait, 100);\n    } else {\n      Bokeh = root.Bokeh;\n      bokeh_loaded = Bokeh != null && (Bokeh.version === py_version || (Bokeh.versions !== undefined && Bokeh.versions.has(py_version)));\n      root._bokeh_is_initializing = true\n      root._bokeh_onload_callbacks = []\n      if (!reloading && (!bokeh_loaded || is_dev)) {\n\troot.Bokeh = undefined;\n      }\n      load_libs(css_urls, js_urls, js_modules, js_exports, function() {\n\tconsole.debug(\"Bokeh: BokehJS plotting callback run at\", now());\n\trun_inline_js();\n      });\n    }\n  }\n  // Give older versions of the autoload script a head-start to ensure\n  // they initialize before we start loading newer version.\n  setTimeout(load_or_wait, 100)\n}(window));"
          },
          "metadata": {}
        },
        {
          "output_type": "display_data",
          "data": {
            "application/vnd.holoviews_load.v0+json": "\nif ((window.PyViz === undefined) || (window.PyViz instanceof HTMLElement)) {\n  window.PyViz = {comms: {}, comm_status:{}, kernels:{}, receivers: {}, plot_index: []}\n}\n\n\n    function JupyterCommManager() {\n    }\n\n    JupyterCommManager.prototype.register_target = function(plot_id, comm_id, msg_handler) {\n      if (window.comm_manager || ((window.Jupyter !== undefined) && (Jupyter.notebook.kernel != null))) {\n        var comm_manager = window.comm_manager || Jupyter.notebook.kernel.comm_manager;\n        comm_manager.register_target(comm_id, function(comm) {\n          comm.on_msg(msg_handler);\n        });\n      } else if ((plot_id in window.PyViz.kernels) && (window.PyViz.kernels[plot_id])) {\n        window.PyViz.kernels[plot_id].registerCommTarget(comm_id, function(comm) {\n          comm.onMsg = msg_handler;\n        });\n      } else if (typeof google != 'undefined' && google.colab.kernel != null) {\n        google.colab.kernel.comms.registerTarget(comm_id, (comm) => {\n          var messages = comm.messages[Symbol.asyncIterator]();\n          function processIteratorResult(result) {\n            var message = result.value;\n            console.log(message)\n            var content = {data: message.data, comm_id};\n            var buffers = []\n            for (var buffer of message.buffers || []) {\n              buffers.push(new DataView(buffer))\n            }\n            var metadata = message.metadata || {};\n            var msg = {content, buffers, metadata}\n            msg_handler(msg);\n            return messages.next().then(processIteratorResult);\n          }\n          return messages.next().then(processIteratorResult);\n        })\n      }\n    }\n\n    JupyterCommManager.prototype.get_client_comm = function(plot_id, comm_id, msg_handler) {\n      if (comm_id in window.PyViz.comms) {\n        return window.PyViz.comms[comm_id];\n      } else if (window.comm_manager || ((window.Jupyter !== undefined) && (Jupyter.notebook.kernel != null))) {\n        var comm_manager = window.comm_manager || Jupyter.notebook.kernel.comm_manager;\n        var comm = comm_manager.new_comm(comm_id, {}, {}, {}, comm_id);\n        if (msg_handler) {\n          comm.on_msg(msg_handler);\n        }\n      } else if ((plot_id in window.PyViz.kernels) && (window.PyViz.kernels[plot_id])) {\n        var comm = window.PyViz.kernels[plot_id].connectToComm(comm_id);\n        comm.open();\n        if (msg_handler) {\n          comm.onMsg = msg_handler;\n        }\n      } else if (typeof google != 'undefined' && google.colab.kernel != null) {\n        var comm_promise = google.colab.kernel.comms.open(comm_id)\n        comm_promise.then((comm) => {\n          window.PyViz.comms[comm_id] = comm;\n          if (msg_handler) {\n            var messages = comm.messages[Symbol.asyncIterator]();\n            function processIteratorResult(result) {\n              var message = result.value;\n              var content = {data: message.data};\n              var metadata = message.metadata || {comm_id};\n              var msg = {content, metadata}\n              msg_handler(msg);\n              return messages.next().then(processIteratorResult);\n            }\n            return messages.next().then(processIteratorResult);\n          }\n        }) \n        var sendClosure = (data, metadata, buffers, disposeOnDone) => {\n          return comm_promise.then((comm) => {\n            comm.send(data, metadata, buffers, disposeOnDone);\n          });\n        };\n        var comm = {\n          send: sendClosure\n        };\n      }\n      window.PyViz.comms[comm_id] = comm;\n      return comm;\n    }\n    window.PyViz.comm_manager = new JupyterCommManager();\n    \n\n\nvar JS_MIME_TYPE = 'application/javascript';\nvar HTML_MIME_TYPE = 'text/html';\nvar EXEC_MIME_TYPE = 'application/vnd.holoviews_exec.v0+json';\nvar CLASS_NAME = 'output';\n\n/**\n * Render data to the DOM node\n */\nfunction render(props, node) {\n  var div = document.createElement(\"div\");\n  var script = document.createElement(\"script\");\n  node.appendChild(div);\n  node.appendChild(script);\n}\n\n/**\n * Handle when a new output is added\n */\nfunction handle_add_output(event, handle) {\n  var output_area = handle.output_area;\n  var output = handle.output;\n  if ((output.data == undefined) || (!output.data.hasOwnProperty(EXEC_MIME_TYPE))) {\n    return\n  }\n  var id = output.metadata[EXEC_MIME_TYPE][\"id\"];\n  var toinsert = output_area.element.find(\".\" + CLASS_NAME.split(' ')[0]);\n  if (id !== undefined) {\n    var nchildren = toinsert.length;\n    var html_node = toinsert[nchildren-1].children[0];\n    html_node.innerHTML = output.data[HTML_MIME_TYPE];\n    var scripts = [];\n    var nodelist = html_node.querySelectorAll(\"script\");\n    for (var i in nodelist) {\n      if (nodelist.hasOwnProperty(i)) {\n        scripts.push(nodelist[i])\n      }\n    }\n\n    scripts.forEach( function (oldScript) {\n      var newScript = document.createElement(\"script\");\n      var attrs = [];\n      var nodemap = oldScript.attributes;\n      for (var j in nodemap) {\n        if (nodemap.hasOwnProperty(j)) {\n          attrs.push(nodemap[j])\n        }\n      }\n      attrs.forEach(function(attr) { newScript.setAttribute(attr.name, attr.value) });\n      newScript.appendChild(document.createTextNode(oldScript.innerHTML));\n      oldScript.parentNode.replaceChild(newScript, oldScript);\n    });\n    if (JS_MIME_TYPE in output.data) {\n      toinsert[nchildren-1].children[1].textContent = output.data[JS_MIME_TYPE];\n    }\n    output_area._hv_plot_id = id;\n    if ((window.Bokeh !== undefined) && (id in Bokeh.index)) {\n      window.PyViz.plot_index[id] = Bokeh.index[id];\n    } else {\n      window.PyViz.plot_index[id] = null;\n    }\n  } else if (output.metadata[EXEC_MIME_TYPE][\"server_id\"] !== undefined) {\n    var bk_div = document.createElement(\"div\");\n    bk_div.innerHTML = output.data[HTML_MIME_TYPE];\n    var script_attrs = bk_div.children[0].attributes;\n    for (var i = 0; i < script_attrs.length; i++) {\n      toinsert[toinsert.length - 1].childNodes[1].setAttribute(script_attrs[i].name, script_attrs[i].value);\n    }\n    // store reference to server id on output_area\n    output_area._bokeh_server_id = output.metadata[EXEC_MIME_TYPE][\"server_id\"];\n  }\n}\n\n/**\n * Handle when an output is cleared or removed\n */\nfunction handle_clear_output(event, handle) {\n  var id = handle.cell.output_area._hv_plot_id;\n  var server_id = handle.cell.output_area._bokeh_server_id;\n  if (((id === undefined) || !(id in PyViz.plot_index)) && (server_id !== undefined)) { return; }\n  var comm = window.PyViz.comm_manager.get_client_comm(\"hv-extension-comm\", \"hv-extension-comm\", function () {});\n  if (server_id !== null) {\n    comm.send({event_type: 'server_delete', 'id': server_id});\n    return;\n  } else if (comm !== null) {\n    comm.send({event_type: 'delete', 'id': id});\n  }\n  delete PyViz.plot_index[id];\n  if ((window.Bokeh !== undefined) & (id in window.Bokeh.index)) {\n    var doc = window.Bokeh.index[id].model.document\n    doc.clear();\n    const i = window.Bokeh.documents.indexOf(doc);\n    if (i > -1) {\n      window.Bokeh.documents.splice(i, 1);\n    }\n  }\n}\n\n/**\n * Handle kernel restart event\n */\nfunction handle_kernel_cleanup(event, handle) {\n  delete PyViz.comms[\"hv-extension-comm\"];\n  window.PyViz.plot_index = {}\n}\n\n/**\n * Handle update_display_data messages\n */\nfunction handle_update_output(event, handle) {\n  handle_clear_output(event, {cell: {output_area: handle.output_area}})\n  handle_add_output(event, handle)\n}\n\nfunction register_renderer(events, OutputArea) {\n  function append_mime(data, metadata, element) {\n    // create a DOM node to render to\n    var toinsert = this.create_output_subarea(\n    metadata,\n    CLASS_NAME,\n    EXEC_MIME_TYPE\n    );\n    this.keyboard_manager.register_events(toinsert);\n    // Render to node\n    var props = {data: data, metadata: metadata[EXEC_MIME_TYPE]};\n    render(props, toinsert[0]);\n    element.append(toinsert);\n    return toinsert\n  }\n\n  events.on('output_added.OutputArea', handle_add_output);\n  events.on('output_updated.OutputArea', handle_update_output);\n  events.on('clear_output.CodeCell', handle_clear_output);\n  events.on('delete.Cell', handle_clear_output);\n  events.on('kernel_ready.Kernel', handle_kernel_cleanup);\n\n  OutputArea.prototype.register_mime_type(EXEC_MIME_TYPE, append_mime, {\n    safe: true,\n    index: 0\n  });\n}\n\nif (window.Jupyter !== undefined) {\n  try {\n    var events = require('base/js/events');\n    var OutputArea = require('notebook/js/outputarea').OutputArea;\n    if (OutputArea.prototype.mime_types().indexOf(EXEC_MIME_TYPE) == -1) {\n      register_renderer(events, OutputArea);\n    }\n  } catch(err) {\n  }\n}\n",
            "application/javascript": [
              "\n",
              "if ((window.PyViz === undefined) || (window.PyViz instanceof HTMLElement)) {\n",
              "  window.PyViz = {comms: {}, comm_status:{}, kernels:{}, receivers: {}, plot_index: []}\n",
              "}\n",
              "\n",
              "\n",
              "    function JupyterCommManager() {\n",
              "    }\n",
              "\n",
              "    JupyterCommManager.prototype.register_target = function(plot_id, comm_id, msg_handler) {\n",
              "      if (window.comm_manager || ((window.Jupyter !== undefined) && (Jupyter.notebook.kernel != null))) {\n",
              "        var comm_manager = window.comm_manager || Jupyter.notebook.kernel.comm_manager;\n",
              "        comm_manager.register_target(comm_id, function(comm) {\n",
              "          comm.on_msg(msg_handler);\n",
              "        });\n",
              "      } else if ((plot_id in window.PyViz.kernels) && (window.PyViz.kernels[plot_id])) {\n",
              "        window.PyViz.kernels[plot_id].registerCommTarget(comm_id, function(comm) {\n",
              "          comm.onMsg = msg_handler;\n",
              "        });\n",
              "      } else if (typeof google != 'undefined' && google.colab.kernel != null) {\n",
              "        google.colab.kernel.comms.registerTarget(comm_id, (comm) => {\n",
              "          var messages = comm.messages[Symbol.asyncIterator]();\n",
              "          function processIteratorResult(result) {\n",
              "            var message = result.value;\n",
              "            console.log(message)\n",
              "            var content = {data: message.data, comm_id};\n",
              "            var buffers = []\n",
              "            for (var buffer of message.buffers || []) {\n",
              "              buffers.push(new DataView(buffer))\n",
              "            }\n",
              "            var metadata = message.metadata || {};\n",
              "            var msg = {content, buffers, metadata}\n",
              "            msg_handler(msg);\n",
              "            return messages.next().then(processIteratorResult);\n",
              "          }\n",
              "          return messages.next().then(processIteratorResult);\n",
              "        })\n",
              "      }\n",
              "    }\n",
              "\n",
              "    JupyterCommManager.prototype.get_client_comm = function(plot_id, comm_id, msg_handler) {\n",
              "      if (comm_id in window.PyViz.comms) {\n",
              "        return window.PyViz.comms[comm_id];\n",
              "      } else if (window.comm_manager || ((window.Jupyter !== undefined) && (Jupyter.notebook.kernel != null))) {\n",
              "        var comm_manager = window.comm_manager || Jupyter.notebook.kernel.comm_manager;\n",
              "        var comm = comm_manager.new_comm(comm_id, {}, {}, {}, comm_id);\n",
              "        if (msg_handler) {\n",
              "          comm.on_msg(msg_handler);\n",
              "        }\n",
              "      } else if ((plot_id in window.PyViz.kernels) && (window.PyViz.kernels[plot_id])) {\n",
              "        var comm = window.PyViz.kernels[plot_id].connectToComm(comm_id);\n",
              "        comm.open();\n",
              "        if (msg_handler) {\n",
              "          comm.onMsg = msg_handler;\n",
              "        }\n",
              "      } else if (typeof google != 'undefined' && google.colab.kernel != null) {\n",
              "        var comm_promise = google.colab.kernel.comms.open(comm_id)\n",
              "        comm_promise.then((comm) => {\n",
              "          window.PyViz.comms[comm_id] = comm;\n",
              "          if (msg_handler) {\n",
              "            var messages = comm.messages[Symbol.asyncIterator]();\n",
              "            function processIteratorResult(result) {\n",
              "              var message = result.value;\n",
              "              var content = {data: message.data};\n",
              "              var metadata = message.metadata || {comm_id};\n",
              "              var msg = {content, metadata}\n",
              "              msg_handler(msg);\n",
              "              return messages.next().then(processIteratorResult);\n",
              "            }\n",
              "            return messages.next().then(processIteratorResult);\n",
              "          }\n",
              "        }) \n",
              "        var sendClosure = (data, metadata, buffers, disposeOnDone) => {\n",
              "          return comm_promise.then((comm) => {\n",
              "            comm.send(data, metadata, buffers, disposeOnDone);\n",
              "          });\n",
              "        };\n",
              "        var comm = {\n",
              "          send: sendClosure\n",
              "        };\n",
              "      }\n",
              "      window.PyViz.comms[comm_id] = comm;\n",
              "      return comm;\n",
              "    }\n",
              "    window.PyViz.comm_manager = new JupyterCommManager();\n",
              "    \n",
              "\n",
              "\n",
              "var JS_MIME_TYPE = 'application/javascript';\n",
              "var HTML_MIME_TYPE = 'text/html';\n",
              "var EXEC_MIME_TYPE = 'application/vnd.holoviews_exec.v0+json';\n",
              "var CLASS_NAME = 'output';\n",
              "\n",
              "/**\n",
              " * Render data to the DOM node\n",
              " */\n",
              "function render(props, node) {\n",
              "  var div = document.createElement(\"div\");\n",
              "  var script = document.createElement(\"script\");\n",
              "  node.appendChild(div);\n",
              "  node.appendChild(script);\n",
              "}\n",
              "\n",
              "/**\n",
              " * Handle when a new output is added\n",
              " */\n",
              "function handle_add_output(event, handle) {\n",
              "  var output_area = handle.output_area;\n",
              "  var output = handle.output;\n",
              "  if ((output.data == undefined) || (!output.data.hasOwnProperty(EXEC_MIME_TYPE))) {\n",
              "    return\n",
              "  }\n",
              "  var id = output.metadata[EXEC_MIME_TYPE][\"id\"];\n",
              "  var toinsert = output_area.element.find(\".\" + CLASS_NAME.split(' ')[0]);\n",
              "  if (id !== undefined) {\n",
              "    var nchildren = toinsert.length;\n",
              "    var html_node = toinsert[nchildren-1].children[0];\n",
              "    html_node.innerHTML = output.data[HTML_MIME_TYPE];\n",
              "    var scripts = [];\n",
              "    var nodelist = html_node.querySelectorAll(\"script\");\n",
              "    for (var i in nodelist) {\n",
              "      if (nodelist.hasOwnProperty(i)) {\n",
              "        scripts.push(nodelist[i])\n",
              "      }\n",
              "    }\n",
              "\n",
              "    scripts.forEach( function (oldScript) {\n",
              "      var newScript = document.createElement(\"script\");\n",
              "      var attrs = [];\n",
              "      var nodemap = oldScript.attributes;\n",
              "      for (var j in nodemap) {\n",
              "        if (nodemap.hasOwnProperty(j)) {\n",
              "          attrs.push(nodemap[j])\n",
              "        }\n",
              "      }\n",
              "      attrs.forEach(function(attr) { newScript.setAttribute(attr.name, attr.value) });\n",
              "      newScript.appendChild(document.createTextNode(oldScript.innerHTML));\n",
              "      oldScript.parentNode.replaceChild(newScript, oldScript);\n",
              "    });\n",
              "    if (JS_MIME_TYPE in output.data) {\n",
              "      toinsert[nchildren-1].children[1].textContent = output.data[JS_MIME_TYPE];\n",
              "    }\n",
              "    output_area._hv_plot_id = id;\n",
              "    if ((window.Bokeh !== undefined) && (id in Bokeh.index)) {\n",
              "      window.PyViz.plot_index[id] = Bokeh.index[id];\n",
              "    } else {\n",
              "      window.PyViz.plot_index[id] = null;\n",
              "    }\n",
              "  } else if (output.metadata[EXEC_MIME_TYPE][\"server_id\"] !== undefined) {\n",
              "    var bk_div = document.createElement(\"div\");\n",
              "    bk_div.innerHTML = output.data[HTML_MIME_TYPE];\n",
              "    var script_attrs = bk_div.children[0].attributes;\n",
              "    for (var i = 0; i < script_attrs.length; i++) {\n",
              "      toinsert[toinsert.length - 1].childNodes[1].setAttribute(script_attrs[i].name, script_attrs[i].value);\n",
              "    }\n",
              "    // store reference to server id on output_area\n",
              "    output_area._bokeh_server_id = output.metadata[EXEC_MIME_TYPE][\"server_id\"];\n",
              "  }\n",
              "}\n",
              "\n",
              "/**\n",
              " * Handle when an output is cleared or removed\n",
              " */\n",
              "function handle_clear_output(event, handle) {\n",
              "  var id = handle.cell.output_area._hv_plot_id;\n",
              "  var server_id = handle.cell.output_area._bokeh_server_id;\n",
              "  if (((id === undefined) || !(id in PyViz.plot_index)) && (server_id !== undefined)) { return; }\n",
              "  var comm = window.PyViz.comm_manager.get_client_comm(\"hv-extension-comm\", \"hv-extension-comm\", function () {});\n",
              "  if (server_id !== null) {\n",
              "    comm.send({event_type: 'server_delete', 'id': server_id});\n",
              "    return;\n",
              "  } else if (comm !== null) {\n",
              "    comm.send({event_type: 'delete', 'id': id});\n",
              "  }\n",
              "  delete PyViz.plot_index[id];\n",
              "  if ((window.Bokeh !== undefined) & (id in window.Bokeh.index)) {\n",
              "    var doc = window.Bokeh.index[id].model.document\n",
              "    doc.clear();\n",
              "    const i = window.Bokeh.documents.indexOf(doc);\n",
              "    if (i > -1) {\n",
              "      window.Bokeh.documents.splice(i, 1);\n",
              "    }\n",
              "  }\n",
              "}\n",
              "\n",
              "/**\n",
              " * Handle kernel restart event\n",
              " */\n",
              "function handle_kernel_cleanup(event, handle) {\n",
              "  delete PyViz.comms[\"hv-extension-comm\"];\n",
              "  window.PyViz.plot_index = {}\n",
              "}\n",
              "\n",
              "/**\n",
              " * Handle update_display_data messages\n",
              " */\n",
              "function handle_update_output(event, handle) {\n",
              "  handle_clear_output(event, {cell: {output_area: handle.output_area}})\n",
              "  handle_add_output(event, handle)\n",
              "}\n",
              "\n",
              "function register_renderer(events, OutputArea) {\n",
              "  function append_mime(data, metadata, element) {\n",
              "    // create a DOM node to render to\n",
              "    var toinsert = this.create_output_subarea(\n",
              "    metadata,\n",
              "    CLASS_NAME,\n",
              "    EXEC_MIME_TYPE\n",
              "    );\n",
              "    this.keyboard_manager.register_events(toinsert);\n",
              "    // Render to node\n",
              "    var props = {data: data, metadata: metadata[EXEC_MIME_TYPE]};\n",
              "    render(props, toinsert[0]);\n",
              "    element.append(toinsert);\n",
              "    return toinsert\n",
              "  }\n",
              "\n",
              "  events.on('output_added.OutputArea', handle_add_output);\n",
              "  events.on('output_updated.OutputArea', handle_update_output);\n",
              "  events.on('clear_output.CodeCell', handle_clear_output);\n",
              "  events.on('delete.Cell', handle_clear_output);\n",
              "  events.on('kernel_ready.Kernel', handle_kernel_cleanup);\n",
              "\n",
              "  OutputArea.prototype.register_mime_type(EXEC_MIME_TYPE, append_mime, {\n",
              "    safe: true,\n",
              "    index: 0\n",
              "  });\n",
              "}\n",
              "\n",
              "if (window.Jupyter !== undefined) {\n",
              "  try {\n",
              "    var events = require('base/js/events');\n",
              "    var OutputArea = require('notebook/js/outputarea').OutputArea;\n",
              "    if (OutputArea.prototype.mime_types().indexOf(EXEC_MIME_TYPE) == -1) {\n",
              "      register_renderer(events, OutputArea);\n",
              "    }\n",
              "  } catch(err) {\n",
              "  }\n",
              "}\n"
            ]
          },
          "metadata": {}
        },
        {
          "output_type": "display_data",
          "data": {
            "text/html": [
              "<style>*[data-root-id],\n",
              "*[data-root-id] > * {\n",
              "  box-sizing: border-box;\n",
              "  font-family: var(--jp-ui-font-family);\n",
              "  font-size: var(--jp-ui-font-size1);\n",
              "  color: var(--vscode-editor-foreground, var(--jp-ui-font-color1));\n",
              "}\n",
              "\n",
              "/* Override VSCode background color */\n",
              ".cell-output-ipywidget-background:has(\n",
              "    > .cell-output-ipywidget-background > .lm-Widget > *[data-root-id]\n",
              "  ),\n",
              ".cell-output-ipywidget-background:has(> .lm-Widget > *[data-root-id]) {\n",
              "  background-color: transparent !important;\n",
              "}\n",
              "</style>"
            ]
          },
          "metadata": {}
        }
      ],
      "source": [
        "import pandas as pd\n",
        "import numpy as np\n",
        "import matplotlib.pyplot as plt\n",
        "import seaborn as sns\n",
        "\n",
        "#from scipy import stats\n",
        "import hvplot\n",
        "import hvplot.pandas\n",
        "%matplotlib inline\n",
        "\n"
      ]
    },
    {
      "cell_type": "markdown",
      "source": [
        "# 2. 💾 Datasets\n",
        "\n"
      ],
      "metadata": {
        "id": "j1dvOwDZfz2g"
      }
    },
    {
      "cell_type": "markdown",
      "source": [
        "1. Dataset French Gouverment 2013   : ``fg_2013``\n",
        "2. Dataset French Gouverment 2014   : ``fg_2014``\n",
        "3. Dataset eaa Europa               : ``eaa``\n",
        "\n"
      ],
      "metadata": {
        "id": "MHLnatzONjT8"
      }
    },
    {
      "cell_type": "markdown",
      "source": [
        "2.1 Dataset French Gouverment 2013   : ``fg_2013`"
      ],
      "metadata": {
        "id": "VLybNhLWnH2l"
      }
    },
    {
      "cell_type": "code",
      "source": [
        "# Dataset frech gouverment 2013 = fg_2013\n",
        "fg_2013 = pd.read_csv(\"/content/drive/MyDrive/Data Science/Projects/CO2 Project/data/cl_JUIN_2013-complet3.csv\",\n",
        "                      sep=\";\", encoding= 'latin-1')\n",
        "\n",
        "print(\"Shape fg_2013:\", fg_2013.shape)\n",
        "\n",
        "display(fg_2013.columns)\n"
      ],
      "metadata": {
        "colab": {
          "base_uri": "https://localhost:8080/",
          "height": 208
        },
        "id": "NYn1AX33NhsJ",
        "outputId": "87a9e8ae-c696-4c3b-a3f2-1c43c881c20b"
      },
      "execution_count": 15,
      "outputs": [
        {
          "output_type": "stream",
          "name": "stdout",
          "text": [
            "Shape fg_2013: (44850, 26)\n"
          ]
        },
        {
          "output_type": "display_data",
          "data": {
            "text/plain": [
              "Index(['Marque', 'Modèle dossier', 'Modèle UTAC', 'Désignation commerciale',\n",
              "       'CNIT', 'Type Variante Version (TVV)', 'Carburant', 'Hybride',\n",
              "       'Puissance administrative', 'Puissance maximale (kW)',\n",
              "       'Boîte de vitesse', 'Consommation urbaine (l/100km)',\n",
              "       'Consommation extra-urbaine (l/100km)', 'Consommation mixte (l/100km)',\n",
              "       'CO2 (g/km)', 'CO type I (g/km)', 'HC (g/km)', 'NOX (g/km)',\n",
              "       'HC+NOX (g/km)', 'Particules (g/km)', 'masse vide euro min (kg)',\n",
              "       'masse vide euro max (kg)', 'Champ V9', 'Date de mise à jour',\n",
              "       'Carrosserie', 'gamme'],\n",
              "      dtype='object')"
            ]
          },
          "metadata": {}
        }
      ]
    },
    {
      "cell_type": "code",
      "source": [
        "display(fg_2013.head(3))\n",
        "display(fg_2013.describe())"
      ],
      "metadata": {
        "colab": {
          "base_uri": "https://localhost:8080/",
          "height": 684
        },
        "id": "fxENP7vpiS1r",
        "outputId": "de5eef0d-2779-47aa-d2c5-d632c7d0c282"
      },
      "execution_count": 10,
      "outputs": [
        {
          "output_type": "display_data",
          "data": {
            "text/plain": [
              "       Marque Modèle dossier Modèle UTAC   Désignation commerciale  \\\n",
              "0  ALFA-ROMEO            159         159      159 1750 Tbi (200ch)   \n",
              "1  ALFA-ROMEO            159         159  159 2.0 JTDm (170ch) ECO   \n",
              "2  ALFA-ROMEO            159         159      159 2.0 JTDm (136ch)   \n",
              "\n",
              "              CNIT Type Variante Version (TVV) Carburant Hybride  \\\n",
              "0  M10ALFVP000G340                 939AXN1B52C        ES     non   \n",
              "1  M10ALFVP000U221                 939AXP1B54C        GO     non   \n",
              "2  M10ALFVP000E302                  939AXR1B64        GO     non   \n",
              "\n",
              "   Puissance administrative  Puissance maximale (kW)  ... HC (g/km)  \\\n",
              "0                        12                    147.0  ...     0.052   \n",
              "1                         9                    125.0  ...       NaN   \n",
              "2                         7                    100.0  ...       NaN   \n",
              "\n",
              "   NOX (g/km)  HC+NOX (g/km)  Particules (g/km)  masse vide euro min (kg)  \\\n",
              "0       0.032            NaN              0.002                      1505   \n",
              "1       0.169          0.190              0.003                      1565   \n",
              "2       0.149          0.175              0.001                      1565   \n",
              "\n",
              "   masse vide euro max (kg)                Champ V9  Date de mise à jour  \\\n",
              "0                      1505  715/2007*692/2008EURO5              juin-13   \n",
              "1                      1565  715/2007*692/2008EURO5              juin-13   \n",
              "2                      1565  715/2007*692/2008EURO5              juin-13   \n",
              "\n",
              "   Carrosserie      gamme  \n",
              "0        BREAK  MOY-SUPER  \n",
              "1      BERLINE  MOY-SUPER  \n",
              "2      BERLINE  MOY-SUPER  \n",
              "\n",
              "[3 rows x 26 columns]"
            ],
            "text/html": [
              "\n",
              "  <div id=\"df-3a531715-c255-443f-bda2-bb1d595dcb53\" class=\"colab-df-container\">\n",
              "    <div>\n",
              "<style scoped>\n",
              "    .dataframe tbody tr th:only-of-type {\n",
              "        vertical-align: middle;\n",
              "    }\n",
              "\n",
              "    .dataframe tbody tr th {\n",
              "        vertical-align: top;\n",
              "    }\n",
              "\n",
              "    .dataframe thead th {\n",
              "        text-align: right;\n",
              "    }\n",
              "</style>\n",
              "<table border=\"1\" class=\"dataframe\">\n",
              "  <thead>\n",
              "    <tr style=\"text-align: right;\">\n",
              "      <th></th>\n",
              "      <th>Marque</th>\n",
              "      <th>Modèle dossier</th>\n",
              "      <th>Modèle UTAC</th>\n",
              "      <th>Désignation commerciale</th>\n",
              "      <th>CNIT</th>\n",
              "      <th>Type Variante Version (TVV)</th>\n",
              "      <th>Carburant</th>\n",
              "      <th>Hybride</th>\n",
              "      <th>Puissance administrative</th>\n",
              "      <th>Puissance maximale (kW)</th>\n",
              "      <th>...</th>\n",
              "      <th>HC (g/km)</th>\n",
              "      <th>NOX (g/km)</th>\n",
              "      <th>HC+NOX (g/km)</th>\n",
              "      <th>Particules (g/km)</th>\n",
              "      <th>masse vide euro min (kg)</th>\n",
              "      <th>masse vide euro max (kg)</th>\n",
              "      <th>Champ V9</th>\n",
              "      <th>Date de mise à jour</th>\n",
              "      <th>Carrosserie</th>\n",
              "      <th>gamme</th>\n",
              "    </tr>\n",
              "  </thead>\n",
              "  <tbody>\n",
              "    <tr>\n",
              "      <th>0</th>\n",
              "      <td>ALFA-ROMEO</td>\n",
              "      <td>159</td>\n",
              "      <td>159</td>\n",
              "      <td>159 1750 Tbi (200ch)</td>\n",
              "      <td>M10ALFVP000G340</td>\n",
              "      <td>939AXN1B52C</td>\n",
              "      <td>ES</td>\n",
              "      <td>non</td>\n",
              "      <td>12</td>\n",
              "      <td>147.0</td>\n",
              "      <td>...</td>\n",
              "      <td>0.052</td>\n",
              "      <td>0.032</td>\n",
              "      <td>NaN</td>\n",
              "      <td>0.002</td>\n",
              "      <td>1505</td>\n",
              "      <td>1505</td>\n",
              "      <td>715/2007*692/2008EURO5</td>\n",
              "      <td>juin-13</td>\n",
              "      <td>BREAK</td>\n",
              "      <td>MOY-SUPER</td>\n",
              "    </tr>\n",
              "    <tr>\n",
              "      <th>1</th>\n",
              "      <td>ALFA-ROMEO</td>\n",
              "      <td>159</td>\n",
              "      <td>159</td>\n",
              "      <td>159 2.0 JTDm (170ch) ECO</td>\n",
              "      <td>M10ALFVP000U221</td>\n",
              "      <td>939AXP1B54C</td>\n",
              "      <td>GO</td>\n",
              "      <td>non</td>\n",
              "      <td>9</td>\n",
              "      <td>125.0</td>\n",
              "      <td>...</td>\n",
              "      <td>NaN</td>\n",
              "      <td>0.169</td>\n",
              "      <td>0.190</td>\n",
              "      <td>0.003</td>\n",
              "      <td>1565</td>\n",
              "      <td>1565</td>\n",
              "      <td>715/2007*692/2008EURO5</td>\n",
              "      <td>juin-13</td>\n",
              "      <td>BERLINE</td>\n",
              "      <td>MOY-SUPER</td>\n",
              "    </tr>\n",
              "    <tr>\n",
              "      <th>2</th>\n",
              "      <td>ALFA-ROMEO</td>\n",
              "      <td>159</td>\n",
              "      <td>159</td>\n",
              "      <td>159 2.0 JTDm (136ch)</td>\n",
              "      <td>M10ALFVP000E302</td>\n",
              "      <td>939AXR1B64</td>\n",
              "      <td>GO</td>\n",
              "      <td>non</td>\n",
              "      <td>7</td>\n",
              "      <td>100.0</td>\n",
              "      <td>...</td>\n",
              "      <td>NaN</td>\n",
              "      <td>0.149</td>\n",
              "      <td>0.175</td>\n",
              "      <td>0.001</td>\n",
              "      <td>1565</td>\n",
              "      <td>1565</td>\n",
              "      <td>715/2007*692/2008EURO5</td>\n",
              "      <td>juin-13</td>\n",
              "      <td>BERLINE</td>\n",
              "      <td>MOY-SUPER</td>\n",
              "    </tr>\n",
              "  </tbody>\n",
              "</table>\n",
              "<p>3 rows × 26 columns</p>\n",
              "</div>\n",
              "    <div class=\"colab-df-buttons\">\n",
              "\n",
              "  <div class=\"colab-df-container\">\n",
              "    <button class=\"colab-df-convert\" onclick=\"convertToInteractive('df-3a531715-c255-443f-bda2-bb1d595dcb53')\"\n",
              "            title=\"Convert this dataframe to an interactive table.\"\n",
              "            style=\"display:none;\">\n",
              "\n",
              "  <svg xmlns=\"http://www.w3.org/2000/svg\" height=\"24px\" viewBox=\"0 -960 960 960\">\n",
              "    <path d=\"M120-120v-720h720v720H120Zm60-500h600v-160H180v160Zm220 220h160v-160H400v160Zm0 220h160v-160H400v160ZM180-400h160v-160H180v160Zm440 0h160v-160H620v160ZM180-180h160v-160H180v160Zm440 0h160v-160H620v160Z\"/>\n",
              "  </svg>\n",
              "    </button>\n",
              "\n",
              "  <style>\n",
              "    .colab-df-container {\n",
              "      display:flex;\n",
              "      gap: 12px;\n",
              "    }\n",
              "\n",
              "    .colab-df-convert {\n",
              "      background-color: #E8F0FE;\n",
              "      border: none;\n",
              "      border-radius: 50%;\n",
              "      cursor: pointer;\n",
              "      display: none;\n",
              "      fill: #1967D2;\n",
              "      height: 32px;\n",
              "      padding: 0 0 0 0;\n",
              "      width: 32px;\n",
              "    }\n",
              "\n",
              "    .colab-df-convert:hover {\n",
              "      background-color: #E2EBFA;\n",
              "      box-shadow: 0px 1px 2px rgba(60, 64, 67, 0.3), 0px 1px 3px 1px rgba(60, 64, 67, 0.15);\n",
              "      fill: #174EA6;\n",
              "    }\n",
              "\n",
              "    .colab-df-buttons div {\n",
              "      margin-bottom: 4px;\n",
              "    }\n",
              "\n",
              "    [theme=dark] .colab-df-convert {\n",
              "      background-color: #3B4455;\n",
              "      fill: #D2E3FC;\n",
              "    }\n",
              "\n",
              "    [theme=dark] .colab-df-convert:hover {\n",
              "      background-color: #434B5C;\n",
              "      box-shadow: 0px 1px 3px 1px rgba(0, 0, 0, 0.15);\n",
              "      filter: drop-shadow(0px 1px 2px rgba(0, 0, 0, 0.3));\n",
              "      fill: #FFFFFF;\n",
              "    }\n",
              "  </style>\n",
              "\n",
              "    <script>\n",
              "      const buttonEl =\n",
              "        document.querySelector('#df-3a531715-c255-443f-bda2-bb1d595dcb53 button.colab-df-convert');\n",
              "      buttonEl.style.display =\n",
              "        google.colab.kernel.accessAllowed ? 'block' : 'none';\n",
              "\n",
              "      async function convertToInteractive(key) {\n",
              "        const element = document.querySelector('#df-3a531715-c255-443f-bda2-bb1d595dcb53');\n",
              "        const dataTable =\n",
              "          await google.colab.kernel.invokeFunction('convertToInteractive',\n",
              "                                                    [key], {});\n",
              "        if (!dataTable) return;\n",
              "\n",
              "        const docLinkHtml = 'Like what you see? Visit the ' +\n",
              "          '<a target=\"_blank\" href=https://colab.research.google.com/notebooks/data_table.ipynb>data table notebook</a>'\n",
              "          + ' to learn more about interactive tables.';\n",
              "        element.innerHTML = '';\n",
              "        dataTable['output_type'] = 'display_data';\n",
              "        await google.colab.output.renderOutput(dataTable, element);\n",
              "        const docLink = document.createElement('div');\n",
              "        docLink.innerHTML = docLinkHtml;\n",
              "        element.appendChild(docLink);\n",
              "      }\n",
              "    </script>\n",
              "  </div>\n",
              "\n",
              "    </div>\n",
              "  </div>\n"
            ]
          },
          "metadata": {}
        },
        {
          "output_type": "display_data",
          "data": {
            "text/plain": [
              "       Puissance administrative  Puissance maximale (kW)  \\\n",
              "count              44850.000000             44850.000000   \n",
              "mean                  11.018997               124.780834   \n",
              "std                    5.554475                49.158804   \n",
              "min                    1.000000                10.000000   \n",
              "25%                    9.000000               100.000000   \n",
              "50%                   10.000000               120.000000   \n",
              "75%                   11.000000               125.000000   \n",
              "max                   81.000000               559.300000   \n",
              "\n",
              "       Consommation urbaine (l/100km)  Consommation extra-urbaine (l/100km)  \\\n",
              "count                    44808.000000                          44808.000000   \n",
              "mean                         9.706744                              6.567634   \n",
              "std                          2.366181                              1.196234   \n",
              "min                          0.000000                              2.800000   \n",
              "25%                          8.800000                              6.300000   \n",
              "50%                          9.800000                              6.700000   \n",
              "75%                         10.700000                              7.100000   \n",
              "max                         41.100000                             14.900000   \n",
              "\n",
              "       Consommation mixte (l/100km)    CO2 (g/km)  CO type I (g/km)  \\\n",
              "count                  44811.000000  44811.000000      44547.000000   \n",
              "mean                       7.716254    198.910892          0.153461   \n",
              "std                        1.597110     39.014678          0.138984   \n",
              "min                        1.200000     27.000000          0.005000   \n",
              "25%                        7.200000    187.000000          0.046000   \n",
              "50%                        7.700000    203.000000          0.093000   \n",
              "75%                        8.400000    221.000000          0.222000   \n",
              "max                       24.500000    572.000000          0.968000   \n",
              "\n",
              "          HC (g/km)    NOX (g/km)  HC+NOX (g/km)  Particules (g/km)  \\\n",
              "count  10403.000000  44547.000000   34191.000000       41708.000000   \n",
              "mean       0.030499      0.311837       0.224788           0.000961   \n",
              "std        0.018408      0.463112       0.041681           0.006469   \n",
              "min        0.008000      0.001000       0.038000           0.000000   \n",
              "25%        0.008000      0.158000       0.201000           0.000000   \n",
              "50%        0.031000      0.197000       0.220000           0.001000   \n",
              "75%        0.044000      0.228000       0.248000           0.001000   \n",
              "max        0.143000      1.846000       0.306000           0.610000   \n",
              "\n",
              "       masse vide euro min (kg)  masse vide euro max (kg)  \n",
              "count              44850.000000              44850.000000  \n",
              "mean                2070.961650               2169.545284  \n",
              "std                  342.872975                410.600541  \n",
              "min                  825.000000                825.000000  \n",
              "25%                 1976.000000               2043.500000  \n",
              "50%                 2076.000000               2185.000000  \n",
              "75%                 2256.000000               2355.000000  \n",
              "max                 3115.000000               3115.000000  "
            ],
            "text/html": [
              "\n",
              "  <div id=\"df-e1c3fe6a-e54f-4985-ad92-b091344eb12b\" class=\"colab-df-container\">\n",
              "    <div>\n",
              "<style scoped>\n",
              "    .dataframe tbody tr th:only-of-type {\n",
              "        vertical-align: middle;\n",
              "    }\n",
              "\n",
              "    .dataframe tbody tr th {\n",
              "        vertical-align: top;\n",
              "    }\n",
              "\n",
              "    .dataframe thead th {\n",
              "        text-align: right;\n",
              "    }\n",
              "</style>\n",
              "<table border=\"1\" class=\"dataframe\">\n",
              "  <thead>\n",
              "    <tr style=\"text-align: right;\">\n",
              "      <th></th>\n",
              "      <th>Puissance administrative</th>\n",
              "      <th>Puissance maximale (kW)</th>\n",
              "      <th>Consommation urbaine (l/100km)</th>\n",
              "      <th>Consommation extra-urbaine (l/100km)</th>\n",
              "      <th>Consommation mixte (l/100km)</th>\n",
              "      <th>CO2 (g/km)</th>\n",
              "      <th>CO type I (g/km)</th>\n",
              "      <th>HC (g/km)</th>\n",
              "      <th>NOX (g/km)</th>\n",
              "      <th>HC+NOX (g/km)</th>\n",
              "      <th>Particules (g/km)</th>\n",
              "      <th>masse vide euro min (kg)</th>\n",
              "      <th>masse vide euro max (kg)</th>\n",
              "    </tr>\n",
              "  </thead>\n",
              "  <tbody>\n",
              "    <tr>\n",
              "      <th>count</th>\n",
              "      <td>44850.000000</td>\n",
              "      <td>44850.000000</td>\n",
              "      <td>44808.000000</td>\n",
              "      <td>44808.000000</td>\n",
              "      <td>44811.000000</td>\n",
              "      <td>44811.000000</td>\n",
              "      <td>44547.000000</td>\n",
              "      <td>10403.000000</td>\n",
              "      <td>44547.000000</td>\n",
              "      <td>34191.000000</td>\n",
              "      <td>41708.000000</td>\n",
              "      <td>44850.000000</td>\n",
              "      <td>44850.000000</td>\n",
              "    </tr>\n",
              "    <tr>\n",
              "      <th>mean</th>\n",
              "      <td>11.018997</td>\n",
              "      <td>124.780834</td>\n",
              "      <td>9.706744</td>\n",
              "      <td>6.567634</td>\n",
              "      <td>7.716254</td>\n",
              "      <td>198.910892</td>\n",
              "      <td>0.153461</td>\n",
              "      <td>0.030499</td>\n",
              "      <td>0.311837</td>\n",
              "      <td>0.224788</td>\n",
              "      <td>0.000961</td>\n",
              "      <td>2070.961650</td>\n",
              "      <td>2169.545284</td>\n",
              "    </tr>\n",
              "    <tr>\n",
              "      <th>std</th>\n",
              "      <td>5.554475</td>\n",
              "      <td>49.158804</td>\n",
              "      <td>2.366181</td>\n",
              "      <td>1.196234</td>\n",
              "      <td>1.597110</td>\n",
              "      <td>39.014678</td>\n",
              "      <td>0.138984</td>\n",
              "      <td>0.018408</td>\n",
              "      <td>0.463112</td>\n",
              "      <td>0.041681</td>\n",
              "      <td>0.006469</td>\n",
              "      <td>342.872975</td>\n",
              "      <td>410.600541</td>\n",
              "    </tr>\n",
              "    <tr>\n",
              "      <th>min</th>\n",
              "      <td>1.000000</td>\n",
              "      <td>10.000000</td>\n",
              "      <td>0.000000</td>\n",
              "      <td>2.800000</td>\n",
              "      <td>1.200000</td>\n",
              "      <td>27.000000</td>\n",
              "      <td>0.005000</td>\n",
              "      <td>0.008000</td>\n",
              "      <td>0.001000</td>\n",
              "      <td>0.038000</td>\n",
              "      <td>0.000000</td>\n",
              "      <td>825.000000</td>\n",
              "      <td>825.000000</td>\n",
              "    </tr>\n",
              "    <tr>\n",
              "      <th>25%</th>\n",
              "      <td>9.000000</td>\n",
              "      <td>100.000000</td>\n",
              "      <td>8.800000</td>\n",
              "      <td>6.300000</td>\n",
              "      <td>7.200000</td>\n",
              "      <td>187.000000</td>\n",
              "      <td>0.046000</td>\n",
              "      <td>0.008000</td>\n",
              "      <td>0.158000</td>\n",
              "      <td>0.201000</td>\n",
              "      <td>0.000000</td>\n",
              "      <td>1976.000000</td>\n",
              "      <td>2043.500000</td>\n",
              "    </tr>\n",
              "    <tr>\n",
              "      <th>50%</th>\n",
              "      <td>10.000000</td>\n",
              "      <td>120.000000</td>\n",
              "      <td>9.800000</td>\n",
              "      <td>6.700000</td>\n",
              "      <td>7.700000</td>\n",
              "      <td>203.000000</td>\n",
              "      <td>0.093000</td>\n",
              "      <td>0.031000</td>\n",
              "      <td>0.197000</td>\n",
              "      <td>0.220000</td>\n",
              "      <td>0.001000</td>\n",
              "      <td>2076.000000</td>\n",
              "      <td>2185.000000</td>\n",
              "    </tr>\n",
              "    <tr>\n",
              "      <th>75%</th>\n",
              "      <td>11.000000</td>\n",
              "      <td>125.000000</td>\n",
              "      <td>10.700000</td>\n",
              "      <td>7.100000</td>\n",
              "      <td>8.400000</td>\n",
              "      <td>221.000000</td>\n",
              "      <td>0.222000</td>\n",
              "      <td>0.044000</td>\n",
              "      <td>0.228000</td>\n",
              "      <td>0.248000</td>\n",
              "      <td>0.001000</td>\n",
              "      <td>2256.000000</td>\n",
              "      <td>2355.000000</td>\n",
              "    </tr>\n",
              "    <tr>\n",
              "      <th>max</th>\n",
              "      <td>81.000000</td>\n",
              "      <td>559.300000</td>\n",
              "      <td>41.100000</td>\n",
              "      <td>14.900000</td>\n",
              "      <td>24.500000</td>\n",
              "      <td>572.000000</td>\n",
              "      <td>0.968000</td>\n",
              "      <td>0.143000</td>\n",
              "      <td>1.846000</td>\n",
              "      <td>0.306000</td>\n",
              "      <td>0.610000</td>\n",
              "      <td>3115.000000</td>\n",
              "      <td>3115.000000</td>\n",
              "    </tr>\n",
              "  </tbody>\n",
              "</table>\n",
              "</div>\n",
              "    <div class=\"colab-df-buttons\">\n",
              "\n",
              "  <div class=\"colab-df-container\">\n",
              "    <button class=\"colab-df-convert\" onclick=\"convertToInteractive('df-e1c3fe6a-e54f-4985-ad92-b091344eb12b')\"\n",
              "            title=\"Convert this dataframe to an interactive table.\"\n",
              "            style=\"display:none;\">\n",
              "\n",
              "  <svg xmlns=\"http://www.w3.org/2000/svg\" height=\"24px\" viewBox=\"0 -960 960 960\">\n",
              "    <path d=\"M120-120v-720h720v720H120Zm60-500h600v-160H180v160Zm220 220h160v-160H400v160Zm0 220h160v-160H400v160ZM180-400h160v-160H180v160Zm440 0h160v-160H620v160ZM180-180h160v-160H180v160Zm440 0h160v-160H620v160Z\"/>\n",
              "  </svg>\n",
              "    </button>\n",
              "\n",
              "  <style>\n",
              "    .colab-df-container {\n",
              "      display:flex;\n",
              "      gap: 12px;\n",
              "    }\n",
              "\n",
              "    .colab-df-convert {\n",
              "      background-color: #E8F0FE;\n",
              "      border: none;\n",
              "      border-radius: 50%;\n",
              "      cursor: pointer;\n",
              "      display: none;\n",
              "      fill: #1967D2;\n",
              "      height: 32px;\n",
              "      padding: 0 0 0 0;\n",
              "      width: 32px;\n",
              "    }\n",
              "\n",
              "    .colab-df-convert:hover {\n",
              "      background-color: #E2EBFA;\n",
              "      box-shadow: 0px 1px 2px rgba(60, 64, 67, 0.3), 0px 1px 3px 1px rgba(60, 64, 67, 0.15);\n",
              "      fill: #174EA6;\n",
              "    }\n",
              "\n",
              "    .colab-df-buttons div {\n",
              "      margin-bottom: 4px;\n",
              "    }\n",
              "\n",
              "    [theme=dark] .colab-df-convert {\n",
              "      background-color: #3B4455;\n",
              "      fill: #D2E3FC;\n",
              "    }\n",
              "\n",
              "    [theme=dark] .colab-df-convert:hover {\n",
              "      background-color: #434B5C;\n",
              "      box-shadow: 0px 1px 3px 1px rgba(0, 0, 0, 0.15);\n",
              "      filter: drop-shadow(0px 1px 2px rgba(0, 0, 0, 0.3));\n",
              "      fill: #FFFFFF;\n",
              "    }\n",
              "  </style>\n",
              "\n",
              "    <script>\n",
              "      const buttonEl =\n",
              "        document.querySelector('#df-e1c3fe6a-e54f-4985-ad92-b091344eb12b button.colab-df-convert');\n",
              "      buttonEl.style.display =\n",
              "        google.colab.kernel.accessAllowed ? 'block' : 'none';\n",
              "\n",
              "      async function convertToInteractive(key) {\n",
              "        const element = document.querySelector('#df-e1c3fe6a-e54f-4985-ad92-b091344eb12b');\n",
              "        const dataTable =\n",
              "          await google.colab.kernel.invokeFunction('convertToInteractive',\n",
              "                                                    [key], {});\n",
              "        if (!dataTable) return;\n",
              "\n",
              "        const docLinkHtml = 'Like what you see? Visit the ' +\n",
              "          '<a target=\"_blank\" href=https://colab.research.google.com/notebooks/data_table.ipynb>data table notebook</a>'\n",
              "          + ' to learn more about interactive tables.';\n",
              "        element.innerHTML = '';\n",
              "        dataTable['output_type'] = 'display_data';\n",
              "        await google.colab.output.renderOutput(dataTable, element);\n",
              "        const docLink = document.createElement('div');\n",
              "        docLink.innerHTML = docLinkHtml;\n",
              "        element.appendChild(docLink);\n",
              "      }\n",
              "    </script>\n",
              "  </div>\n",
              "\n",
              "\n",
              "<div id=\"df-dae3f4a5-15fe-4533-9789-4a4cf23df796\">\n",
              "  <button class=\"colab-df-quickchart\" onclick=\"quickchart('df-dae3f4a5-15fe-4533-9789-4a4cf23df796')\"\n",
              "            title=\"Suggest charts.\"\n",
              "            style=\"display:none;\">\n",
              "\n",
              "<svg xmlns=\"http://www.w3.org/2000/svg\" height=\"24px\"viewBox=\"0 0 24 24\"\n",
              "     width=\"24px\">\n",
              "    <g>\n",
              "        <path d=\"M19 3H5c-1.1 0-2 .9-2 2v14c0 1.1.9 2 2 2h14c1.1 0 2-.9 2-2V5c0-1.1-.9-2-2-2zM9 17H7v-7h2v7zm4 0h-2V7h2v10zm4 0h-2v-4h2v4z\"/>\n",
              "    </g>\n",
              "</svg>\n",
              "  </button>\n",
              "\n",
              "<style>\n",
              "  .colab-df-quickchart {\n",
              "    background-color: #E8F0FE;\n",
              "    border: none;\n",
              "    border-radius: 50%;\n",
              "    cursor: pointer;\n",
              "    display: none;\n",
              "    fill: #1967D2;\n",
              "    height: 32px;\n",
              "    padding: 0 0 0 0;\n",
              "    width: 32px;\n",
              "  }\n",
              "\n",
              "  .colab-df-quickchart:hover {\n",
              "    background-color: #E2EBFA;\n",
              "    box-shadow: 0px 1px 2px rgba(60, 64, 67, 0.3), 0px 1px 3px 1px rgba(60, 64, 67, 0.15);\n",
              "    fill: #174EA6;\n",
              "  }\n",
              "\n",
              "  [theme=dark] .colab-df-quickchart {\n",
              "    background-color: #3B4455;\n",
              "    fill: #D2E3FC;\n",
              "  }\n",
              "\n",
              "  [theme=dark] .colab-df-quickchart:hover {\n",
              "    background-color: #434B5C;\n",
              "    box-shadow: 0px 1px 3px 1px rgba(0, 0, 0, 0.15);\n",
              "    filter: drop-shadow(0px 1px 2px rgba(0, 0, 0, 0.3));\n",
              "    fill: #FFFFFF;\n",
              "  }\n",
              "</style>\n",
              "\n",
              "  <script>\n",
              "    async function quickchart(key) {\n",
              "      const charts = await google.colab.kernel.invokeFunction(\n",
              "          'suggestCharts', [key], {});\n",
              "    }\n",
              "    (() => {\n",
              "      let quickchartButtonEl =\n",
              "        document.querySelector('#df-dae3f4a5-15fe-4533-9789-4a4cf23df796 button');\n",
              "      quickchartButtonEl.style.display =\n",
              "        google.colab.kernel.accessAllowed ? 'block' : 'none';\n",
              "    })();\n",
              "  </script>\n",
              "</div>\n",
              "    </div>\n",
              "  </div>\n"
            ]
          },
          "metadata": {}
        }
      ]
    },
    {
      "cell_type": "markdown",
      "source": [
        "## 2.2 Dataset French Gouverment 2014   : ``fg_2014`"
      ],
      "metadata": {
        "id": "dlU9SEGrnSuL"
      }
    },
    {
      "cell_type": "code",
      "source": [
        "# Dataset French Gouv 2014\n",
        "fg_2014 = pd.read_csv(\"/content/drive/MyDrive/Data Science/Projects/CO2 Project/data/mars-2014-complete.csv\",\n",
        "                      sep=';', encoding='latin-1')\n",
        "\n",
        "print(\"Shape fg_2014:\", fg_2014.shape)\n",
        "\n",
        "display(fg_2014.columns)\n"
      ],
      "metadata": {
        "colab": {
          "base_uri": "https://localhost:8080/",
          "height": 156
        },
        "id": "qqfxMFfJh2qM",
        "outputId": "32ae27c6-930e-403f-96b8-4bce34f06f98"
      },
      "execution_count": 14,
      "outputs": [
        {
          "output_type": "stream",
          "name": "stdout",
          "text": [
            "Shape fg_2014: (55044, 30)\n"
          ]
        },
        {
          "output_type": "display_data",
          "data": {
            "text/plain": [
              "Index(['lib_mrq', 'lib_mod_doss', 'lib_mod', 'dscom', 'cnit', 'tvv', 'cod_cbr',\n",
              "       'hybride', 'puiss_admin_98', 'puiss_max', 'typ_boite_nb_rapp',\n",
              "       'conso_urb', 'conso_exurb', 'conso_mixte', 'co2', 'co_typ_1', 'hc',\n",
              "       'nox', 'hcnox', 'ptcl', 'masse_ordma_min', 'masse_ordma_max',\n",
              "       'champ_v9', 'date_maj', 'Carrosserie', 'gamme', 'Unnamed: 26',\n",
              "       'Unnamed: 27', 'Unnamed: 28', 'Unnamed: 29'],\n",
              "      dtype='object')"
            ]
          },
          "metadata": {}
        }
      ]
    },
    {
      "cell_type": "code",
      "source": [
        "display(fg_2014[['Unnamed: 26', 'Unnamed: 27', 'Unnamed: 28', 'Unnamed: 29']].describe())\n"
      ],
      "metadata": {
        "colab": {
          "base_uri": "https://localhost:8080/",
          "height": 300
        },
        "id": "hnUJz1qIiiEq",
        "outputId": "90c408cd-4006-44c1-fd08-d055c8e60355"
      },
      "execution_count": 16,
      "outputs": [
        {
          "output_type": "display_data",
          "data": {
            "text/plain": [
              "       Unnamed: 26  Unnamed: 27  Unnamed: 28  Unnamed: 29\n",
              "count          0.0          0.0          0.0          0.0\n",
              "mean           NaN          NaN          NaN          NaN\n",
              "std            NaN          NaN          NaN          NaN\n",
              "min            NaN          NaN          NaN          NaN\n",
              "25%            NaN          NaN          NaN          NaN\n",
              "50%            NaN          NaN          NaN          NaN\n",
              "75%            NaN          NaN          NaN          NaN\n",
              "max            NaN          NaN          NaN          NaN"
            ],
            "text/html": [
              "\n",
              "  <div id=\"df-dba81c11-f0c7-437c-ab39-b927baf87873\" class=\"colab-df-container\">\n",
              "    <div>\n",
              "<style scoped>\n",
              "    .dataframe tbody tr th:only-of-type {\n",
              "        vertical-align: middle;\n",
              "    }\n",
              "\n",
              "    .dataframe tbody tr th {\n",
              "        vertical-align: top;\n",
              "    }\n",
              "\n",
              "    .dataframe thead th {\n",
              "        text-align: right;\n",
              "    }\n",
              "</style>\n",
              "<table border=\"1\" class=\"dataframe\">\n",
              "  <thead>\n",
              "    <tr style=\"text-align: right;\">\n",
              "      <th></th>\n",
              "      <th>Unnamed: 26</th>\n",
              "      <th>Unnamed: 27</th>\n",
              "      <th>Unnamed: 28</th>\n",
              "      <th>Unnamed: 29</th>\n",
              "    </tr>\n",
              "  </thead>\n",
              "  <tbody>\n",
              "    <tr>\n",
              "      <th>count</th>\n",
              "      <td>0.0</td>\n",
              "      <td>0.0</td>\n",
              "      <td>0.0</td>\n",
              "      <td>0.0</td>\n",
              "    </tr>\n",
              "    <tr>\n",
              "      <th>mean</th>\n",
              "      <td>NaN</td>\n",
              "      <td>NaN</td>\n",
              "      <td>NaN</td>\n",
              "      <td>NaN</td>\n",
              "    </tr>\n",
              "    <tr>\n",
              "      <th>std</th>\n",
              "      <td>NaN</td>\n",
              "      <td>NaN</td>\n",
              "      <td>NaN</td>\n",
              "      <td>NaN</td>\n",
              "    </tr>\n",
              "    <tr>\n",
              "      <th>min</th>\n",
              "      <td>NaN</td>\n",
              "      <td>NaN</td>\n",
              "      <td>NaN</td>\n",
              "      <td>NaN</td>\n",
              "    </tr>\n",
              "    <tr>\n",
              "      <th>25%</th>\n",
              "      <td>NaN</td>\n",
              "      <td>NaN</td>\n",
              "      <td>NaN</td>\n",
              "      <td>NaN</td>\n",
              "    </tr>\n",
              "    <tr>\n",
              "      <th>50%</th>\n",
              "      <td>NaN</td>\n",
              "      <td>NaN</td>\n",
              "      <td>NaN</td>\n",
              "      <td>NaN</td>\n",
              "    </tr>\n",
              "    <tr>\n",
              "      <th>75%</th>\n",
              "      <td>NaN</td>\n",
              "      <td>NaN</td>\n",
              "      <td>NaN</td>\n",
              "      <td>NaN</td>\n",
              "    </tr>\n",
              "    <tr>\n",
              "      <th>max</th>\n",
              "      <td>NaN</td>\n",
              "      <td>NaN</td>\n",
              "      <td>NaN</td>\n",
              "      <td>NaN</td>\n",
              "    </tr>\n",
              "  </tbody>\n",
              "</table>\n",
              "</div>\n",
              "    <div class=\"colab-df-buttons\">\n",
              "\n",
              "  <div class=\"colab-df-container\">\n",
              "    <button class=\"colab-df-convert\" onclick=\"convertToInteractive('df-dba81c11-f0c7-437c-ab39-b927baf87873')\"\n",
              "            title=\"Convert this dataframe to an interactive table.\"\n",
              "            style=\"display:none;\">\n",
              "\n",
              "  <svg xmlns=\"http://www.w3.org/2000/svg\" height=\"24px\" viewBox=\"0 -960 960 960\">\n",
              "    <path d=\"M120-120v-720h720v720H120Zm60-500h600v-160H180v160Zm220 220h160v-160H400v160Zm0 220h160v-160H400v160ZM180-400h160v-160H180v160Zm440 0h160v-160H620v160ZM180-180h160v-160H180v160Zm440 0h160v-160H620v160Z\"/>\n",
              "  </svg>\n",
              "    </button>\n",
              "\n",
              "  <style>\n",
              "    .colab-df-container {\n",
              "      display:flex;\n",
              "      gap: 12px;\n",
              "    }\n",
              "\n",
              "    .colab-df-convert {\n",
              "      background-color: #E8F0FE;\n",
              "      border: none;\n",
              "      border-radius: 50%;\n",
              "      cursor: pointer;\n",
              "      display: none;\n",
              "      fill: #1967D2;\n",
              "      height: 32px;\n",
              "      padding: 0 0 0 0;\n",
              "      width: 32px;\n",
              "    }\n",
              "\n",
              "    .colab-df-convert:hover {\n",
              "      background-color: #E2EBFA;\n",
              "      box-shadow: 0px 1px 2px rgba(60, 64, 67, 0.3), 0px 1px 3px 1px rgba(60, 64, 67, 0.15);\n",
              "      fill: #174EA6;\n",
              "    }\n",
              "\n",
              "    .colab-df-buttons div {\n",
              "      margin-bottom: 4px;\n",
              "    }\n",
              "\n",
              "    [theme=dark] .colab-df-convert {\n",
              "      background-color: #3B4455;\n",
              "      fill: #D2E3FC;\n",
              "    }\n",
              "\n",
              "    [theme=dark] .colab-df-convert:hover {\n",
              "      background-color: #434B5C;\n",
              "      box-shadow: 0px 1px 3px 1px rgba(0, 0, 0, 0.15);\n",
              "      filter: drop-shadow(0px 1px 2px rgba(0, 0, 0, 0.3));\n",
              "      fill: #FFFFFF;\n",
              "    }\n",
              "  </style>\n",
              "\n",
              "    <script>\n",
              "      const buttonEl =\n",
              "        document.querySelector('#df-dba81c11-f0c7-437c-ab39-b927baf87873 button.colab-df-convert');\n",
              "      buttonEl.style.display =\n",
              "        google.colab.kernel.accessAllowed ? 'block' : 'none';\n",
              "\n",
              "      async function convertToInteractive(key) {\n",
              "        const element = document.querySelector('#df-dba81c11-f0c7-437c-ab39-b927baf87873');\n",
              "        const dataTable =\n",
              "          await google.colab.kernel.invokeFunction('convertToInteractive',\n",
              "                                                    [key], {});\n",
              "        if (!dataTable) return;\n",
              "\n",
              "        const docLinkHtml = 'Like what you see? Visit the ' +\n",
              "          '<a target=\"_blank\" href=https://colab.research.google.com/notebooks/data_table.ipynb>data table notebook</a>'\n",
              "          + ' to learn more about interactive tables.';\n",
              "        element.innerHTML = '';\n",
              "        dataTable['output_type'] = 'display_data';\n",
              "        await google.colab.output.renderOutput(dataTable, element);\n",
              "        const docLink = document.createElement('div');\n",
              "        docLink.innerHTML = docLinkHtml;\n",
              "        element.appendChild(docLink);\n",
              "      }\n",
              "    </script>\n",
              "  </div>\n",
              "\n",
              "\n",
              "<div id=\"df-aaa57d69-adeb-47ad-a33b-c369608cdcd4\">\n",
              "  <button class=\"colab-df-quickchart\" onclick=\"quickchart('df-aaa57d69-adeb-47ad-a33b-c369608cdcd4')\"\n",
              "            title=\"Suggest charts.\"\n",
              "            style=\"display:none;\">\n",
              "\n",
              "<svg xmlns=\"http://www.w3.org/2000/svg\" height=\"24px\"viewBox=\"0 0 24 24\"\n",
              "     width=\"24px\">\n",
              "    <g>\n",
              "        <path d=\"M19 3H5c-1.1 0-2 .9-2 2v14c0 1.1.9 2 2 2h14c1.1 0 2-.9 2-2V5c0-1.1-.9-2-2-2zM9 17H7v-7h2v7zm4 0h-2V7h2v10zm4 0h-2v-4h2v4z\"/>\n",
              "    </g>\n",
              "</svg>\n",
              "  </button>\n",
              "\n",
              "<style>\n",
              "  .colab-df-quickchart {\n",
              "    background-color: #E8F0FE;\n",
              "    border: none;\n",
              "    border-radius: 50%;\n",
              "    cursor: pointer;\n",
              "    display: none;\n",
              "    fill: #1967D2;\n",
              "    height: 32px;\n",
              "    padding: 0 0 0 0;\n",
              "    width: 32px;\n",
              "  }\n",
              "\n",
              "  .colab-df-quickchart:hover {\n",
              "    background-color: #E2EBFA;\n",
              "    box-shadow: 0px 1px 2px rgba(60, 64, 67, 0.3), 0px 1px 3px 1px rgba(60, 64, 67, 0.15);\n",
              "    fill: #174EA6;\n",
              "  }\n",
              "\n",
              "  [theme=dark] .colab-df-quickchart {\n",
              "    background-color: #3B4455;\n",
              "    fill: #D2E3FC;\n",
              "  }\n",
              "\n",
              "  [theme=dark] .colab-df-quickchart:hover {\n",
              "    background-color: #434B5C;\n",
              "    box-shadow: 0px 1px 3px 1px rgba(0, 0, 0, 0.15);\n",
              "    filter: drop-shadow(0px 1px 2px rgba(0, 0, 0, 0.3));\n",
              "    fill: #FFFFFF;\n",
              "  }\n",
              "</style>\n",
              "\n",
              "  <script>\n",
              "    async function quickchart(key) {\n",
              "      const charts = await google.colab.kernel.invokeFunction(\n",
              "          'suggestCharts', [key], {});\n",
              "    }\n",
              "    (() => {\n",
              "      let quickchartButtonEl =\n",
              "        document.querySelector('#df-aaa57d69-adeb-47ad-a33b-c369608cdcd4 button');\n",
              "      quickchartButtonEl.style.display =\n",
              "        google.colab.kernel.accessAllowed ? 'block' : 'none';\n",
              "    })();\n",
              "  </script>\n",
              "</div>\n",
              "    </div>\n",
              "  </div>\n"
            ]
          },
          "metadata": {}
        }
      ]
    },
    {
      "cell_type": "markdown",
      "source": [
        "### 2.2.1 drop Unnamed 26 -29"
      ],
      "metadata": {
        "id": "3kQebxQbv3Bx"
      }
    },
    {
      "cell_type": "code",
      "source": [
        "fg_2014 = fg_2014.drop(fg_2014.columns[-4:], axis=1)\n",
        "\n",
        "print(\"fg_2013\",fg_2013.shape)\n",
        "print(\"fg_2014\",fg_2014.shape)"
      ],
      "metadata": {
        "colab": {
          "base_uri": "https://localhost:8080/"
        },
        "id": "SiuwOfSqlEI3",
        "outputId": "3383ae39-a51b-4e31-eec2-f3c2daff4588"
      },
      "execution_count": 17,
      "outputs": [
        {
          "output_type": "stream",
          "name": "stdout",
          "text": [
            "fg_2013 (44850, 26)\n",
            "fg_2014 (55044, 26)\n"
          ]
        }
      ]
    },
    {
      "cell_type": "markdown",
      "source": [
        "### 2.2.2 Column Mapping Dictonary for ``fg_2013`` and `fg_2014`"
      ],
      "metadata": {
        "id": "eEO0kvhngLa0"
      }
    },
    {
      "cell_type": "code",
      "source": [
        "# Create a dictionary to map column names from fg_2014 to fg_2013\n",
        "column_map = dict(zip(fg_2014.columns, fg_2013.columns))\n",
        "\n",
        "# Rename the columns in fg_2014\n",
        "fg_2014 = fg_2014.rename(columns=column_map)"
      ],
      "metadata": {
        "id": "LYlSOvPairzj"
      },
      "execution_count": 18,
      "outputs": []
    },
    {
      "cell_type": "code",
      "source": [
        "column_name_mapping = {\n",
        "    'Marque': 'Brand',\n",
        "    'lib_mrq': 'Brand',\n",
        "    'Modèle dossier': 'Model file',\n",
        "    'Modèle UTAC': 'UTAC model',\n",
        "    'Désignation commerciale': 'Commercial designation',\n",
        "    'CNIT': 'CNIT',\n",
        "    'Type Variante Version (TVV)': 'Type Variant Version (TVV)',\n",
        "    'Carburant': 'Fuel',\n",
        "    'Hybride': 'Hybrid',\n",
        "    'Puissance administrative': 'Administrative power',\n",
        "    'Puissance maximale (kW)': 'Maximum power (kW)',\n",
        "    'Boîte de vitesse': 'Transmission',\n",
        "    'Consommation urbaine (l/100km)': 'Urban consumption (l/100km)',\n",
        "    'Consommation extra-urbaine (l/100km)': 'Extra-urban consumption (l/100km)',\n",
        "    'Consommation mixte (l/100km)': 'Combined consumption (l/100km)',\n",
        "    'CO2 (g/km)': 'CO2 (g/km)',\n",
        "    'CO type I (g/km)': 'CO type I (g/km)',\n",
        "    'HC (g/km)': 'HC (g/km)',\n",
        "    'NOX (g/km)': 'NOX (g/km)',\n",
        "    'HC+NOX (g/km)': 'HC+NOX (g/km)',\n",
        "    'Particules (g/km)': 'Particulates (g/km)',\n",
        "    'masse vide euro min (kg)': 'Empty mass euro min (kg)',\n",
        "    'masse vide euro max (kg)': 'Empty mass euro max (kg)',\n",
        "    'Champ V9': 'Field V9',\n",
        "    'Date de mise à jour': 'Update date',\n",
        "    'Carrosserie': 'Body',\n",
        "    'gamme': 'Range'\n",
        "    }"
      ],
      "metadata": {
        "id": "OjfkQktQgCBh"
      },
      "execution_count": 19,
      "outputs": []
    },
    {
      "cell_type": "code",
      "source": [
        "# Rename the columns using the mapping dictionary\n",
        "fg_2013.rename(columns=column_name_mapping, inplace=True)\n",
        "\n",
        "# Rename the columns using the mapping dictionary\n",
        "fg_2014.rename(columns=column_name_mapping, inplace=True)\n",
        "\n",
        "print(\"fg_2013 - columns:\"\"\\n\",fg_2013.columns,\"\\n\")\n",
        "print(\"fg_2014 - columns:\"\"\\n\",fg_2014.columns)"
      ],
      "metadata": {
        "colab": {
          "base_uri": "https://localhost:8080/"
        },
        "id": "pP_E4yElixFD",
        "outputId": "36195c20-a664-44a8-8205-b0f695830ec5"
      },
      "execution_count": 20,
      "outputs": [
        {
          "output_type": "stream",
          "name": "stdout",
          "text": [
            "fg_2013 - columns:\n",
            " Index(['Brand', 'Model file', 'UTAC model', 'Commercial designation', 'CNIT',\n",
            "       'Type Variant Version (TVV)', 'Fuel', 'Hybrid', 'Administrative power',\n",
            "       'Maximum power (kW)', 'Transmission', 'Urban consumption (l/100km)',\n",
            "       'Extra-urban consumption (l/100km)', 'Combined consumption (l/100km)',\n",
            "       'CO2 (g/km)', 'CO type I (g/km)', 'HC (g/km)', 'NOX (g/km)',\n",
            "       'HC+NOX (g/km)', 'Particulates (g/km)', 'Empty mass euro min (kg)',\n",
            "       'Empty mass euro max (kg)', 'Field V9', 'Update date', 'Body', 'Range'],\n",
            "      dtype='object') \n",
            "\n",
            "fg_2014 - columns:\n",
            " Index(['Brand', 'Model file', 'UTAC model', 'Commercial designation', 'CNIT',\n",
            "       'Type Variant Version (TVV)', 'Fuel', 'Hybrid', 'Administrative power',\n",
            "       'Maximum power (kW)', 'Transmission', 'Urban consumption (l/100km)',\n",
            "       'Extra-urban consumption (l/100km)', 'Combined consumption (l/100km)',\n",
            "       'CO2 (g/km)', 'CO type I (g/km)', 'HC (g/km)', 'NOX (g/km)',\n",
            "       'HC+NOX (g/km)', 'Particulates (g/km)', 'Empty mass euro min (kg)',\n",
            "       'Empty mass euro max (kg)', 'Field V9', 'Update date', 'Body', 'Range'],\n",
            "      dtype='object')\n"
          ]
        }
      ]
    },
    {
      "cell_type": "code",
      "source": [
        "fg_2014.head(3)"
      ],
      "metadata": {
        "id": "gwfQhOu5-qJ7",
        "colab": {
          "base_uri": "https://localhost:8080/",
          "height": 332
        },
        "outputId": "5b8300f8-fcc0-4391-90d4-ec391eb17ea7"
      },
      "execution_count": 21,
      "outputs": [
        {
          "output_type": "execute_result",
          "data": {
            "text/plain": [
              "        Brand Model file UTAC model Commercial designation             CNIT  \\\n",
              "0  ALFA-ROMEO        159        159   159 1750 Tbi (200ch)  M10ALFVP000G340   \n",
              "1  ALFA-ROMEO        159        159   159 1750 Tbi (200ch)  M10ALFVP000H341   \n",
              "2  ALFA-ROMEO        159        159   159 2.0 JTDm (136ch)  M10ALFVP000E302   \n",
              "\n",
              "  Type Variant Version (TVV) Fuel Hybrid  Administrative power  \\\n",
              "0                939AXN1B52C   ES    non                    12   \n",
              "1                939BXN1B53C   ES    non                    12   \n",
              "2                 939AXR1B64   GO    non                     7   \n",
              "\n",
              "  Maximum power (kW)  ...    HC (g/km)   NOX (g/km) HC+NOX (g/km)  \\\n",
              "0                147  ...  0,052000001  0,032000002           NaN   \n",
              "1                147  ...  0,052000001  0,032000002           NaN   \n",
              "2                100  ...          NaN  0,149000004   0,174999997   \n",
              "\n",
              "  Particulates (g/km)  Empty mass euro min (kg) Empty mass euro max (kg)  \\\n",
              "0               0,002                      1505                     1505   \n",
              "1               0,002                      1555                     1555   \n",
              "2               0,001                      1565                     1565   \n",
              "\n",
              "                 Field V9 Update date     Body      Range  \n",
              "0  715/2007*692/2008EURO5     mars-14  BERLINE  MOY-SUPER  \n",
              "1  715/2007*692/2008EURO5     mars-14  BERLINE  MOY-SUPER  \n",
              "2  715/2007*692/2008EURO5     mars-14  BERLINE  MOY-SUPER  \n",
              "\n",
              "[3 rows x 26 columns]"
            ],
            "text/html": [
              "\n",
              "  <div id=\"df-a8f2b838-72f6-4768-957a-aa84668b9f8b\" class=\"colab-df-container\">\n",
              "    <div>\n",
              "<style scoped>\n",
              "    .dataframe tbody tr th:only-of-type {\n",
              "        vertical-align: middle;\n",
              "    }\n",
              "\n",
              "    .dataframe tbody tr th {\n",
              "        vertical-align: top;\n",
              "    }\n",
              "\n",
              "    .dataframe thead th {\n",
              "        text-align: right;\n",
              "    }\n",
              "</style>\n",
              "<table border=\"1\" class=\"dataframe\">\n",
              "  <thead>\n",
              "    <tr style=\"text-align: right;\">\n",
              "      <th></th>\n",
              "      <th>Brand</th>\n",
              "      <th>Model file</th>\n",
              "      <th>UTAC model</th>\n",
              "      <th>Commercial designation</th>\n",
              "      <th>CNIT</th>\n",
              "      <th>Type Variant Version (TVV)</th>\n",
              "      <th>Fuel</th>\n",
              "      <th>Hybrid</th>\n",
              "      <th>Administrative power</th>\n",
              "      <th>Maximum power (kW)</th>\n",
              "      <th>...</th>\n",
              "      <th>HC (g/km)</th>\n",
              "      <th>NOX (g/km)</th>\n",
              "      <th>HC+NOX (g/km)</th>\n",
              "      <th>Particulates (g/km)</th>\n",
              "      <th>Empty mass euro min (kg)</th>\n",
              "      <th>Empty mass euro max (kg)</th>\n",
              "      <th>Field V9</th>\n",
              "      <th>Update date</th>\n",
              "      <th>Body</th>\n",
              "      <th>Range</th>\n",
              "    </tr>\n",
              "  </thead>\n",
              "  <tbody>\n",
              "    <tr>\n",
              "      <th>0</th>\n",
              "      <td>ALFA-ROMEO</td>\n",
              "      <td>159</td>\n",
              "      <td>159</td>\n",
              "      <td>159 1750 Tbi (200ch)</td>\n",
              "      <td>M10ALFVP000G340</td>\n",
              "      <td>939AXN1B52C</td>\n",
              "      <td>ES</td>\n",
              "      <td>non</td>\n",
              "      <td>12</td>\n",
              "      <td>147</td>\n",
              "      <td>...</td>\n",
              "      <td>0,052000001</td>\n",
              "      <td>0,032000002</td>\n",
              "      <td>NaN</td>\n",
              "      <td>0,002</td>\n",
              "      <td>1505</td>\n",
              "      <td>1505</td>\n",
              "      <td>715/2007*692/2008EURO5</td>\n",
              "      <td>mars-14</td>\n",
              "      <td>BERLINE</td>\n",
              "      <td>MOY-SUPER</td>\n",
              "    </tr>\n",
              "    <tr>\n",
              "      <th>1</th>\n",
              "      <td>ALFA-ROMEO</td>\n",
              "      <td>159</td>\n",
              "      <td>159</td>\n",
              "      <td>159 1750 Tbi (200ch)</td>\n",
              "      <td>M10ALFVP000H341</td>\n",
              "      <td>939BXN1B53C</td>\n",
              "      <td>ES</td>\n",
              "      <td>non</td>\n",
              "      <td>12</td>\n",
              "      <td>147</td>\n",
              "      <td>...</td>\n",
              "      <td>0,052000001</td>\n",
              "      <td>0,032000002</td>\n",
              "      <td>NaN</td>\n",
              "      <td>0,002</td>\n",
              "      <td>1555</td>\n",
              "      <td>1555</td>\n",
              "      <td>715/2007*692/2008EURO5</td>\n",
              "      <td>mars-14</td>\n",
              "      <td>BERLINE</td>\n",
              "      <td>MOY-SUPER</td>\n",
              "    </tr>\n",
              "    <tr>\n",
              "      <th>2</th>\n",
              "      <td>ALFA-ROMEO</td>\n",
              "      <td>159</td>\n",
              "      <td>159</td>\n",
              "      <td>159 2.0 JTDm (136ch)</td>\n",
              "      <td>M10ALFVP000E302</td>\n",
              "      <td>939AXR1B64</td>\n",
              "      <td>GO</td>\n",
              "      <td>non</td>\n",
              "      <td>7</td>\n",
              "      <td>100</td>\n",
              "      <td>...</td>\n",
              "      <td>NaN</td>\n",
              "      <td>0,149000004</td>\n",
              "      <td>0,174999997</td>\n",
              "      <td>0,001</td>\n",
              "      <td>1565</td>\n",
              "      <td>1565</td>\n",
              "      <td>715/2007*692/2008EURO5</td>\n",
              "      <td>mars-14</td>\n",
              "      <td>BERLINE</td>\n",
              "      <td>MOY-SUPER</td>\n",
              "    </tr>\n",
              "  </tbody>\n",
              "</table>\n",
              "<p>3 rows × 26 columns</p>\n",
              "</div>\n",
              "    <div class=\"colab-df-buttons\">\n",
              "\n",
              "  <div class=\"colab-df-container\">\n",
              "    <button class=\"colab-df-convert\" onclick=\"convertToInteractive('df-a8f2b838-72f6-4768-957a-aa84668b9f8b')\"\n",
              "            title=\"Convert this dataframe to an interactive table.\"\n",
              "            style=\"display:none;\">\n",
              "\n",
              "  <svg xmlns=\"http://www.w3.org/2000/svg\" height=\"24px\" viewBox=\"0 -960 960 960\">\n",
              "    <path d=\"M120-120v-720h720v720H120Zm60-500h600v-160H180v160Zm220 220h160v-160H400v160Zm0 220h160v-160H400v160ZM180-400h160v-160H180v160Zm440 0h160v-160H620v160ZM180-180h160v-160H180v160Zm440 0h160v-160H620v160Z\"/>\n",
              "  </svg>\n",
              "    </button>\n",
              "\n",
              "  <style>\n",
              "    .colab-df-container {\n",
              "      display:flex;\n",
              "      gap: 12px;\n",
              "    }\n",
              "\n",
              "    .colab-df-convert {\n",
              "      background-color: #E8F0FE;\n",
              "      border: none;\n",
              "      border-radius: 50%;\n",
              "      cursor: pointer;\n",
              "      display: none;\n",
              "      fill: #1967D2;\n",
              "      height: 32px;\n",
              "      padding: 0 0 0 0;\n",
              "      width: 32px;\n",
              "    }\n",
              "\n",
              "    .colab-df-convert:hover {\n",
              "      background-color: #E2EBFA;\n",
              "      box-shadow: 0px 1px 2px rgba(60, 64, 67, 0.3), 0px 1px 3px 1px rgba(60, 64, 67, 0.15);\n",
              "      fill: #174EA6;\n",
              "    }\n",
              "\n",
              "    .colab-df-buttons div {\n",
              "      margin-bottom: 4px;\n",
              "    }\n",
              "\n",
              "    [theme=dark] .colab-df-convert {\n",
              "      background-color: #3B4455;\n",
              "      fill: #D2E3FC;\n",
              "    }\n",
              "\n",
              "    [theme=dark] .colab-df-convert:hover {\n",
              "      background-color: #434B5C;\n",
              "      box-shadow: 0px 1px 3px 1px rgba(0, 0, 0, 0.15);\n",
              "      filter: drop-shadow(0px 1px 2px rgba(0, 0, 0, 0.3));\n",
              "      fill: #FFFFFF;\n",
              "    }\n",
              "  </style>\n",
              "\n",
              "    <script>\n",
              "      const buttonEl =\n",
              "        document.querySelector('#df-a8f2b838-72f6-4768-957a-aa84668b9f8b button.colab-df-convert');\n",
              "      buttonEl.style.display =\n",
              "        google.colab.kernel.accessAllowed ? 'block' : 'none';\n",
              "\n",
              "      async function convertToInteractive(key) {\n",
              "        const element = document.querySelector('#df-a8f2b838-72f6-4768-957a-aa84668b9f8b');\n",
              "        const dataTable =\n",
              "          await google.colab.kernel.invokeFunction('convertToInteractive',\n",
              "                                                    [key], {});\n",
              "        if (!dataTable) return;\n",
              "\n",
              "        const docLinkHtml = 'Like what you see? Visit the ' +\n",
              "          '<a target=\"_blank\" href=https://colab.research.google.com/notebooks/data_table.ipynb>data table notebook</a>'\n",
              "          + ' to learn more about interactive tables.';\n",
              "        element.innerHTML = '';\n",
              "        dataTable['output_type'] = 'display_data';\n",
              "        await google.colab.output.renderOutput(dataTable, element);\n",
              "        const docLink = document.createElement('div');\n",
              "        docLink.innerHTML = docLinkHtml;\n",
              "        element.appendChild(docLink);\n",
              "      }\n",
              "    </script>\n",
              "  </div>\n",
              "\n",
              "    </div>\n",
              "  </div>\n"
            ]
          },
          "metadata": {},
          "execution_count": 21
        }
      ]
    },
    {
      "cell_type": "code",
      "source": [
        "fg_2014.describe()"
      ],
      "metadata": {
        "colab": {
          "base_uri": "https://localhost:8080/",
          "height": 300
        },
        "id": "TwPg1RMAVgJm",
        "outputId": "a0d75310-6c65-454e-8fb4-944f23c3f4da"
      },
      "execution_count": 22,
      "outputs": [
        {
          "output_type": "execute_result",
          "data": {
            "text/plain": [
              "       Administrative power    CO2 (g/km)  Empty mass euro min (kg)  \\\n",
              "count          55044.000000  55010.000000              55044.000000   \n",
              "mean              10.551504    201.707035               2102.104553   \n",
              "std                5.126021     33.976278                294.731715   \n",
              "min                1.000000     13.000000                825.000000   \n",
              "25%                9.000000    193.000000               1982.000000   \n",
              "50%               10.000000    205.000000               2076.000000   \n",
              "75%               10.000000    216.000000               2246.000000   \n",
              "max               81.000000    572.000000               2760.000000   \n",
              "\n",
              "       Empty mass euro max (kg)  \n",
              "count              55044.000000  \n",
              "mean                2341.021801  \n",
              "std                  424.067895  \n",
              "min                  825.000000  \n",
              "25%                 2075.000000  \n",
              "50%                 2355.000000  \n",
              "75%                 2709.000000  \n",
              "max                 3094.000000  "
            ],
            "text/html": [
              "\n",
              "  <div id=\"df-5b6c577e-decd-48d5-ac32-50cb076f0c3d\" class=\"colab-df-container\">\n",
              "    <div>\n",
              "<style scoped>\n",
              "    .dataframe tbody tr th:only-of-type {\n",
              "        vertical-align: middle;\n",
              "    }\n",
              "\n",
              "    .dataframe tbody tr th {\n",
              "        vertical-align: top;\n",
              "    }\n",
              "\n",
              "    .dataframe thead th {\n",
              "        text-align: right;\n",
              "    }\n",
              "</style>\n",
              "<table border=\"1\" class=\"dataframe\">\n",
              "  <thead>\n",
              "    <tr style=\"text-align: right;\">\n",
              "      <th></th>\n",
              "      <th>Administrative power</th>\n",
              "      <th>CO2 (g/km)</th>\n",
              "      <th>Empty mass euro min (kg)</th>\n",
              "      <th>Empty mass euro max (kg)</th>\n",
              "    </tr>\n",
              "  </thead>\n",
              "  <tbody>\n",
              "    <tr>\n",
              "      <th>count</th>\n",
              "      <td>55044.000000</td>\n",
              "      <td>55010.000000</td>\n",
              "      <td>55044.000000</td>\n",
              "      <td>55044.000000</td>\n",
              "    </tr>\n",
              "    <tr>\n",
              "      <th>mean</th>\n",
              "      <td>10.551504</td>\n",
              "      <td>201.707035</td>\n",
              "      <td>2102.104553</td>\n",
              "      <td>2341.021801</td>\n",
              "    </tr>\n",
              "    <tr>\n",
              "      <th>std</th>\n",
              "      <td>5.126021</td>\n",
              "      <td>33.976278</td>\n",
              "      <td>294.731715</td>\n",
              "      <td>424.067895</td>\n",
              "    </tr>\n",
              "    <tr>\n",
              "      <th>min</th>\n",
              "      <td>1.000000</td>\n",
              "      <td>13.000000</td>\n",
              "      <td>825.000000</td>\n",
              "      <td>825.000000</td>\n",
              "    </tr>\n",
              "    <tr>\n",
              "      <th>25%</th>\n",
              "      <td>9.000000</td>\n",
              "      <td>193.000000</td>\n",
              "      <td>1982.000000</td>\n",
              "      <td>2075.000000</td>\n",
              "    </tr>\n",
              "    <tr>\n",
              "      <th>50%</th>\n",
              "      <td>10.000000</td>\n",
              "      <td>205.000000</td>\n",
              "      <td>2076.000000</td>\n",
              "      <td>2355.000000</td>\n",
              "    </tr>\n",
              "    <tr>\n",
              "      <th>75%</th>\n",
              "      <td>10.000000</td>\n",
              "      <td>216.000000</td>\n",
              "      <td>2246.000000</td>\n",
              "      <td>2709.000000</td>\n",
              "    </tr>\n",
              "    <tr>\n",
              "      <th>max</th>\n",
              "      <td>81.000000</td>\n",
              "      <td>572.000000</td>\n",
              "      <td>2760.000000</td>\n",
              "      <td>3094.000000</td>\n",
              "    </tr>\n",
              "  </tbody>\n",
              "</table>\n",
              "</div>\n",
              "    <div class=\"colab-df-buttons\">\n",
              "\n",
              "  <div class=\"colab-df-container\">\n",
              "    <button class=\"colab-df-convert\" onclick=\"convertToInteractive('df-5b6c577e-decd-48d5-ac32-50cb076f0c3d')\"\n",
              "            title=\"Convert this dataframe to an interactive table.\"\n",
              "            style=\"display:none;\">\n",
              "\n",
              "  <svg xmlns=\"http://www.w3.org/2000/svg\" height=\"24px\" viewBox=\"0 -960 960 960\">\n",
              "    <path d=\"M120-120v-720h720v720H120Zm60-500h600v-160H180v160Zm220 220h160v-160H400v160Zm0 220h160v-160H400v160ZM180-400h160v-160H180v160Zm440 0h160v-160H620v160ZM180-180h160v-160H180v160Zm440 0h160v-160H620v160Z\"/>\n",
              "  </svg>\n",
              "    </button>\n",
              "\n",
              "  <style>\n",
              "    .colab-df-container {\n",
              "      display:flex;\n",
              "      gap: 12px;\n",
              "    }\n",
              "\n",
              "    .colab-df-convert {\n",
              "      background-color: #E8F0FE;\n",
              "      border: none;\n",
              "      border-radius: 50%;\n",
              "      cursor: pointer;\n",
              "      display: none;\n",
              "      fill: #1967D2;\n",
              "      height: 32px;\n",
              "      padding: 0 0 0 0;\n",
              "      width: 32px;\n",
              "    }\n",
              "\n",
              "    .colab-df-convert:hover {\n",
              "      background-color: #E2EBFA;\n",
              "      box-shadow: 0px 1px 2px rgba(60, 64, 67, 0.3), 0px 1px 3px 1px rgba(60, 64, 67, 0.15);\n",
              "      fill: #174EA6;\n",
              "    }\n",
              "\n",
              "    .colab-df-buttons div {\n",
              "      margin-bottom: 4px;\n",
              "    }\n",
              "\n",
              "    [theme=dark] .colab-df-convert {\n",
              "      background-color: #3B4455;\n",
              "      fill: #D2E3FC;\n",
              "    }\n",
              "\n",
              "    [theme=dark] .colab-df-convert:hover {\n",
              "      background-color: #434B5C;\n",
              "      box-shadow: 0px 1px 3px 1px rgba(0, 0, 0, 0.15);\n",
              "      filter: drop-shadow(0px 1px 2px rgba(0, 0, 0, 0.3));\n",
              "      fill: #FFFFFF;\n",
              "    }\n",
              "  </style>\n",
              "\n",
              "    <script>\n",
              "      const buttonEl =\n",
              "        document.querySelector('#df-5b6c577e-decd-48d5-ac32-50cb076f0c3d button.colab-df-convert');\n",
              "      buttonEl.style.display =\n",
              "        google.colab.kernel.accessAllowed ? 'block' : 'none';\n",
              "\n",
              "      async function convertToInteractive(key) {\n",
              "        const element = document.querySelector('#df-5b6c577e-decd-48d5-ac32-50cb076f0c3d');\n",
              "        const dataTable =\n",
              "          await google.colab.kernel.invokeFunction('convertToInteractive',\n",
              "                                                    [key], {});\n",
              "        if (!dataTable) return;\n",
              "\n",
              "        const docLinkHtml = 'Like what you see? Visit the ' +\n",
              "          '<a target=\"_blank\" href=https://colab.research.google.com/notebooks/data_table.ipynb>data table notebook</a>'\n",
              "          + ' to learn more about interactive tables.';\n",
              "        element.innerHTML = '';\n",
              "        dataTable['output_type'] = 'display_data';\n",
              "        await google.colab.output.renderOutput(dataTable, element);\n",
              "        const docLink = document.createElement('div');\n",
              "        docLink.innerHTML = docLinkHtml;\n",
              "        element.appendChild(docLink);\n",
              "      }\n",
              "    </script>\n",
              "  </div>\n",
              "\n",
              "\n",
              "<div id=\"df-e231aa56-3715-4c88-8f04-22f2041a3f1d\">\n",
              "  <button class=\"colab-df-quickchart\" onclick=\"quickchart('df-e231aa56-3715-4c88-8f04-22f2041a3f1d')\"\n",
              "            title=\"Suggest charts.\"\n",
              "            style=\"display:none;\">\n",
              "\n",
              "<svg xmlns=\"http://www.w3.org/2000/svg\" height=\"24px\"viewBox=\"0 0 24 24\"\n",
              "     width=\"24px\">\n",
              "    <g>\n",
              "        <path d=\"M19 3H5c-1.1 0-2 .9-2 2v14c0 1.1.9 2 2 2h14c1.1 0 2-.9 2-2V5c0-1.1-.9-2-2-2zM9 17H7v-7h2v7zm4 0h-2V7h2v10zm4 0h-2v-4h2v4z\"/>\n",
              "    </g>\n",
              "</svg>\n",
              "  </button>\n",
              "\n",
              "<style>\n",
              "  .colab-df-quickchart {\n",
              "    background-color: #E8F0FE;\n",
              "    border: none;\n",
              "    border-radius: 50%;\n",
              "    cursor: pointer;\n",
              "    display: none;\n",
              "    fill: #1967D2;\n",
              "    height: 32px;\n",
              "    padding: 0 0 0 0;\n",
              "    width: 32px;\n",
              "  }\n",
              "\n",
              "  .colab-df-quickchart:hover {\n",
              "    background-color: #E2EBFA;\n",
              "    box-shadow: 0px 1px 2px rgba(60, 64, 67, 0.3), 0px 1px 3px 1px rgba(60, 64, 67, 0.15);\n",
              "    fill: #174EA6;\n",
              "  }\n",
              "\n",
              "  [theme=dark] .colab-df-quickchart {\n",
              "    background-color: #3B4455;\n",
              "    fill: #D2E3FC;\n",
              "  }\n",
              "\n",
              "  [theme=dark] .colab-df-quickchart:hover {\n",
              "    background-color: #434B5C;\n",
              "    box-shadow: 0px 1px 3px 1px rgba(0, 0, 0, 0.15);\n",
              "    filter: drop-shadow(0px 1px 2px rgba(0, 0, 0, 0.3));\n",
              "    fill: #FFFFFF;\n",
              "  }\n",
              "</style>\n",
              "\n",
              "  <script>\n",
              "    async function quickchart(key) {\n",
              "      const charts = await google.colab.kernel.invokeFunction(\n",
              "          'suggestCharts', [key], {});\n",
              "    }\n",
              "    (() => {\n",
              "      let quickchartButtonEl =\n",
              "        document.querySelector('#df-e231aa56-3715-4c88-8f04-22f2041a3f1d button');\n",
              "      quickchartButtonEl.style.display =\n",
              "        google.colab.kernel.accessAllowed ? 'block' : 'none';\n",
              "    })();\n",
              "  </script>\n",
              "</div>\n",
              "    </div>\n",
              "  </div>\n"
            ]
          },
          "metadata": {},
          "execution_count": 22
        }
      ]
    },
    {
      "cell_type": "markdown",
      "source": [
        "### 2.3 Dataset Eaa Europa: ``eaa``\n"
      ],
      "metadata": {
        "id": "rNSo0HxKVfSF"
      }
    },
    {
      "cell_type": "code",
      "source": [
        "import time"
      ],
      "metadata": {
        "id": "NETIpE8dqbTP"
      },
      "execution_count": 4,
      "outputs": []
    },
    {
      "cell_type": "code",
      "source": [
        "filename = \"/content/drive/MyDrive/Data Science/Projects/CO2 Project/data/data.csv\"\n",
        "\n",
        "start_time = time.time()\n",
        "eaa = pd.read_csv(filename, sep=',', index_col = 0, low_memory=False)\n",
        "end_time = time.time()\n",
        "\n",
        "load_time = end_time - start_time\n",
        "print(f'Ladezeit: {load_time} Sekunden')\n"
      ],
      "metadata": {
        "id": "DB8HFsIjVc9u",
        "colab": {
          "base_uri": "https://localhost:8080/"
        },
        "outputId": "67e73490-93f1-49f3-dc74-1f198a116931"
      },
      "execution_count": 5,
      "outputs": [
        {
          "output_type": "stream",
          "name": "stdout",
          "text": [
            "Ladezeit: 119.39986515045166 Sekunden\n"
          ]
        }
      ]
    },
    {
      "cell_type": "markdown",
      "source": [
        "#### 2.3.1 Load Time Protocol\n",
        "\n",
        "30.08.23 | 20:33 | abbruch beim Einlesen von eaa |\n",
        "\n",
        "30.08.23 | 20:33 | Ladezeit: 84.73450684547424 Sekunden |\n",
        "\n",
        "30.08.23 | 22:13 | abortion while loading sns. pairplot |\n",
        "\n",
        "30.08.23 | 22:14 | Ladezeit: 78.23053455352783 Sekunden |\n",
        "\n",
        "31.08.23 | 00:45 | abortion while loading corr matrix |\n",
        "\n",
        "30.08.23 | 22:14 | Ladezeit: 119.39986515045166 Sekunden |"
      ],
      "metadata": {
        "id": "0TiFbCDvt-yg"
      }
    },
    {
      "cell_type": "code",
      "source": [
        "print(\"Shape eaa:,\", eaa.shape)\n",
        "\n",
        "display(eaa.columns)"
      ],
      "metadata": {
        "colab": {
          "base_uri": "https://localhost:8080/",
          "height": 156
        },
        "id": "a-U8x6aXo_Ly",
        "outputId": "a9509442-a15d-473d-dc24-9621e6df725d"
      },
      "execution_count": 8,
      "outputs": [
        {
          "output_type": "stream",
          "name": "stdout",
          "text": [
            "Shape eaa:, (9479280, 37)\n"
          ]
        },
        {
          "output_type": "display_data",
          "data": {
            "text/plain": [
              "Index(['Country', 'VFN', 'Mp', 'Mh', 'Man', 'MMS', 'Tan', 'T', 'Va', 'Ve',\n",
              "       'Mk', 'Cn', 'Ct', 'Cr', 'r', 'm (kg)', 'Mt', 'Enedc (g/km)',\n",
              "       'Ewltp (g/km)', 'W (mm)', 'At1 (mm)', 'At2 (mm)', 'Ft', 'Fm',\n",
              "       'ec (cm3)', 'ep (KW)', 'z (Wh/km)', 'IT', 'Ernedc (g/km)',\n",
              "       'Erwltp (g/km)', 'De', 'Vf', 'Status', 'year', 'Date of registration',\n",
              "       'Fuel consumption ', 'Electric range (km)'],\n",
              "      dtype='object')"
            ]
          },
          "metadata": {}
        }
      ]
    },
    {
      "cell_type": "code",
      "source": [
        "eaa.describe()"
      ],
      "metadata": {
        "colab": {
          "base_uri": "https://localhost:8080/",
          "height": 338
        },
        "id": "Xt6-hyw6oK21",
        "outputId": "5c79283e-3490-4a96-a67e-5c20515619cf"
      },
      "execution_count": 9,
      "outputs": [
        {
          "output_type": "execute_result",
          "data": {
            "text/plain": [
              "       MMS          r        m (kg)            Mt  Enedc (g/km)  Ewltp (g/km)  \\\n",
              "count  0.0  9479280.0  9.479149e+06  8.418686e+06  1.528918e+06  9.464562e+06   \n",
              "mean   NaN        1.0  1.528414e+03  1.649678e+03  5.844413e+00  1.083741e+02   \n",
              "std    NaN        0.0  3.529906e+02  3.639260e+02  1.342827e+01  5.827240e+01   \n",
              "min    NaN        1.0  5.700000e+02  6.110000e+02  0.000000e+00  0.000000e+00   \n",
              "25%    NaN        1.0  1.263000e+03  1.381000e+03  0.000000e+00  1.010000e+02   \n",
              "50%    NaN        1.0  1.457000e+03  1.582000e+03  0.000000e+00  1.230000e+02   \n",
              "75%    NaN        1.0  1.739000e+03  1.866000e+03  0.000000e+00  1.400000e+02   \n",
              "max    NaN        1.0  4.600000e+03  4.711000e+03  4.900000e+01  7.300000e+02   \n",
              "\n",
              "             W (mm)      At1 (mm)      At2 (mm)      ec (cm3)       ep (KW)  \\\n",
              "count  9.457478e+06  9.266098e+06  9.250258e+06  8.201472e+06  9.455287e+06   \n",
              "mean   2.670370e+03  1.553386e+03  1.555455e+03  1.544100e+03  1.094856e+02   \n",
              "std    1.681655e+02  5.932143e+01  6.352023e+01  5.186744e+02  5.707495e+01   \n",
              "min    6.000000e+02  5.200000e+02  5.200000e+02  4.000000e+00  4.000000e+00   \n",
              "25%    2.570000e+03  1.520000e+03  1.520000e+03  1.197000e+03  7.400000e+01   \n",
              "50%    2.667000e+03  1.559000e+03  1.558000e+03  1.498000e+03  9.600000e+01   \n",
              "75%    2.730000e+03  1.590000e+03  1.595000e+03  1.968000e+03  1.290000e+02   \n",
              "max    5.405000e+03  3.000000e+03  3.000000e+03  7.993000e+03  1.177000e+03   \n",
              "\n",
              "          z (Wh/km)  Ernedc (g/km)  Erwltp (g/km)   De   Vf       year  \\\n",
              "count  2.083147e+06            0.0   5.067277e+06  0.0  0.0  9479280.0   \n",
              "mean   1.719975e+02            NaN   1.518618e+00  NaN  NaN     2022.0   \n",
              "std    3.145552e+01            NaN   4.911724e-01  NaN  NaN        0.0   \n",
              "min    1.000000e+01            NaN   5.000000e-01  NaN  NaN     2022.0   \n",
              "25%    1.540000e+02            NaN   1.100000e+00  NaN  NaN     2022.0   \n",
              "50%    1.650000e+02            NaN   1.700000e+00  NaN  NaN     2022.0   \n",
              "75%    1.830000e+02            NaN   2.000000e+00  NaN  NaN     2022.0   \n",
              "max    9.990000e+02            NaN   6.000000e+00  NaN  NaN     2022.0   \n",
              "\n",
              "       Fuel consumption   Electric range (km)  \n",
              "count       7.244541e+06         1.612374e+06  \n",
              "mean        5.287703e+00         2.507469e+02  \n",
              "std         1.767007e+00         1.877736e+02  \n",
              "min         5.000000e-01         1.300000e+01  \n",
              "25%         4.700000e+00         6.200000e+01  \n",
              "50%         5.400000e+00         2.300000e+02  \n",
              "75%         6.000000e+00         4.310000e+02  \n",
              "max         2.800000e+01         8.430000e+02  "
            ],
            "text/html": [
              "\n",
              "  <div id=\"df-540f7b87-e69b-487d-be21-c9c62b847def\" class=\"colab-df-container\">\n",
              "    <div>\n",
              "<style scoped>\n",
              "    .dataframe tbody tr th:only-of-type {\n",
              "        vertical-align: middle;\n",
              "    }\n",
              "\n",
              "    .dataframe tbody tr th {\n",
              "        vertical-align: top;\n",
              "    }\n",
              "\n",
              "    .dataframe thead th {\n",
              "        text-align: right;\n",
              "    }\n",
              "</style>\n",
              "<table border=\"1\" class=\"dataframe\">\n",
              "  <thead>\n",
              "    <tr style=\"text-align: right;\">\n",
              "      <th></th>\n",
              "      <th>MMS</th>\n",
              "      <th>r</th>\n",
              "      <th>m (kg)</th>\n",
              "      <th>Mt</th>\n",
              "      <th>Enedc (g/km)</th>\n",
              "      <th>Ewltp (g/km)</th>\n",
              "      <th>W (mm)</th>\n",
              "      <th>At1 (mm)</th>\n",
              "      <th>At2 (mm)</th>\n",
              "      <th>ec (cm3)</th>\n",
              "      <th>ep (KW)</th>\n",
              "      <th>z (Wh/km)</th>\n",
              "      <th>Ernedc (g/km)</th>\n",
              "      <th>Erwltp (g/km)</th>\n",
              "      <th>De</th>\n",
              "      <th>Vf</th>\n",
              "      <th>year</th>\n",
              "      <th>Fuel consumption</th>\n",
              "      <th>Electric range (km)</th>\n",
              "    </tr>\n",
              "  </thead>\n",
              "  <tbody>\n",
              "    <tr>\n",
              "      <th>count</th>\n",
              "      <td>0.0</td>\n",
              "      <td>9479280.0</td>\n",
              "      <td>9.479149e+06</td>\n",
              "      <td>8.418686e+06</td>\n",
              "      <td>1.528918e+06</td>\n",
              "      <td>9.464562e+06</td>\n",
              "      <td>9.457478e+06</td>\n",
              "      <td>9.266098e+06</td>\n",
              "      <td>9.250258e+06</td>\n",
              "      <td>8.201472e+06</td>\n",
              "      <td>9.455287e+06</td>\n",
              "      <td>2.083147e+06</td>\n",
              "      <td>0.0</td>\n",
              "      <td>5.067277e+06</td>\n",
              "      <td>0.0</td>\n",
              "      <td>0.0</td>\n",
              "      <td>9479280.0</td>\n",
              "      <td>7.244541e+06</td>\n",
              "      <td>1.612374e+06</td>\n",
              "    </tr>\n",
              "    <tr>\n",
              "      <th>mean</th>\n",
              "      <td>NaN</td>\n",
              "      <td>1.0</td>\n",
              "      <td>1.528414e+03</td>\n",
              "      <td>1.649678e+03</td>\n",
              "      <td>5.844413e+00</td>\n",
              "      <td>1.083741e+02</td>\n",
              "      <td>2.670370e+03</td>\n",
              "      <td>1.553386e+03</td>\n",
              "      <td>1.555455e+03</td>\n",
              "      <td>1.544100e+03</td>\n",
              "      <td>1.094856e+02</td>\n",
              "      <td>1.719975e+02</td>\n",
              "      <td>NaN</td>\n",
              "      <td>1.518618e+00</td>\n",
              "      <td>NaN</td>\n",
              "      <td>NaN</td>\n",
              "      <td>2022.0</td>\n",
              "      <td>5.287703e+00</td>\n",
              "      <td>2.507469e+02</td>\n",
              "    </tr>\n",
              "    <tr>\n",
              "      <th>std</th>\n",
              "      <td>NaN</td>\n",
              "      <td>0.0</td>\n",
              "      <td>3.529906e+02</td>\n",
              "      <td>3.639260e+02</td>\n",
              "      <td>1.342827e+01</td>\n",
              "      <td>5.827240e+01</td>\n",
              "      <td>1.681655e+02</td>\n",
              "      <td>5.932143e+01</td>\n",
              "      <td>6.352023e+01</td>\n",
              "      <td>5.186744e+02</td>\n",
              "      <td>5.707495e+01</td>\n",
              "      <td>3.145552e+01</td>\n",
              "      <td>NaN</td>\n",
              "      <td>4.911724e-01</td>\n",
              "      <td>NaN</td>\n",
              "      <td>NaN</td>\n",
              "      <td>0.0</td>\n",
              "      <td>1.767007e+00</td>\n",
              "      <td>1.877736e+02</td>\n",
              "    </tr>\n",
              "    <tr>\n",
              "      <th>min</th>\n",
              "      <td>NaN</td>\n",
              "      <td>1.0</td>\n",
              "      <td>5.700000e+02</td>\n",
              "      <td>6.110000e+02</td>\n",
              "      <td>0.000000e+00</td>\n",
              "      <td>0.000000e+00</td>\n",
              "      <td>6.000000e+02</td>\n",
              "      <td>5.200000e+02</td>\n",
              "      <td>5.200000e+02</td>\n",
              "      <td>4.000000e+00</td>\n",
              "      <td>4.000000e+00</td>\n",
              "      <td>1.000000e+01</td>\n",
              "      <td>NaN</td>\n",
              "      <td>5.000000e-01</td>\n",
              "      <td>NaN</td>\n",
              "      <td>NaN</td>\n",
              "      <td>2022.0</td>\n",
              "      <td>5.000000e-01</td>\n",
              "      <td>1.300000e+01</td>\n",
              "    </tr>\n",
              "    <tr>\n",
              "      <th>25%</th>\n",
              "      <td>NaN</td>\n",
              "      <td>1.0</td>\n",
              "      <td>1.263000e+03</td>\n",
              "      <td>1.381000e+03</td>\n",
              "      <td>0.000000e+00</td>\n",
              "      <td>1.010000e+02</td>\n",
              "      <td>2.570000e+03</td>\n",
              "      <td>1.520000e+03</td>\n",
              "      <td>1.520000e+03</td>\n",
              "      <td>1.197000e+03</td>\n",
              "      <td>7.400000e+01</td>\n",
              "      <td>1.540000e+02</td>\n",
              "      <td>NaN</td>\n",
              "      <td>1.100000e+00</td>\n",
              "      <td>NaN</td>\n",
              "      <td>NaN</td>\n",
              "      <td>2022.0</td>\n",
              "      <td>4.700000e+00</td>\n",
              "      <td>6.200000e+01</td>\n",
              "    </tr>\n",
              "    <tr>\n",
              "      <th>50%</th>\n",
              "      <td>NaN</td>\n",
              "      <td>1.0</td>\n",
              "      <td>1.457000e+03</td>\n",
              "      <td>1.582000e+03</td>\n",
              "      <td>0.000000e+00</td>\n",
              "      <td>1.230000e+02</td>\n",
              "      <td>2.667000e+03</td>\n",
              "      <td>1.559000e+03</td>\n",
              "      <td>1.558000e+03</td>\n",
              "      <td>1.498000e+03</td>\n",
              "      <td>9.600000e+01</td>\n",
              "      <td>1.650000e+02</td>\n",
              "      <td>NaN</td>\n",
              "      <td>1.700000e+00</td>\n",
              "      <td>NaN</td>\n",
              "      <td>NaN</td>\n",
              "      <td>2022.0</td>\n",
              "      <td>5.400000e+00</td>\n",
              "      <td>2.300000e+02</td>\n",
              "    </tr>\n",
              "    <tr>\n",
              "      <th>75%</th>\n",
              "      <td>NaN</td>\n",
              "      <td>1.0</td>\n",
              "      <td>1.739000e+03</td>\n",
              "      <td>1.866000e+03</td>\n",
              "      <td>0.000000e+00</td>\n",
              "      <td>1.400000e+02</td>\n",
              "      <td>2.730000e+03</td>\n",
              "      <td>1.590000e+03</td>\n",
              "      <td>1.595000e+03</td>\n",
              "      <td>1.968000e+03</td>\n",
              "      <td>1.290000e+02</td>\n",
              "      <td>1.830000e+02</td>\n",
              "      <td>NaN</td>\n",
              "      <td>2.000000e+00</td>\n",
              "      <td>NaN</td>\n",
              "      <td>NaN</td>\n",
              "      <td>2022.0</td>\n",
              "      <td>6.000000e+00</td>\n",
              "      <td>4.310000e+02</td>\n",
              "    </tr>\n",
              "    <tr>\n",
              "      <th>max</th>\n",
              "      <td>NaN</td>\n",
              "      <td>1.0</td>\n",
              "      <td>4.600000e+03</td>\n",
              "      <td>4.711000e+03</td>\n",
              "      <td>4.900000e+01</td>\n",
              "      <td>7.300000e+02</td>\n",
              "      <td>5.405000e+03</td>\n",
              "      <td>3.000000e+03</td>\n",
              "      <td>3.000000e+03</td>\n",
              "      <td>7.993000e+03</td>\n",
              "      <td>1.177000e+03</td>\n",
              "      <td>9.990000e+02</td>\n",
              "      <td>NaN</td>\n",
              "      <td>6.000000e+00</td>\n",
              "      <td>NaN</td>\n",
              "      <td>NaN</td>\n",
              "      <td>2022.0</td>\n",
              "      <td>2.800000e+01</td>\n",
              "      <td>8.430000e+02</td>\n",
              "    </tr>\n",
              "  </tbody>\n",
              "</table>\n",
              "</div>\n",
              "    <div class=\"colab-df-buttons\">\n",
              "\n",
              "  <div class=\"colab-df-container\">\n",
              "    <button class=\"colab-df-convert\" onclick=\"convertToInteractive('df-540f7b87-e69b-487d-be21-c9c62b847def')\"\n",
              "            title=\"Convert this dataframe to an interactive table.\"\n",
              "            style=\"display:none;\">\n",
              "\n",
              "  <svg xmlns=\"http://www.w3.org/2000/svg\" height=\"24px\" viewBox=\"0 -960 960 960\">\n",
              "    <path d=\"M120-120v-720h720v720H120Zm60-500h600v-160H180v160Zm220 220h160v-160H400v160Zm0 220h160v-160H400v160ZM180-400h160v-160H180v160Zm440 0h160v-160H620v160ZM180-180h160v-160H180v160Zm440 0h160v-160H620v160Z\"/>\n",
              "  </svg>\n",
              "    </button>\n",
              "\n",
              "  <style>\n",
              "    .colab-df-container {\n",
              "      display:flex;\n",
              "      gap: 12px;\n",
              "    }\n",
              "\n",
              "    .colab-df-convert {\n",
              "      background-color: #E8F0FE;\n",
              "      border: none;\n",
              "      border-radius: 50%;\n",
              "      cursor: pointer;\n",
              "      display: none;\n",
              "      fill: #1967D2;\n",
              "      height: 32px;\n",
              "      padding: 0 0 0 0;\n",
              "      width: 32px;\n",
              "    }\n",
              "\n",
              "    .colab-df-convert:hover {\n",
              "      background-color: #E2EBFA;\n",
              "      box-shadow: 0px 1px 2px rgba(60, 64, 67, 0.3), 0px 1px 3px 1px rgba(60, 64, 67, 0.15);\n",
              "      fill: #174EA6;\n",
              "    }\n",
              "\n",
              "    .colab-df-buttons div {\n",
              "      margin-bottom: 4px;\n",
              "    }\n",
              "\n",
              "    [theme=dark] .colab-df-convert {\n",
              "      background-color: #3B4455;\n",
              "      fill: #D2E3FC;\n",
              "    }\n",
              "\n",
              "    [theme=dark] .colab-df-convert:hover {\n",
              "      background-color: #434B5C;\n",
              "      box-shadow: 0px 1px 3px 1px rgba(0, 0, 0, 0.15);\n",
              "      filter: drop-shadow(0px 1px 2px rgba(0, 0, 0, 0.3));\n",
              "      fill: #FFFFFF;\n",
              "    }\n",
              "  </style>\n",
              "\n",
              "    <script>\n",
              "      const buttonEl =\n",
              "        document.querySelector('#df-540f7b87-e69b-487d-be21-c9c62b847def button.colab-df-convert');\n",
              "      buttonEl.style.display =\n",
              "        google.colab.kernel.accessAllowed ? 'block' : 'none';\n",
              "\n",
              "      async function convertToInteractive(key) {\n",
              "        const element = document.querySelector('#df-540f7b87-e69b-487d-be21-c9c62b847def');\n",
              "        const dataTable =\n",
              "          await google.colab.kernel.invokeFunction('convertToInteractive',\n",
              "                                                    [key], {});\n",
              "        if (!dataTable) return;\n",
              "\n",
              "        const docLinkHtml = 'Like what you see? Visit the ' +\n",
              "          '<a target=\"_blank\" href=https://colab.research.google.com/notebooks/data_table.ipynb>data table notebook</a>'\n",
              "          + ' to learn more about interactive tables.';\n",
              "        element.innerHTML = '';\n",
              "        dataTable['output_type'] = 'display_data';\n",
              "        await google.colab.output.renderOutput(dataTable, element);\n",
              "        const docLink = document.createElement('div');\n",
              "        docLink.innerHTML = docLinkHtml;\n",
              "        element.appendChild(docLink);\n",
              "      }\n",
              "    </script>\n",
              "  </div>\n",
              "\n",
              "\n",
              "<div id=\"df-6b5daec8-fccc-4069-922a-c20c95d460f2\">\n",
              "  <button class=\"colab-df-quickchart\" onclick=\"quickchart('df-6b5daec8-fccc-4069-922a-c20c95d460f2')\"\n",
              "            title=\"Suggest charts.\"\n",
              "            style=\"display:none;\">\n",
              "\n",
              "<svg xmlns=\"http://www.w3.org/2000/svg\" height=\"24px\"viewBox=\"0 0 24 24\"\n",
              "     width=\"24px\">\n",
              "    <g>\n",
              "        <path d=\"M19 3H5c-1.1 0-2 .9-2 2v14c0 1.1.9 2 2 2h14c1.1 0 2-.9 2-2V5c0-1.1-.9-2-2-2zM9 17H7v-7h2v7zm4 0h-2V7h2v10zm4 0h-2v-4h2v4z\"/>\n",
              "    </g>\n",
              "</svg>\n",
              "  </button>\n",
              "\n",
              "<style>\n",
              "  .colab-df-quickchart {\n",
              "    background-color: #E8F0FE;\n",
              "    border: none;\n",
              "    border-radius: 50%;\n",
              "    cursor: pointer;\n",
              "    display: none;\n",
              "    fill: #1967D2;\n",
              "    height: 32px;\n",
              "    padding: 0 0 0 0;\n",
              "    width: 32px;\n",
              "  }\n",
              "\n",
              "  .colab-df-quickchart:hover {\n",
              "    background-color: #E2EBFA;\n",
              "    box-shadow: 0px 1px 2px rgba(60, 64, 67, 0.3), 0px 1px 3px 1px rgba(60, 64, 67, 0.15);\n",
              "    fill: #174EA6;\n",
              "  }\n",
              "\n",
              "  [theme=dark] .colab-df-quickchart {\n",
              "    background-color: #3B4455;\n",
              "    fill: #D2E3FC;\n",
              "  }\n",
              "\n",
              "  [theme=dark] .colab-df-quickchart:hover {\n",
              "    background-color: #434B5C;\n",
              "    box-shadow: 0px 1px 3px 1px rgba(0, 0, 0, 0.15);\n",
              "    filter: drop-shadow(0px 1px 2px rgba(0, 0, 0, 0.3));\n",
              "    fill: #FFFFFF;\n",
              "  }\n",
              "</style>\n",
              "\n",
              "  <script>\n",
              "    async function quickchart(key) {\n",
              "      const charts = await google.colab.kernel.invokeFunction(\n",
              "          'suggestCharts', [key], {});\n",
              "    }\n",
              "    (() => {\n",
              "      let quickchartButtonEl =\n",
              "        document.querySelector('#df-6b5daec8-fccc-4069-922a-c20c95d460f2 button');\n",
              "      quickchartButtonEl.style.display =\n",
              "        google.colab.kernel.accessAllowed ? 'block' : 'none';\n",
              "    })();\n",
              "  </script>\n",
              "</div>\n",
              "    </div>\n",
              "  </div>\n"
            ]
          },
          "metadata": {},
          "execution_count": 9
        }
      ]
    },
    {
      "cell_type": "markdown",
      "source": [
        "<a name=\"drop\"></a>\n",
        "### 2.3.2 Drop (NaN) Columns\n",
        "\n",
        "1.   drop NaN => ['MMS', 'Ernedc (g/km)', 'De', 'Vf']\n",
        "2.   drop VFN => [..., 'VFN']\n",
        "3.   drop Mh, Satus\n",
        "\n"
      ],
      "metadata": {
        "id": "HkqapiXWwo44"
      }
    },
    {
      "cell_type": "code",
      "source": [
        "drop =  ['MMS', 'Ernedc (g/km)', 'De', 'Vf', 'VFN', \"Status\", 'Mh']\n",
        "eaa = eaa.drop(drop, axis=1)\n"
      ],
      "metadata": {
        "id": "oTSEv2_9xcKu",
        "colab": {
          "base_uri": "https://localhost:8080/",
          "height": 338
        },
        "outputId": "172422b9-e737-43e5-c2fd-1c8251f86648"
      },
      "execution_count": 76,
      "outputs": [
        {
          "output_type": "error",
          "ename": "KeyError",
          "evalue": "ignored",
          "traceback": [
            "\u001b[0;31m---------------------------------------------------------------------------\u001b[0m",
            "\u001b[0;31mKeyError\u001b[0m                                  Traceback (most recent call last)",
            "\u001b[0;32m<ipython-input-76-b06098594dc9>\u001b[0m in \u001b[0;36m<cell line: 2>\u001b[0;34m()\u001b[0m\n\u001b[1;32m      1\u001b[0m \u001b[0mdrop\u001b[0m \u001b[0;34m=\u001b[0m  \u001b[0;34m[\u001b[0m\u001b[0;34m'MMS'\u001b[0m\u001b[0;34m,\u001b[0m \u001b[0;34m'Ernedc (g/km)'\u001b[0m\u001b[0;34m,\u001b[0m \u001b[0;34m'De'\u001b[0m\u001b[0;34m,\u001b[0m \u001b[0;34m'Vf'\u001b[0m\u001b[0;34m,\u001b[0m \u001b[0;34m'VFN'\u001b[0m\u001b[0;34m,\u001b[0m \u001b[0;34m\"Status\"\u001b[0m\u001b[0;34m,\u001b[0m \u001b[0;34m'Mh'\u001b[0m\u001b[0;34m]\u001b[0m\u001b[0;34m\u001b[0m\u001b[0;34m\u001b[0m\u001b[0m\n\u001b[0;32m----> 2\u001b[0;31m \u001b[0meaa\u001b[0m \u001b[0;34m=\u001b[0m \u001b[0meaa\u001b[0m\u001b[0;34m.\u001b[0m\u001b[0mdrop\u001b[0m\u001b[0;34m(\u001b[0m\u001b[0mdrop\u001b[0m\u001b[0;34m,\u001b[0m \u001b[0maxis\u001b[0m\u001b[0;34m=\u001b[0m\u001b[0;36m1\u001b[0m\u001b[0;34m)\u001b[0m\u001b[0;34m\u001b[0m\u001b[0;34m\u001b[0m\u001b[0m\n\u001b[0m",
            "\u001b[0;32m/usr/local/lib/python3.10/dist-packages/pandas/util/_decorators.py\u001b[0m in \u001b[0;36mwrapper\u001b[0;34m(*args, **kwargs)\u001b[0m\n\u001b[1;32m    329\u001b[0m                     \u001b[0mstacklevel\u001b[0m\u001b[0;34m=\u001b[0m\u001b[0mfind_stack_level\u001b[0m\u001b[0;34m(\u001b[0m\u001b[0;34m)\u001b[0m\u001b[0;34m,\u001b[0m\u001b[0;34m\u001b[0m\u001b[0;34m\u001b[0m\u001b[0m\n\u001b[1;32m    330\u001b[0m                 )\n\u001b[0;32m--> 331\u001b[0;31m             \u001b[0;32mreturn\u001b[0m \u001b[0mfunc\u001b[0m\u001b[0;34m(\u001b[0m\u001b[0;34m*\u001b[0m\u001b[0margs\u001b[0m\u001b[0;34m,\u001b[0m \u001b[0;34m**\u001b[0m\u001b[0mkwargs\u001b[0m\u001b[0;34m)\u001b[0m\u001b[0;34m\u001b[0m\u001b[0;34m\u001b[0m\u001b[0m\n\u001b[0m\u001b[1;32m    332\u001b[0m \u001b[0;34m\u001b[0m\u001b[0m\n\u001b[1;32m    333\u001b[0m         \u001b[0;31m# error: \"Callable[[VarArg(Any), KwArg(Any)], Any]\" has no\u001b[0m\u001b[0;34m\u001b[0m\u001b[0;34m\u001b[0m\u001b[0m\n",
            "\u001b[0;32m/usr/local/lib/python3.10/dist-packages/pandas/core/frame.py\u001b[0m in \u001b[0;36mdrop\u001b[0;34m(self, labels, axis, index, columns, level, inplace, errors)\u001b[0m\n\u001b[1;32m   5397\u001b[0m                 \u001b[0mweight\u001b[0m  \u001b[0;36m1.0\u001b[0m     \u001b[0;36m0.8\u001b[0m\u001b[0;34m\u001b[0m\u001b[0;34m\u001b[0m\u001b[0m\n\u001b[1;32m   5398\u001b[0m         \"\"\"\n\u001b[0;32m-> 5399\u001b[0;31m         return super().drop(\n\u001b[0m\u001b[1;32m   5400\u001b[0m             \u001b[0mlabels\u001b[0m\u001b[0;34m=\u001b[0m\u001b[0mlabels\u001b[0m\u001b[0;34m,\u001b[0m\u001b[0;34m\u001b[0m\u001b[0;34m\u001b[0m\u001b[0m\n\u001b[1;32m   5401\u001b[0m             \u001b[0maxis\u001b[0m\u001b[0;34m=\u001b[0m\u001b[0maxis\u001b[0m\u001b[0;34m,\u001b[0m\u001b[0;34m\u001b[0m\u001b[0;34m\u001b[0m\u001b[0m\n",
            "\u001b[0;32m/usr/local/lib/python3.10/dist-packages/pandas/util/_decorators.py\u001b[0m in \u001b[0;36mwrapper\u001b[0;34m(*args, **kwargs)\u001b[0m\n\u001b[1;32m    329\u001b[0m                     \u001b[0mstacklevel\u001b[0m\u001b[0;34m=\u001b[0m\u001b[0mfind_stack_level\u001b[0m\u001b[0;34m(\u001b[0m\u001b[0;34m)\u001b[0m\u001b[0;34m,\u001b[0m\u001b[0;34m\u001b[0m\u001b[0;34m\u001b[0m\u001b[0m\n\u001b[1;32m    330\u001b[0m                 )\n\u001b[0;32m--> 331\u001b[0;31m             \u001b[0;32mreturn\u001b[0m \u001b[0mfunc\u001b[0m\u001b[0;34m(\u001b[0m\u001b[0;34m*\u001b[0m\u001b[0margs\u001b[0m\u001b[0;34m,\u001b[0m \u001b[0;34m**\u001b[0m\u001b[0mkwargs\u001b[0m\u001b[0;34m)\u001b[0m\u001b[0;34m\u001b[0m\u001b[0;34m\u001b[0m\u001b[0m\n\u001b[0m\u001b[1;32m    332\u001b[0m \u001b[0;34m\u001b[0m\u001b[0m\n\u001b[1;32m    333\u001b[0m         \u001b[0;31m# error: \"Callable[[VarArg(Any), KwArg(Any)], Any]\" has no\u001b[0m\u001b[0;34m\u001b[0m\u001b[0;34m\u001b[0m\u001b[0m\n",
            "\u001b[0;32m/usr/local/lib/python3.10/dist-packages/pandas/core/generic.py\u001b[0m in \u001b[0;36mdrop\u001b[0;34m(self, labels, axis, index, columns, level, inplace, errors)\u001b[0m\n\u001b[1;32m   4503\u001b[0m         \u001b[0;32mfor\u001b[0m \u001b[0maxis\u001b[0m\u001b[0;34m,\u001b[0m \u001b[0mlabels\u001b[0m \u001b[0;32min\u001b[0m \u001b[0maxes\u001b[0m\u001b[0;34m.\u001b[0m\u001b[0mitems\u001b[0m\u001b[0;34m(\u001b[0m\u001b[0;34m)\u001b[0m\u001b[0;34m:\u001b[0m\u001b[0;34m\u001b[0m\u001b[0;34m\u001b[0m\u001b[0m\n\u001b[1;32m   4504\u001b[0m             \u001b[0;32mif\u001b[0m \u001b[0mlabels\u001b[0m \u001b[0;32mis\u001b[0m \u001b[0;32mnot\u001b[0m \u001b[0;32mNone\u001b[0m\u001b[0;34m:\u001b[0m\u001b[0;34m\u001b[0m\u001b[0;34m\u001b[0m\u001b[0m\n\u001b[0;32m-> 4505\u001b[0;31m                 \u001b[0mobj\u001b[0m \u001b[0;34m=\u001b[0m \u001b[0mobj\u001b[0m\u001b[0;34m.\u001b[0m\u001b[0m_drop_axis\u001b[0m\u001b[0;34m(\u001b[0m\u001b[0mlabels\u001b[0m\u001b[0;34m,\u001b[0m \u001b[0maxis\u001b[0m\u001b[0;34m,\u001b[0m \u001b[0mlevel\u001b[0m\u001b[0;34m=\u001b[0m\u001b[0mlevel\u001b[0m\u001b[0;34m,\u001b[0m \u001b[0merrors\u001b[0m\u001b[0;34m=\u001b[0m\u001b[0merrors\u001b[0m\u001b[0;34m)\u001b[0m\u001b[0;34m\u001b[0m\u001b[0;34m\u001b[0m\u001b[0m\n\u001b[0m\u001b[1;32m   4506\u001b[0m \u001b[0;34m\u001b[0m\u001b[0m\n\u001b[1;32m   4507\u001b[0m         \u001b[0;32mif\u001b[0m \u001b[0minplace\u001b[0m\u001b[0;34m:\u001b[0m\u001b[0;34m\u001b[0m\u001b[0;34m\u001b[0m\u001b[0m\n",
            "\u001b[0;32m/usr/local/lib/python3.10/dist-packages/pandas/core/generic.py\u001b[0m in \u001b[0;36m_drop_axis\u001b[0;34m(self, labels, axis, level, errors, only_slice)\u001b[0m\n\u001b[1;32m   4544\u001b[0m                 \u001b[0mnew_axis\u001b[0m \u001b[0;34m=\u001b[0m \u001b[0maxis\u001b[0m\u001b[0;34m.\u001b[0m\u001b[0mdrop\u001b[0m\u001b[0;34m(\u001b[0m\u001b[0mlabels\u001b[0m\u001b[0;34m,\u001b[0m \u001b[0mlevel\u001b[0m\u001b[0;34m=\u001b[0m\u001b[0mlevel\u001b[0m\u001b[0;34m,\u001b[0m \u001b[0merrors\u001b[0m\u001b[0;34m=\u001b[0m\u001b[0merrors\u001b[0m\u001b[0;34m)\u001b[0m\u001b[0;34m\u001b[0m\u001b[0;34m\u001b[0m\u001b[0m\n\u001b[1;32m   4545\u001b[0m             \u001b[0;32melse\u001b[0m\u001b[0;34m:\u001b[0m\u001b[0;34m\u001b[0m\u001b[0;34m\u001b[0m\u001b[0m\n\u001b[0;32m-> 4546\u001b[0;31m                 \u001b[0mnew_axis\u001b[0m \u001b[0;34m=\u001b[0m \u001b[0maxis\u001b[0m\u001b[0;34m.\u001b[0m\u001b[0mdrop\u001b[0m\u001b[0;34m(\u001b[0m\u001b[0mlabels\u001b[0m\u001b[0;34m,\u001b[0m \u001b[0merrors\u001b[0m\u001b[0;34m=\u001b[0m\u001b[0merrors\u001b[0m\u001b[0;34m)\u001b[0m\u001b[0;34m\u001b[0m\u001b[0;34m\u001b[0m\u001b[0m\n\u001b[0m\u001b[1;32m   4547\u001b[0m             \u001b[0mindexer\u001b[0m \u001b[0;34m=\u001b[0m \u001b[0maxis\u001b[0m\u001b[0;34m.\u001b[0m\u001b[0mget_indexer\u001b[0m\u001b[0;34m(\u001b[0m\u001b[0mnew_axis\u001b[0m\u001b[0;34m)\u001b[0m\u001b[0;34m\u001b[0m\u001b[0;34m\u001b[0m\u001b[0m\n\u001b[1;32m   4548\u001b[0m \u001b[0;34m\u001b[0m\u001b[0m\n",
            "\u001b[0;32m/usr/local/lib/python3.10/dist-packages/pandas/core/indexes/base.py\u001b[0m in \u001b[0;36mdrop\u001b[0;34m(self, labels, errors)\u001b[0m\n\u001b[1;32m   6932\u001b[0m         \u001b[0;32mif\u001b[0m \u001b[0mmask\u001b[0m\u001b[0;34m.\u001b[0m\u001b[0many\u001b[0m\u001b[0;34m(\u001b[0m\u001b[0;34m)\u001b[0m\u001b[0;34m:\u001b[0m\u001b[0;34m\u001b[0m\u001b[0;34m\u001b[0m\u001b[0m\n\u001b[1;32m   6933\u001b[0m             \u001b[0;32mif\u001b[0m \u001b[0merrors\u001b[0m \u001b[0;34m!=\u001b[0m \u001b[0;34m\"ignore\"\u001b[0m\u001b[0;34m:\u001b[0m\u001b[0;34m\u001b[0m\u001b[0;34m\u001b[0m\u001b[0m\n\u001b[0;32m-> 6934\u001b[0;31m                 \u001b[0;32mraise\u001b[0m \u001b[0mKeyError\u001b[0m\u001b[0;34m(\u001b[0m\u001b[0;34mf\"{list(labels[mask])} not found in axis\"\u001b[0m\u001b[0;34m)\u001b[0m\u001b[0;34m\u001b[0m\u001b[0;34m\u001b[0m\u001b[0m\n\u001b[0m\u001b[1;32m   6935\u001b[0m             \u001b[0mindexer\u001b[0m \u001b[0;34m=\u001b[0m \u001b[0mindexer\u001b[0m\u001b[0;34m[\u001b[0m\u001b[0;34m~\u001b[0m\u001b[0mmask\u001b[0m\u001b[0;34m]\u001b[0m\u001b[0;34m\u001b[0m\u001b[0;34m\u001b[0m\u001b[0m\n\u001b[1;32m   6936\u001b[0m         \u001b[0;32mreturn\u001b[0m \u001b[0mself\u001b[0m\u001b[0;34m.\u001b[0m\u001b[0mdelete\u001b[0m\u001b[0;34m(\u001b[0m\u001b[0mindexer\u001b[0m\u001b[0;34m)\u001b[0m\u001b[0;34m\u001b[0m\u001b[0;34m\u001b[0m\u001b[0m\n",
            "\u001b[0;31mKeyError\u001b[0m: \"['MMS', 'Ernedc (g/km)', 'De', 'Vf', 'VFN'] not found in axis\""
          ]
        }
      ]
    },
    {
      "cell_type": "code",
      "source": [
        "eaa.shape"
      ],
      "metadata": {
        "colab": {
          "base_uri": "https://localhost:8080/"
        },
        "id": "0HRP2lqTxyAS",
        "outputId": "dcb7fce5-f3cb-4071-ca42-56e5d9d30da4"
      },
      "execution_count": 11,
      "outputs": [
        {
          "output_type": "execute_result",
          "data": {
            "text/plain": [
              "(9479280, 32)"
            ]
          },
          "metadata": {},
          "execution_count": 11
        }
      ]
    },
    {
      "cell_type": "markdown",
      "source": [
        "### 2.3.3 Reduce dataset for developing the coding"
      ],
      "metadata": {
        "id": "2DNBIfQ5pHDN"
      }
    },
    {
      "cell_type": "code",
      "source": [],
      "metadata": {
        "id": "mDaGd-MPL1HG"
      },
      "execution_count": null,
      "outputs": []
    },
    {
      "cell_type": "code",
      "source": [
        "eaa_sample = eaa.sample(n=1000, random_state=42)\n",
        "eaa_sample.shape"
      ],
      "metadata": {
        "colab": {
          "base_uri": "https://localhost:8080/"
        },
        "id": "3WnkOQuapQZz",
        "outputId": "06952d49-81c0-469b-a738-c4dd73d1740e"
      },
      "execution_count": 12,
      "outputs": [
        {
          "output_type": "execute_result",
          "data": {
            "text/plain": [
              "(1000, 33)"
            ]
          },
          "metadata": {},
          "execution_count": 12
        }
      ]
    },
    {
      "cell_type": "markdown",
      "source": [
        "# 3. 🔍 Exploratory Data Analysis\n",
        "\n",
        "> **OVERALL GOAL:**\n",
        "    > - Get an understanding for which variables are important, view summary statistics, and visualize the data\n",
        "    > - Focus on the EAA set first\n",
        "\n"
      ],
      "metadata": {
        "id": "RHQkQJ4N_Auo"
      }
    },
    {
      "cell_type": "code",
      "source": [
        "eaa.info()"
      ],
      "metadata": {
        "id": "vXoZWRRToKXc",
        "colab": {
          "base_uri": "https://localhost:8080/"
        },
        "outputId": "bafbc7d2-28cc-444a-899f-38b25cb74ea0"
      },
      "execution_count": 12,
      "outputs": [
        {
          "output_type": "stream",
          "name": "stdout",
          "text": [
            "<class 'pandas.core.frame.DataFrame'>\n",
            "Int64Index: 9479280 entries, 80960000 to 77551045\n",
            "Data columns (total 32 columns):\n",
            " #   Column                Dtype  \n",
            "---  ------                -----  \n",
            " 0   Country               object \n",
            " 1   Mp                    object \n",
            " 2   Mh                    object \n",
            " 3   Man                   object \n",
            " 4   Tan                   object \n",
            " 5   T                     object \n",
            " 6   Va                    object \n",
            " 7   Ve                    object \n",
            " 8   Mk                    object \n",
            " 9   Cn                    object \n",
            " 10  Ct                    object \n",
            " 11  Cr                    object \n",
            " 12  r                     int64  \n",
            " 13  m (kg)                float64\n",
            " 14  Mt                    float64\n",
            " 15  Enedc (g/km)          float64\n",
            " 16  Ewltp (g/km)          float64\n",
            " 17  W (mm)                float64\n",
            " 18  At1 (mm)              float64\n",
            " 19  At2 (mm)              float64\n",
            " 20  Ft                    object \n",
            " 21  Fm                    object \n",
            " 22  ec (cm3)              float64\n",
            " 23  ep (KW)               float64\n",
            " 24  z (Wh/km)             float64\n",
            " 25  IT                    object \n",
            " 26  Erwltp (g/km)         float64\n",
            " 27  Status                object \n",
            " 28  year                  int64  \n",
            " 29  Date of registration  object \n",
            " 30  Fuel consumption      float64\n",
            " 31  Electric range (km)   float64\n",
            "dtypes: float64(13), int64(2), object(17)\n",
            "memory usage: 2.3+ GB\n"
          ]
        }
      ]
    },
    {
      "cell_type": "markdown",
      "source": [
        "## 3.0 Exploring the Objects"
      ],
      "metadata": {
        "id": "6k-eINCK6rTP"
      }
    },
    {
      "cell_type": "code",
      "source": [
        "# Select only the columns with the object data type\n",
        "object_columns = eaa.select_dtypes(include='object')\n",
        "\n",
        "# Count the number of unique values in each column\n",
        "unique_counts = object_columns.nunique()\n",
        "\n",
        "# Print the result\n",
        "print(unique_counts)"
      ],
      "metadata": {
        "colab": {
          "base_uri": "https://localhost:8080/"
        },
        "id": "rpJ5sXa97JUa",
        "outputId": "0c567f96-6629-45c0-a02a-77a898589639"
      },
      "execution_count": 57,
      "outputs": [
        {
          "output_type": "stream",
          "name": "stdout",
          "text": [
            "Country                    29\n",
            "Mp                         10\n",
            "Mh                         97\n",
            "Man                       107\n",
            "Tan                      6782\n",
            "T                        2054\n",
            "Va                       6094\n",
            "Ve                      27000\n",
            "Mk                        792\n",
            "Cn                       9100\n",
            "Ct                          5\n",
            "Cr                          3\n",
            "Ft                         11\n",
            "Fm                          6\n",
            "IT                        508\n",
            "Status                      1\n",
            "Date of registration      365\n",
            "dtype: int64\n"
          ]
        }
      ]
    },
    {
      "cell_type": "markdown",
      "source": [
        "### 3.0.1 Ideas to convert objects and decsions\n",
        "\n",
        "* Date of registration = convert to Month or Quartal (365 -> 12 -> 3)\n",
        "* Mp ?\n",
        "* Ft -> petrol, diesel, electric, hybrid, liquid and remove: hydrogen & unknown\n",
        "* Mh und Man sind auffällig ähnlich eine löschen?\n",
        "\n",
        "\n",
        "#### Decsion\n",
        "\n",
        "**Status** -> is only p -> [\"Status\" -> drop](#drop)\n",
        "\n",
        "\n"
      ],
      "metadata": {
        "id": "ItfbYW4a7-8O"
      }
    },
    {
      "cell_type": "code",
      "source": [
        "eaa['Status'].value_counts()"
      ],
      "metadata": {
        "colab": {
          "base_uri": "https://localhost:8080/"
        },
        "id": "xBzOft9s8O5D",
        "outputId": "cb32e707-fb09-4401-a1a8-976525f2cb66"
      },
      "execution_count": 61,
      "outputs": [
        {
          "output_type": "execute_result",
          "data": {
            "text/plain": [
              "P    9479280\n",
              "Name: Status, dtype: int64"
            ]
          },
          "metadata": {},
          "execution_count": 61
        }
      ]
    },
    {
      "cell_type": "code",
      "source": [
        "eaa['Mp'].value_counts()"
      ],
      "metadata": {
        "colab": {
          "base_uri": "https://localhost:8080/"
        },
        "id": "r1FzAHgD8gXj",
        "outputId": "e916d5d1-b5db-4130-9f6b-42e8ce253732"
      },
      "execution_count": 66,
      "outputs": [
        {
          "output_type": "execute_result",
          "data": {
            "text/plain": [
              "VOLKSWAGEN                    2343081\n",
              "STELLANTIS                    1839471\n",
              "RENAULT-NISSAN-MITSUBISHI     1229677\n",
              "MAZDA-SUBARU-SUZUKI-TOYOTA     722138\n",
              "BMW                            635686\n",
              "MERCEDES-BENZ                  553929\n",
              "KIA                            434256\n",
              "HYUNDAI MOTOR EUROPE           432865\n",
              "FORD                           406287\n",
              "TESLA-HONDA-JLR                263512\n",
              "Name: Mp, dtype: int64"
            ]
          },
          "metadata": {},
          "execution_count": 66
        }
      ]
    },
    {
      "cell_type": "code",
      "source": [
        "eaa['Ft'].value_counts()"
      ],
      "metadata": {
        "colab": {
          "base_uri": "https://localhost:8080/"
        },
        "id": "oCBNPkmT9BDA",
        "outputId": "523c21b7-e3b1-4f11-983d-84998e607d27"
      },
      "execution_count": 69,
      "outputs": [
        {
          "output_type": "execute_result",
          "data": {
            "text/plain": [
              "PETROL             5161803\n",
              "DIESEL             1842684\n",
              "ELECTRIC           1276473\n",
              "PETROL/ELECTRIC     854271\n",
              "LPG                 244129\n",
              "DIESEL/ELECTRIC      41494\n",
              "E85                  38905\n",
              "NG                   16277\n",
              "NG-BIOMETHANE         1977\n",
              "HYDROGEN              1238\n",
              "UNKNOWN                 29\n",
              "Name: Ft, dtype: int64"
            ]
          },
          "metadata": {},
          "execution_count": 69
        }
      ]
    },
    {
      "cell_type": "markdown",
      "source": [
        "1. **Petrol**\n",
        "1. **Diesel**\n",
        "1. **Electric**\n",
        "1. **Hybrid** (PETROL/ELECTRIC + DIESEL/ELECTRIC)\n",
        "1. **Liquid** (LPG + E85 + NG + NG-Biomethane)"
      ],
      "metadata": {
        "id": "soqnTNi2BS8v"
      }
    },
    {
      "cell_type": "code",
      "source": [
        "eaa['Ft'].value_counts() / len(eaa) * 100"
      ],
      "metadata": {
        "colab": {
          "base_uri": "https://localhost:8080/"
        },
        "id": "W3CzczF7Al-W",
        "outputId": "f0b53387-c9d7-403f-dad0-9dec22a6ba13"
      },
      "execution_count": 70,
      "outputs": [
        {
          "output_type": "execute_result",
          "data": {
            "text/plain": [
              "PETROL             54.453534\n",
              "DIESEL             19.439071\n",
              "ELECTRIC           13.465928\n",
              "PETROL/ELECTRIC     9.011982\n",
              "LPG                 2.575396\n",
              "DIESEL/ELECTRIC     0.437734\n",
              "E85                 0.410421\n",
              "NG                  0.171711\n",
              "NG-BIOMETHANE       0.020856\n",
              "HYDROGEN            0.013060\n",
              "UNKNOWN             0.000306\n",
              "Name: Ft, dtype: float64"
            ]
          },
          "metadata": {},
          "execution_count": 70
        }
      ]
    },
    {
      "cell_type": "code",
      "source": [
        "eaa['Man'].value_counts()"
      ],
      "metadata": {
        "colab": {
          "base_uri": "https://localhost:8080/"
        },
        "id": "enT8AwZQCAdn",
        "outputId": "4adccbc4-24d1-4850-f118-0d118a0c88a2"
      },
      "execution_count": 73,
      "outputs": [
        {
          "output_type": "execute_result",
          "data": {
            "text/plain": [
              "VOLKSWAGEN AG                        1025306\n",
              "PSA AUTOMOBILES SA                    837241\n",
              "RENAULT SAS                           702947\n",
              "BAYERISCHE MOTOREN WERKE AG           625305\n",
              "MERCEDES-BENZ AG                      553710\n",
              "                                      ...   \n",
              "LEEH GROUP KFT                             1\n",
              "LUANO CAMP                                 1\n",
              "ADRIA MOBIL D.O.O.                         1\n",
              "LUANO CAMP S.R.L.                          1\n",
              "QINGDAO BOFENG NEW ENERGY CO. LTD          1\n",
              "Name: Man, Length: 107, dtype: int64"
            ]
          },
          "metadata": {},
          "execution_count": 73
        }
      ]
    },
    {
      "cell_type": "code",
      "source": [
        "eaa['Mh'].value_counts()"
      ],
      "metadata": {
        "colab": {
          "base_uri": "https://localhost:8080/"
        },
        "id": "mAhPKW-mCcF0",
        "outputId": "a679522a-b8c4-4478-ff68-df8270e7ea6f"
      },
      "execution_count": 74,
      "outputs": [
        {
          "output_type": "execute_result",
          "data": {
            "text/plain": [
              "VOLKSWAGEN              1025201\n",
              "PSA                      837207\n",
              "RENAULT                  702723\n",
              "BMW AG                   625298\n",
              "MERCEDES-BENZ AG         553216\n",
              "                         ...   \n",
              "IVECO                         3\n",
              "FORD MOTOR AUSTRALIA          2\n",
              "LEAPMOTOR                     2\n",
              "LEVC                          1\n",
              "LEEH                          1\n",
              "Name: Mh, Length: 97, dtype: int64"
            ]
          },
          "metadata": {},
          "execution_count": 74
        }
      ]
    },
    {
      "cell_type": "code",
      "source": [
        "eaa[['Man','Mh']].value_counts()"
      ],
      "metadata": {
        "colab": {
          "base_uri": "https://localhost:8080/"
        },
        "id": "mKB8NtekC8p_",
        "outputId": "52f0c7ed-6e7a-4835-aceb-832b7cc012aa"
      },
      "execution_count": 75,
      "outputs": [
        {
          "output_type": "execute_result",
          "data": {
            "text/plain": [
              "Man                          Mh              \n",
              "VOLKSWAGEN AG                VOLKSWAGEN          1025201\n",
              "PSA AUTOMOBILES SA           PSA                  837207\n",
              "RENAULT SAS                  RENAULT              702723\n",
              "BAYERISCHE MOTOREN WERKE AG  BMW AG               625298\n",
              "MERCEDES-BENZ AG             MERCEDES-BENZ AG     553216\n",
              "                                                  ...   \n",
              "SUZUKI MOTOR CORPORATION     AA-IVA                    1\n",
              "LEEH GROUP KFT               LEEH                      1\n",
              "OPEL AUTOMOBILE GMBH         AA-IVA                    1\n",
              "LONDON EV COMPANY LIMITED    LEVC                      1\n",
              "BAYERISCHE MOTOREN WERKE AG  AA-IVA                    1\n",
              "Length: 166, dtype: int64"
            ]
          },
          "metadata": {},
          "execution_count": 75
        }
      ]
    },
    {
      "cell_type": "markdown",
      "source": [
        "Mh hat weniger Daten, deswegen löschen. Sind dieselben Informationen **Man = Mh**"
      ],
      "metadata": {
        "id": "qVNhTazMDJ-w"
      }
    },
    {
      "cell_type": "markdown",
      "source": [
        "## 3.1 Column (Feature) exploration"
      ],
      "metadata": {
        "id": "6iINO2X6JhZW"
      }
    },
    {
      "cell_type": "code",
      "source": [
        "eaa.columns"
      ],
      "metadata": {
        "colab": {
          "base_uri": "https://localhost:8080/"
        },
        "id": "x_BAiR8O19n2",
        "outputId": "3d07dee3-fa38-41a9-d93d-c88d25400e76"
      },
      "execution_count": 15,
      "outputs": [
        {
          "output_type": "execute_result",
          "data": {
            "text/plain": [
              "Index(['Country', 'VFN', 'Mp', 'Mh', 'Man', 'Tan', 'T', 'Va', 'Ve', 'Mk', 'Cn',\n",
              "       'Ct', 'Cr', 'r', 'm (kg)', 'Mt', 'Enedc (g/km)', 'Ewltp (g/km)',\n",
              "       'W (mm)', 'At1 (mm)', 'At2 (mm)', 'Ft', 'Fm', 'ec (cm3)', 'ep (KW)',\n",
              "       'z (Wh/km)', 'IT', 'Erwltp (g/km)', 'Status', 'year',\n",
              "       'Date of registration', 'Fuel consumption ', 'Electric range (km)'],\n",
              "      dtype='object')"
            ]
          },
          "metadata": {},
          "execution_count": 15
        }
      ]
    },
    {
      "cell_type": "markdown",
      "source": [
        "### 3.1.1 `Country` = Registration country\n"
      ],
      "metadata": {
        "id": "wzBTEBkSNJVN"
      }
    },
    {
      "cell_type": "code",
      "source": [
        "country_counts = eaa['Country'].value_counts()\n",
        "plt.bar(country_counts.index, country_counts.values)\n",
        "plt.xticks(rotation=90)\n",
        "plt.show()"
      ],
      "metadata": {
        "colab": {
          "base_uri": "https://localhost:8080/",
          "height": 459
        },
        "id": "xmlzsKxJ6T3Z",
        "outputId": "ce83cc09-4d54-465a-b842-bf9e30d5ab3f"
      },
      "execution_count": 19,
      "outputs": [
        {
          "output_type": "display_data",
          "data": {
            "text/plain": [
              "<Figure size 640x480 with 1 Axes>"
            ],
            "image/png": "[encoded data removed]"
          },
          "metadata": {}
        }
      ]
    },
    {
      "cell_type": "code",
      "source": [
        "country_percent = eaa['Country'].value_counts() / len(eaa) * 100\n",
        "\n",
        "country_percent"
      ],
      "metadata": {
        "colab": {
          "base_uri": "https://localhost:8080/"
        },
        "id": "gw4bjAgo2fU9",
        "outputId": "891a2caa-b70b-4f12-ae7f-e5c28f0e495f"
      },
      "execution_count": 27,
      "outputs": [
        {
          "output_type": "execute_result",
          "data": {
            "text/plain": [
              "DE    27.122250\n",
              "FR    17.289056\n",
              "IT    13.847328\n",
              "ES     8.978583\n",
              "PL     4.389310\n",
              "BE     3.866929\n",
              "NL     3.226901\n",
              "SE     2.992622\n",
              "AT     2.261712\n",
              "CZ     1.960444\n",
              "NO     1.836701\n",
              "PT     1.646233\n",
              "DK     1.516434\n",
              "RO     1.361622\n",
              "HU     1.171239\n",
              "IE     1.112943\n",
              "GR     1.110116\n",
              "FI     0.838038\n",
              "SK     0.827109\n",
              "SI     0.479055\n",
              "HR     0.452155\n",
              "LU     0.405938\n",
              "BG     0.297955\n",
              "LT     0.263016\n",
              "EE     0.213634\n",
              "IS     0.174359\n",
              "LV     0.172239\n",
              "CY     0.120716\n",
              "MT     0.065364\n",
              "Name: Country, dtype: float64"
            ]
          },
          "metadata": {},
          "execution_count": 27
        }
      ]
    },
    {
      "cell_type": "code",
      "source": [
        "# Sort the data by the 'Enedc (g/km)' column\n",
        "sorted_data = eaa.sort_values(by='Enedc (g/km)', ascending=True)\n",
        "\n",
        "# Initialize the matplotlib figure\n",
        "f, ax = plt.subplots(figsize=(6, 15))\n",
        "\n",
        "# Plot CO2\n",
        "sns.set_color_codes(\"pastel\")\n",
        "sns.barplot(x=\"Enedc (g/km)\", y=\"Country\", data=sorted_data,\n",
        "            label=\"CO2 Enedc (g/km)\", color=\"b\")\n",
        "\n",
        "# Plot CO2 Ft\n",
        "#sns.set_color_codes(\"muted\")\n",
        "#sns.barplot(x=\"Ft\", y=\"Country\", data=sorted_data,\n",
        "#            label=\"Fuel Type\", color=\"b\")\n"
      ],
      "metadata": {
        "colab": {
          "base_uri": "https://localhost:8080/",
          "height": 1000
        },
        "id": "SPSjwqWTNQ6W",
        "outputId": "8a2c84ed-2250-4af3-ae87-ae93a046dd1a"
      },
      "execution_count": 38,
      "outputs": [
        {
          "output_type": "execute_result",
          "data": {
            "text/plain": [
              "<Axes: xlabel='Enedc (g/km)', ylabel='Country'>"
            ]
          },
          "metadata": {},
          "execution_count": 38
        },
        {
          "output_type": "display_data",
          "data": {
            "text/plain": [
              "<Figure size 600x1500 with 1 Axes>"
            ],
            "image/png": "[encoded data removed]"
          },
          "metadata": {}
        }
      ]
    },
    {
      "cell_type": "markdown",
      "source": [
        "### 3.1.2 `VFN` Vehicle family identification number\n",
        "\n",
        "\n",
        "---\n",
        "ID\n",
        "80960000    IP-MLB58_Z_B0_0667-WAU-1\n",
        "77551041    IP-5GB____EAT84556-VR3-0\n",
        "\n",
        "at the moment I couldn't find the key description in the documentation or with internet research\n",
        "\n",
        "-> ***Drop the Column  [`VFN`](#drop)***\n"
      ],
      "metadata": {
        "id": "T-a6fqPZJA_G"
      }
    },
    {
      "cell_type": "code",
      "source": [
        "eaa['VFN'] #"
      ],
      "metadata": {
        "id": "QV2Ol7xP4GIR",
        "colab": {
          "base_uri": "https://localhost:8080/"
        },
        "outputId": "5410d38e-f756-49bb-eabe-16196c13ac46"
      },
      "execution_count": 8,
      "outputs": [
        {
          "output_type": "execute_result",
          "data": {
            "text/plain": [
              "ID\n",
              "80960000    IP-MLB58_Z_B0_0667-WAU-1\n",
              "80960001    IP-MLB58_Z_A0_0659-WAU-1\n",
              "80960002    IP-MLB58_Z_A0_0689-WAU-1\n",
              "80960003    IP-MLB58_Z_C0_0681-WAU-1\n",
              "80960004    IP-MLB58_Z_A0_0689-WAU-1\n",
              "                      ...           \n",
              "77551041    IP-5GB____EAT84556-VR3-0\n",
              "77551042    IP-5GB____EAT84556-VR3-0\n",
              "77551043    IP-5GB____EAT84556-VR3-0\n",
              "77551044    IP-5GB____EAT84556-VR3-0\n",
              "77551045    IP-5GB____EAT84556-VR3-0\n",
              "Name: VFN, Length: 9479280, dtype: object"
            ]
          },
          "metadata": {},
          "execution_count": 8
        }
      ]
    },
    {
      "cell_type": "markdown",
      "source": [],
      "metadata": {
        "id": "xm99JDr_3-IB"
      }
    },
    {
      "cell_type": "code",
      "source": [
        "plt.figure(figsize=(15, 10))\n",
        "sns.barplot(data=eaa, x='Ewltp (g/km)', y='Ft')\n",
        "plt.title('CO2 emissions by fuel type')\n",
        "plt.show();"
      ],
      "metadata": {
        "colab": {
          "base_uri": "https://localhost:8080/",
          "height": 881
        },
        "id": "TX9XoR7KZXwB",
        "outputId": "e39a72e0-e351-4fc2-8b9c-77a0482da372"
      },
      "execution_count": 42,
      "outputs": [
        {
          "output_type": "display_data",
          "data": {
            "text/plain": [
              "<Figure size 1500x1000 with 1 Axes>"
            ],
            "image/png": "[encoded data removed]"
          },
          "metadata": {}
        }
      ]
    },
    {
      "cell_type": "markdown",
      "source": [
        "### 3.1.3 FT - Fuel Type"
      ],
      "metadata": {
        "id": "TR1w2AHg4Xm3"
      }
    },
    {
      "cell_type": "code",
      "source": [
        "eaa['Ft'].value_counts()"
      ],
      "metadata": {
        "colab": {
          "base_uri": "https://localhost:8080/"
        },
        "id": "Swbfa0iA4WbX",
        "outputId": "668fb4c9-c644-405f-aa71-824415e74d86"
      },
      "execution_count": 51,
      "outputs": [
        {
          "output_type": "execute_result",
          "data": {
            "text/plain": [
              "PETROL             5161803\n",
              "DIESEL             1842684\n",
              "ELECTRIC           1276473\n",
              "PETROL/ELECTRIC     854271\n",
              "LPG                 244129\n",
              "DIESEL/ELECTRIC      41494\n",
              "E85                  38905\n",
              "NG                   16277\n",
              "NG-BIOMETHANE         1977\n",
              "HYDROGEN              1238\n",
              "UNKNOWN                 29\n",
              "Name: Ft, dtype: int64"
            ]
          },
          "metadata": {},
          "execution_count": 51
        }
      ]
    },
    {
      "cell_type": "code",
      "source": [
        "eaa['Ft'].value_counts() / len(eaa) * 100"
      ],
      "metadata": {
        "colab": {
          "base_uri": "https://localhost:8080/"
        },
        "id": "GoA8_lA35B_q",
        "outputId": "fd54a64b-6853-4f28-89b6-597cb70509a6"
      },
      "execution_count": 52,
      "outputs": [
        {
          "output_type": "execute_result",
          "data": {
            "text/plain": [
              "PETROL             54.453534\n",
              "DIESEL             19.439071\n",
              "ELECTRIC           13.465928\n",
              "PETROL/ELECTRIC     9.011982\n",
              "LPG                 2.575396\n",
              "DIESEL/ELECTRIC     0.437734\n",
              "E85                 0.410421\n",
              "NG                  0.171711\n",
              "NG-BIOMETHANE       0.020856\n",
              "HYDROGEN            0.013060\n",
              "UNKNOWN             0.000306\n",
              "Name: Ft, dtype: float64"
            ]
          },
          "metadata": {},
          "execution_count": 52
        }
      ]
    },
    {
      "cell_type": "markdown",
      "source": [
        "Petrol + Diesel = 73.9% + Electric = 87.4%\n",
        "\n",
        "Electric will increase for sure because of the law (in Germany)\n"
      ],
      "metadata": {
        "id": "Uo0IKHvj5K6t"
      }
    },
    {
      "cell_type": "markdown",
      "source": [
        "## 3.2 Missing Values"
      ],
      "metadata": {
        "id": "O4x8a7YE3mjw"
      }
    },
    {
      "cell_type": "markdown",
      "source": [
        "## 3.3 Correlation Matrix Heatmap"
      ],
      "metadata": {
        "id": "CeHUL_n0plpp"
      }
    },
    {
      "cell_type": "code",
      "source": [
        "# Calculate the correlation matrix\n",
        "eaa_corr = eaa.corr()\n",
        "\n",
        "print(eaa_corr)"
      ],
      "metadata": {
        "colab": {
          "base_uri": "https://localhost:8080/"
        },
        "id": "sQonT8jPqDQ6",
        "outputId": "527f9a6f-8a51-4762-ec72-38d43789dae5"
      },
      "execution_count": 45,
      "outputs": [
        {
          "output_type": "stream",
          "name": "stderr",
          "text": [
            "<ipython-input-45-e470b8de848d>:2: FutureWarning: The default value of numeric_only in DataFrame.corr is deprecated. In a future version, it will default to False. Select only valid columns or specify the value of numeric_only to silence this warning.\n",
            "  eaa_corr = eaa.corr()\n"
          ]
        },
        {
          "output_type": "stream",
          "name": "stdout",
          "text": [
            "                      r    m (kg)        Mt  Enedc (g/km)  Ewltp (g/km)  \\\n",
            "r                   NaN       NaN       NaN           NaN           NaN   \n",
            "m (kg)              NaN  1.000000  0.992520      0.036086     -0.235841   \n",
            "Mt                  NaN  0.992520  1.000000      0.084813     -0.185058   \n",
            "Enedc (g/km)        NaN  0.036086  0.084813      1.000000      0.903208   \n",
            "Ewltp (g/km)        NaN -0.235841 -0.185058      0.903208      1.000000   \n",
            "W (mm)              NaN  0.789527  0.804378      0.043446      0.054119   \n",
            "At1 (mm)            NaN  0.793632  0.789120      0.175976      0.060460   \n",
            "At2 (mm)            NaN  0.801085  0.800603      0.183181      0.061832   \n",
            "ec (cm3)            NaN  0.740076  0.731159     -0.043230      0.283296   \n",
            "ep (KW)             NaN  0.701465  0.698672     -0.091513      0.034096   \n",
            "z (Wh/km)           NaN  0.642406  0.671182     -0.008149      0.172188   \n",
            "Erwltp (g/km)       NaN -0.175521 -0.213458      0.177794     -0.012418   \n",
            "year                NaN       NaN       NaN           NaN           NaN   \n",
            "Fuel consumption    NaN -0.003844  0.033501      0.464208      0.872632   \n",
            "Electric range (km) NaN  0.160638  0.081179     -0.809190     -0.817002   \n",
            "\n",
            "                       W (mm)  At1 (mm)  At2 (mm)  ec (cm3)   ep (KW)  \\\n",
            "r                         NaN       NaN       NaN       NaN       NaN   \n",
            "m (kg)               0.789527  0.793632  0.801085  0.740076  0.701465   \n",
            "Mt                   0.804378  0.789120  0.800603  0.731159  0.698672   \n",
            "Enedc (g/km)         0.043446  0.175976  0.183181 -0.043230 -0.091513   \n",
            "Ewltp (g/km)         0.054119  0.060460  0.061832  0.283296  0.034096   \n",
            "W (mm)               1.000000  0.798859  0.802535  0.564634  0.547804   \n",
            "At1 (mm)             0.798859  1.000000  0.970751  0.583964  0.592514   \n",
            "At2 (mm)             0.802535  0.970751  1.000000  0.611374  0.603072   \n",
            "ec (cm3)             0.564634  0.583964  0.611374  1.000000  0.796683   \n",
            "ep (KW)              0.547804  0.592514  0.603072  0.796683  1.000000   \n",
            "z (Wh/km)            0.477004  0.550339  0.556742  0.426444  0.382149   \n",
            "Erwltp (g/km)       -0.080569 -0.054953 -0.102328 -0.296795 -0.049147   \n",
            "year                      NaN       NaN       NaN       NaN       NaN   \n",
            "Fuel consumption     0.138435  0.092169  0.103066  0.243954  0.359912   \n",
            "Electric range (km)  0.154570  0.032749 -0.018709  0.120579  0.221893   \n",
            "\n",
            "                     z (Wh/km)  Erwltp (g/km)  year  Fuel consumption   \\\n",
            "r                          NaN            NaN   NaN                NaN   \n",
            "m (kg)                0.642406      -0.175521   NaN          -0.003844   \n",
            "Mt                    0.671182      -0.213458   NaN           0.033501   \n",
            "Enedc (g/km)         -0.008149       0.177794   NaN           0.464208   \n",
            "Ewltp (g/km)          0.172188      -0.012418   NaN           0.872632   \n",
            "W (mm)                0.477004      -0.080569   NaN           0.138435   \n",
            "At1 (mm)              0.550339      -0.054953   NaN           0.092169   \n",
            "At2 (mm)              0.556742      -0.102328   NaN           0.103066   \n",
            "ec (cm3)              0.426444      -0.296795   NaN           0.243954   \n",
            "ep (KW)               0.382149      -0.049147   NaN           0.359912   \n",
            "z (Wh/km)             1.000000      -0.395444   NaN           0.049852   \n",
            "Erwltp (g/km)        -0.395444       1.000000   NaN           0.051395   \n",
            "year                       NaN            NaN   NaN                NaN   \n",
            "Fuel consumption      0.049852       0.051395   NaN           1.000000   \n",
            "Electric range (km)  -0.002424      -0.238173   NaN          -0.138199   \n",
            "\n",
            "                     Electric range (km)  \n",
            "r                                    NaN  \n",
            "m (kg)                          0.160638  \n",
            "Mt                              0.081179  \n",
            "Enedc (g/km)                   -0.809190  \n",
            "Ewltp (g/km)                   -0.817002  \n",
            "W (mm)                          0.154570  \n",
            "At1 (mm)                        0.032749  \n",
            "At2 (mm)                       -0.018709  \n",
            "ec (cm3)                        0.120579  \n",
            "ep (KW)                         0.221893  \n",
            "z (Wh/km)                      -0.002424  \n",
            "Erwltp (g/km)                  -0.238173  \n",
            "year                                 NaN  \n",
            "Fuel consumption               -0.138199  \n",
            "Electric range (km)             1.000000  \n"
          ]
        }
      ]
    },
    {
      "cell_type": "code",
      "source": [
        "eaa_corr_filtered = eaa_corr.stack()\n",
        "\n",
        "# Filter the values in the Series\n",
        "eaa_corr_filtered = eaa_corr_filtered[(eaa_corr_filtered > 0.8) | (eaa_corr_filtered < -0.8)]\n",
        "\n",
        "# Print the filtered correlation matrix\n",
        "print(eaa_corr_filtered)"
      ],
      "metadata": {
        "colab": {
          "base_uri": "https://localhost:8080/"
        },
        "id": "y77_yGoc39la",
        "outputId": "a9906c0c-f465-4150-efd8-aac1eb83fae7"
      },
      "execution_count": 46,
      "outputs": [
        {
          "output_type": "stream",
          "name": "stdout",
          "text": [
            "m (kg)               m (kg)                 1.000000\n",
            "                     Mt                     0.992520\n",
            "                     At2 (mm)               0.801085\n",
            "Mt                   m (kg)                 0.992520\n",
            "                     Mt                     1.000000\n",
            "                     W (mm)                 0.804378\n",
            "                     At2 (mm)               0.800603\n",
            "Enedc (g/km)         Enedc (g/km)           1.000000\n",
            "                     Ewltp (g/km)           0.903208\n",
            "                     Electric range (km)   -0.809190\n",
            "Ewltp (g/km)         Enedc (g/km)           0.903208\n",
            "                     Ewltp (g/km)           1.000000\n",
            "                     Fuel consumption       0.872632\n",
            "                     Electric range (km)   -0.817002\n",
            "W (mm)               Mt                     0.804378\n",
            "                     W (mm)                 1.000000\n",
            "                     At2 (mm)               0.802535\n",
            "At1 (mm)             At1 (mm)               1.000000\n",
            "                     At2 (mm)               0.970751\n",
            "At2 (mm)             m (kg)                 0.801085\n",
            "                     Mt                     0.800603\n",
            "                     W (mm)                 0.802535\n",
            "                     At1 (mm)               0.970751\n",
            "                     At2 (mm)               1.000000\n",
            "ec (cm3)             ec (cm3)               1.000000\n",
            "ep (KW)              ep (KW)                1.000000\n",
            "z (Wh/km)            z (Wh/km)              1.000000\n",
            "Erwltp (g/km)        Erwltp (g/km)          1.000000\n",
            "Fuel consumption     Ewltp (g/km)           0.872632\n",
            "                     Fuel consumption       1.000000\n",
            "Electric range (km)  Enedc (g/km)          -0.809190\n",
            "                     Ewltp (g/km)          -0.817002\n",
            "                     Electric range (km)    1.000000\n",
            "dtype: float64\n"
          ]
        }
      ]
    },
    {
      "cell_type": "code",
      "source": [
        "# Reshape the filtered correlation matrix back into a DataFrame\n",
        "eaa_corr_filtered_df = eaa_corr_filtered.unstack()\n",
        "\n",
        "# Print the filtered correlation matrix as a DataFrame\n",
        "print(eaa_corr_filtered_df)"
      ],
      "metadata": {
        "colab": {
          "base_uri": "https://localhost:8080/"
        },
        "id": "IjRbbs0dyUbM",
        "outputId": "2231f5e5-6066-4be1-d762-e5ec22151702"
      },
      "execution_count": 33,
      "outputs": [
        {
          "output_type": "stream",
          "name": "stdout",
          "text": [
            "                       m (kg)        Mt  At2 (mm)    W (mm)  Enedc (g/km)  \\\n",
            "m (kg)               1.000000  0.992520  0.801085       NaN           NaN   \n",
            "Mt                   0.992520  1.000000  0.800603  0.804378           NaN   \n",
            "Enedc (g/km)              NaN       NaN       NaN       NaN      1.000000   \n",
            "Ewltp (g/km)              NaN       NaN       NaN       NaN      0.903208   \n",
            "W (mm)                    NaN  0.804378  0.802535  1.000000           NaN   \n",
            "At1 (mm)                  NaN       NaN  0.970751       NaN           NaN   \n",
            "At2 (mm)             0.801085  0.800603  1.000000  0.802535           NaN   \n",
            "ec (cm3)                  NaN       NaN       NaN       NaN           NaN   \n",
            "ep (KW)                   NaN       NaN       NaN       NaN           NaN   \n",
            "z (Wh/km)                 NaN       NaN       NaN       NaN           NaN   \n",
            "Erwltp (g/km)             NaN       NaN       NaN       NaN           NaN   \n",
            "Fuel consumption          NaN       NaN       NaN       NaN           NaN   \n",
            "Electric range (km)       NaN       NaN       NaN       NaN     -0.809190   \n",
            "\n",
            "                     Ewltp (g/km)  Electric range (km)  Fuel consumption   \\\n",
            "m (kg)                        NaN                  NaN                NaN   \n",
            "Mt                            NaN                  NaN                NaN   \n",
            "Enedc (g/km)             0.903208            -0.809190                NaN   \n",
            "Ewltp (g/km)             1.000000            -0.817002           0.872632   \n",
            "W (mm)                        NaN                  NaN                NaN   \n",
            "At1 (mm)                      NaN                  NaN                NaN   \n",
            "At2 (mm)                      NaN                  NaN                NaN   \n",
            "ec (cm3)                      NaN                  NaN                NaN   \n",
            "ep (KW)                       NaN                  NaN                NaN   \n",
            "z (Wh/km)                     NaN                  NaN                NaN   \n",
            "Erwltp (g/km)                 NaN                  NaN                NaN   \n",
            "Fuel consumption         0.872632                  NaN           1.000000   \n",
            "Electric range (km)     -0.817002             1.000000                NaN   \n",
            "\n",
            "                     At1 (mm)  ec (cm3)  ep (KW)  z (Wh/km)  Erwltp (g/km)  \n",
            "m (kg)                    NaN       NaN      NaN        NaN            NaN  \n",
            "Mt                        NaN       NaN      NaN        NaN            NaN  \n",
            "Enedc (g/km)              NaN       NaN      NaN        NaN            NaN  \n",
            "Ewltp (g/km)              NaN       NaN      NaN        NaN            NaN  \n",
            "W (mm)                    NaN       NaN      NaN        NaN            NaN  \n",
            "At1 (mm)             1.000000       NaN      NaN        NaN            NaN  \n",
            "At2 (mm)             0.970751       NaN      NaN        NaN            NaN  \n",
            "ec (cm3)                  NaN       1.0      NaN        NaN            NaN  \n",
            "ep (KW)                   NaN       NaN      1.0        NaN            NaN  \n",
            "z (Wh/km)                 NaN       NaN      NaN        1.0            NaN  \n",
            "Erwltp (g/km)             NaN       NaN      NaN        NaN            1.0  \n",
            "Fuel consumption          NaN       NaN      NaN        NaN            NaN  \n",
            "Electric range (km)       NaN       NaN      NaN        NaN            NaN  \n"
          ]
        }
      ]
    },
    {
      "cell_type": "code",
      "source": [
        "corr_focus = eaa_corr[['m (kg)', 'Mt', 'Enedc (g/km)', 'Ewltp (g/km)', 'W (mm)','At1 (mm)', 'ec (cm3)','ep (KW)', 'z (Wh/km)', 'Erwltp (g/km)', 'Electric range (km)']]\n",
        "\n",
        "print(corr_focus)"
      ],
      "metadata": {
        "colab": {
          "base_uri": "https://localhost:8080/"
        },
        "id": "W6aG8PlMwVR2",
        "outputId": "1b906755-f21e-43d9-89f4-4846ca932553"
      },
      "execution_count": 54,
      "outputs": [
        {
          "output_type": "stream",
          "name": "stdout",
          "text": [
            "                       m (kg)        Mt  Enedc (g/km)  Ewltp (g/km)    W (mm)  \\\n",
            "r                         NaN       NaN           NaN           NaN       NaN   \n",
            "m (kg)               1.000000  0.992520      0.036086     -0.235841  0.789527   \n",
            "Mt                   0.992520  1.000000      0.084813     -0.185058  0.804378   \n",
            "Enedc (g/km)         0.036086  0.084813      1.000000      0.903208  0.043446   \n",
            "Ewltp (g/km)        -0.235841 -0.185058      0.903208      1.000000  0.054119   \n",
            "W (mm)               0.789527  0.804378      0.043446      0.054119  1.000000   \n",
            "At1 (mm)             0.793632  0.789120      0.175976      0.060460  0.798859   \n",
            "At2 (mm)             0.801085  0.800603      0.183181      0.061832  0.802535   \n",
            "ec (cm3)             0.740076  0.731159     -0.043230      0.283296  0.564634   \n",
            "ep (KW)              0.701465  0.698672     -0.091513      0.034096  0.547804   \n",
            "z (Wh/km)            0.642406  0.671182     -0.008149      0.172188  0.477004   \n",
            "Erwltp (g/km)       -0.175521 -0.213458      0.177794     -0.012418 -0.080569   \n",
            "year                      NaN       NaN           NaN           NaN       NaN   \n",
            "Fuel consumption    -0.003844  0.033501      0.464208      0.872632  0.138435   \n",
            "Electric range (km)  0.160638  0.081179     -0.809190     -0.817002  0.154570   \n",
            "\n",
            "                     At1 (mm)  ec (cm3)   ep (KW)  z (Wh/km)  Erwltp (g/km)  \\\n",
            "r                         NaN       NaN       NaN        NaN            NaN   \n",
            "m (kg)               0.793632  0.740076  0.701465   0.642406      -0.175521   \n",
            "Mt                   0.789120  0.731159  0.698672   0.671182      -0.213458   \n",
            "Enedc (g/km)         0.175976 -0.043230 -0.091513  -0.008149       0.177794   \n",
            "Ewltp (g/km)         0.060460  0.283296  0.034096   0.172188      -0.012418   \n",
            "W (mm)               0.798859  0.564634  0.547804   0.477004      -0.080569   \n",
            "At1 (mm)             1.000000  0.583964  0.592514   0.550339      -0.054953   \n",
            "At2 (mm)             0.970751  0.611374  0.603072   0.556742      -0.102328   \n",
            "ec (cm3)             0.583964  1.000000  0.796683   0.426444      -0.296795   \n",
            "ep (KW)              0.592514  0.796683  1.000000   0.382149      -0.049147   \n",
            "z (Wh/km)            0.550339  0.426444  0.382149   1.000000      -0.395444   \n",
            "Erwltp (g/km)       -0.054953 -0.296795 -0.049147  -0.395444       1.000000   \n",
            "year                      NaN       NaN       NaN        NaN            NaN   \n",
            "Fuel consumption     0.092169  0.243954  0.359912   0.049852       0.051395   \n",
            "Electric range (km)  0.032749  0.120579  0.221893  -0.002424      -0.238173   \n",
            "\n",
            "                     Electric range (km)  \n",
            "r                                    NaN  \n",
            "m (kg)                          0.160638  \n",
            "Mt                              0.081179  \n",
            "Enedc (g/km)                   -0.809190  \n",
            "Ewltp (g/km)                   -0.817002  \n",
            "W (mm)                          0.154570  \n",
            "At1 (mm)                        0.032749  \n",
            "At2 (mm)                       -0.018709  \n",
            "ec (cm3)                        0.120579  \n",
            "ep (KW)                         0.221893  \n",
            "z (Wh/km)                      -0.002424  \n",
            "Erwltp (g/km)                  -0.238173  \n",
            "year                                 NaN  \n",
            "Fuel consumption               -0.138199  \n",
            "Electric range (km)             1.000000  \n"
          ]
        }
      ]
    },
    {
      "cell_type": "markdown",
      "source": [
        "\n",
        "**Untersuchen, schein correlation**\n",
        "\n",
        "\n",
        "\n",
        "1.   Mt und m (Kg)\n",
        "2.   Enedc (g/km) & Ewltp (g/km)\n",
        "3.   A1 + A2\n",
        "\n",
        "\n",
        "\n"
      ],
      "metadata": {
        "id": "Jx_oZk0Q2-3a"
      }
    },
    {
      "cell_type": "markdown",
      "source": [
        "![image.png](data:image/png;base64,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)"
      ],
      "metadata": {
        "id": "zJ75Ty6Z2wpq"
      }
    },
    {
      "cell_type": "code",
      "source": [
        "eaa[['At1 (mm)','At2 (mm)']].value_counts()"
      ],
      "metadata": {
        "colab": {
          "base_uri": "https://localhost:8080/"
        },
        "id": "CGDW3HcO9G_C",
        "outputId": "38d199a6-218a-4afc-f514-e7a28515aab0"
      },
      "execution_count": 67,
      "outputs": [
        {
          "output_type": "execute_result",
          "data": {
            "text/plain": [
              "At1 (mm)  At2 (mm)\n",
              "1520.0    1520.0      325856\n",
              "1500.0    1500.0      275175\n",
              "1550.0    1550.0      171454\n",
              "1615.0    1622.0      165911\n",
              "1530.0    1530.0      160983\n",
              "                       ...  \n",
              "1561.0    1558.0           1\n",
              "          1554.0           1\n",
              "          1536.0           1\n",
              "          1516.0           1\n",
              "3000.0    3000.0           1\n",
              "Length: 3399, dtype: int64"
            ]
          },
          "metadata": {},
          "execution_count": 67
        }
      ]
    },
    {
      "cell_type": "code",
      "source": [
        "eaa[['At1 (mm)', 'At2 (mm)']].plot.hist(bins=20, alpha=0.5)\n",
        "\n",
        "plt.show()"
      ],
      "metadata": {
        "colab": {
          "base_uri": "https://localhost:8080/",
          "height": 445
        },
        "id": "hyP7UUbl9kqn",
        "outputId": "4d88f131-2cf9-491a-8b83-edda5fcd6bb2"
      },
      "execution_count": 68,
      "outputs": [
        {
          "output_type": "display_data",
          "data": {
            "text/plain": [
              "<Figure size 640x480 with 1 Axes>"
            ],
            "image/png": "[encoded data removed]"
          },
          "metadata": {}
        }
      ]
    },
    {
      "cell_type": "code",
      "source": [
        "# Create a heatmap\n",
        "plt.figure(figsize=(30, 25))\n",
        "sns.heatmap(corr_focus, annot=True, cmap='coolwarm', center=0)\n",
        "plt.title('Correlation Heatmap')\n",
        "\n",
        "# Show the heatmap\n",
        "plt.show()"
      ],
      "metadata": {
        "colab": {
          "base_uri": "https://localhost:8080/",
          "height": 1000
        },
        "id": "Vnpl4-CMprfW",
        "outputId": "ddd08f0c-950a-4a6e-90bf-627c740f7504"
      },
      "execution_count": 42,
      "outputs": [
        {
          "output_type": "display_data",
          "data": {
            "text/plain": [
              "<Figure size 3000x2500 with 2 Axes>"
            ],
            "image/png": "[encoded data removed]"
          },
          "metadata": {}
        }
      ]
    },
    {
      "cell_type": "code",
      "source": [
        "# missing values in [%]\n",
        "missing_percent = (eaa.isnull().sum() / len(eaa)) * 100\n",
        "\n",
        "# show all NA over 80%\n",
        "columns_with_high_missing = missing_percent[missing_percent > 80]\n",
        "\n",
        "# Display missing Values > 80%\n",
        "print(\"Spalten mit mehr als 80% fehlenden Werten:\")\n",
        "print(columns_with_high_missing)"
      ],
      "metadata": {
        "colab": {
          "base_uri": "https://localhost:8080/"
        },
        "id": "5c-Fh13n3pye",
        "outputId": "e307b420-7a03-4720-c37c-9d832fa7ee49"
      },
      "execution_count": 39,
      "outputs": [
        {
          "output_type": "stream",
          "name": "stdout",
          "text": [
            "Spalten mit mehr als 80% fehlenden Werten:\n",
            "Enedc (g/km)           83.870948\n",
            "Electric range (km)    82.990544\n",
            "dtype: float64\n"
          ]
        }
      ]
    }
  ]
}